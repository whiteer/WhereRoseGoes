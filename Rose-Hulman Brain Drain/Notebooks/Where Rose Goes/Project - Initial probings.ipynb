{
 "metadata": {
  "name": ""
 },
 "nbformat": 3,
 "nbformat_minor": 0,
 "worksheets": [
  {
   "cells": [
    {
     "cell_type": "code",
     "collapsed": false,
     "input": [
      "cd ../../Google Drive/My Media/General/Education/Rose-Hulman/2013 - 2014 School year/11) Winter 2013-2014/CSSE 490/Project/Rose-Hulman Brain Drain"
     ],
     "language": "python",
     "metadata": {},
     "outputs": [
      {
       "output_type": "stream",
       "stream": "stdout",
       "text": [
        "C:\\Users\\whiteer\\Google Drive\\My Media\\General\\Education\\Rose-Hulman\\2013 - 2014 School year\\11) Winter 2013-2014\\CSSE 490\\Project\\Rose-Hulman Brain Drain\n"
       ]
      }
     ],
     "prompt_number": 1
    },
    {
     "cell_type": "code",
     "collapsed": false,
     "input": [
      "import pandas as pd\n",
      "import numpy as np\n",
      "import urllib2\n",
      "import time"
     ],
     "language": "python",
     "metadata": {},
     "outputs": [],
     "prompt_number": 37
    },
    {
     "cell_type": "code",
     "collapsed": false,
     "input": [
      "data = pd.read_csv('5 Year Hiring History.csv', header = 0, names = ['Company', 'Major', 'City', 'State', 'Accept'], converters = {'Company' : strip, 'Major' : stripAndUpperCase, 'City' : stripAndTitle, 'State' : stripAndUpperCase, 'Accept' : stripAndUpperCase})"
     ],
     "language": "python",
     "metadata": {},
     "outputs": [],
     "prompt_number": 8
    },
    {
     "cell_type": "code",
     "collapsed": false,
     "input": [
      "data.head()"
     ],
     "language": "python",
     "metadata": {},
     "outputs": [
      {
       "html": [
        "<div style=\"max-height:1000px;max-width:1500px;overflow:auto;\">\n",
        "<table border=\"1\" class=\"dataframe\">\n",
        "  <thead>\n",
        "    <tr style=\"text-align: right;\">\n",
        "      <th></th>\n",
        "      <th>Company</th>\n",
        "      <th>Major</th>\n",
        "      <th>City</th>\n",
        "      <th>State</th>\n",
        "      <th>Accept</th>\n",
        "    </tr>\n",
        "  </thead>\n",
        "  <tbody>\n",
        "    <tr>\n",
        "      <th>0</th>\n",
        "      <td> Accelerated Machine &amp; Design</td>\n",
        "      <td>  ME</td>\n",
        "      <td> Rockford</td>\n",
        "      <td> IL</td>\n",
        "      <td> A</td>\n",
        "    </tr>\n",
        "    <tr>\n",
        "      <th>1</th>\n",
        "      <td>                          ADM</td>\n",
        "      <td> CHE</td>\n",
        "      <td>  Decatur</td>\n",
        "      <td> IL</td>\n",
        "      <td> A</td>\n",
        "    </tr>\n",
        "    <tr>\n",
        "      <th>2</th>\n",
        "      <td>                          ADM</td>\n",
        "      <td> CHE</td>\n",
        "      <td>  Clinton</td>\n",
        "      <td> IA</td>\n",
        "      <td> A</td>\n",
        "    </tr>\n",
        "    <tr>\n",
        "      <th>3</th>\n",
        "      <td>                          ADM</td>\n",
        "      <td>  EE</td>\n",
        "      <td>  Lincoln</td>\n",
        "      <td> NB</td>\n",
        "      <td> A</td>\n",
        "    </tr>\n",
        "    <tr>\n",
        "      <th>4</th>\n",
        "      <td> ADM (Archer Daniels Midland)</td>\n",
        "      <td>  EE</td>\n",
        "      <td>  Decatur</td>\n",
        "      <td> IL</td>\n",
        "      <td> A</td>\n",
        "    </tr>\n",
        "  </tbody>\n",
        "</table>\n",
        "</div>"
       ],
       "metadata": {},
       "output_type": "pyout",
       "prompt_number": 9,
       "text": [
        "                        Company Major      City State Accept\n",
        "0  Accelerated Machine & Design    ME  Rockford    IL      A\n",
        "1                           ADM   CHE   Decatur    IL      A\n",
        "2                           ADM   CHE   Clinton    IA      A\n",
        "3                           ADM    EE   Lincoln    NB      A\n",
        "4  ADM (Archer Daniels Midland)    EE   Decatur    IL      A"
       ]
      }
     ],
     "prompt_number": 9
    },
    {
     "cell_type": "code",
     "collapsed": false,
     "input": [
      "data['StateCity'] = data[['City','State']].apply(tuple, axis = 1)"
     ],
     "language": "python",
     "metadata": {},
     "outputs": [],
     "prompt_number": 10
    },
    {
     "cell_type": "code",
     "collapsed": false,
     "input": [
      "data.head()"
     ],
     "language": "python",
     "metadata": {},
     "outputs": [
      {
       "html": [
        "<div style=\"max-height:1000px;max-width:1500px;overflow:auto;\">\n",
        "<table border=\"1\" class=\"dataframe\">\n",
        "  <thead>\n",
        "    <tr style=\"text-align: right;\">\n",
        "      <th></th>\n",
        "      <th>Company</th>\n",
        "      <th>Major</th>\n",
        "      <th>City</th>\n",
        "      <th>State</th>\n",
        "      <th>Accept</th>\n",
        "      <th>StateCity</th>\n",
        "    </tr>\n",
        "  </thead>\n",
        "  <tbody>\n",
        "    <tr>\n",
        "      <th>0</th>\n",
        "      <td> Accelerated Machine &amp; Design</td>\n",
        "      <td>  ME</td>\n",
        "      <td> Rockford</td>\n",
        "      <td> IL</td>\n",
        "      <td> A</td>\n",
        "      <td> (Rockford, IL)</td>\n",
        "    </tr>\n",
        "    <tr>\n",
        "      <th>1</th>\n",
        "      <td>                          ADM</td>\n",
        "      <td> CHE</td>\n",
        "      <td>  Decatur</td>\n",
        "      <td> IL</td>\n",
        "      <td> A</td>\n",
        "      <td>  (Decatur, IL)</td>\n",
        "    </tr>\n",
        "    <tr>\n",
        "      <th>2</th>\n",
        "      <td>                          ADM</td>\n",
        "      <td> CHE</td>\n",
        "      <td>  Clinton</td>\n",
        "      <td> IA</td>\n",
        "      <td> A</td>\n",
        "      <td>  (Clinton, IA)</td>\n",
        "    </tr>\n",
        "    <tr>\n",
        "      <th>3</th>\n",
        "      <td>                          ADM</td>\n",
        "      <td>  EE</td>\n",
        "      <td>  Lincoln</td>\n",
        "      <td> NB</td>\n",
        "      <td> A</td>\n",
        "      <td>  (Lincoln, NB)</td>\n",
        "    </tr>\n",
        "    <tr>\n",
        "      <th>4</th>\n",
        "      <td> ADM (Archer Daniels Midland)</td>\n",
        "      <td>  EE</td>\n",
        "      <td>  Decatur</td>\n",
        "      <td> IL</td>\n",
        "      <td> A</td>\n",
        "      <td>  (Decatur, IL)</td>\n",
        "    </tr>\n",
        "  </tbody>\n",
        "</table>\n",
        "</div>"
       ],
       "metadata": {},
       "output_type": "pyout",
       "prompt_number": 11,
       "text": [
        "                        Company Major      City State Accept       StateCity\n",
        "0  Accelerated Machine & Design    ME  Rockford    IL      A  (Rockford, IL)\n",
        "1                           ADM   CHE   Decatur    IL      A   (Decatur, IL)\n",
        "2                           ADM   CHE   Clinton    IA      A   (Clinton, IA)\n",
        "3                           ADM    EE   Lincoln    NB      A   (Lincoln, NB)\n",
        "4  ADM (Archer Daniels Midland)    EE   Decatur    IL      A   (Decatur, IL)"
       ]
      }
     ],
     "prompt_number": 11
    },
    {
     "cell_type": "code",
     "collapsed": false,
     "input": [
      "accept = data.groupby(data.Accept)"
     ],
     "language": "python",
     "metadata": {},
     "outputs": [],
     "prompt_number": 53
    },
    {
     "cell_type": "code",
     "collapsed": false,
     "input": [
      "City_State = data.groupby(data.StateCity)"
     ],
     "language": "python",
     "metadata": {},
     "outputs": [],
     "prompt_number": 12
    },
    {
     "cell_type": "code",
     "collapsed": false,
     "input": [
      "City_State.head()"
     ],
     "language": "python",
     "metadata": {},
     "outputs": [
      {
       "html": [
        "<pre>\n",
        "&lt;class 'pandas.core.frame.DataFrame'&gt;\n",
        "MultiIndex: 706 entries, ((Addision, TX), 5) to ((Zeeland, MI), 846)\n",
        "Data columns (total 6 columns):\n",
        "Company      706  non-null values\n",
        "Major        706  non-null values\n",
        "City         706  non-null values\n",
        "State        706  non-null values\n",
        "Accept       706  non-null values\n",
        "StateCity    706  non-null values\n",
        "dtypes: object(6)\n",
        "</pre>"
       ],
       "metadata": {},
       "output_type": "pyout",
       "prompt_number": 21,
       "text": [
        "<class 'pandas.core.frame.DataFrame'>\n",
        "MultiIndex: 706 entries, ((Addision, TX), 5) to ((Zeeland, MI), 846)\n",
        "Data columns (total 6 columns):\n",
        "Company      706  non-null values\n",
        "Major        706  non-null values\n",
        "City         706  non-null values\n",
        "State        706  non-null values\n",
        "Accept       706  non-null values\n",
        "StateCity    706  non-null values\n",
        "dtypes: object(6)"
       ]
      }
     ],
     "prompt_number": 21
    },
    {
     "cell_type": "code",
     "collapsed": false,
     "input": [
      "uniqueCityState = data.StateCity.unique()"
     ],
     "language": "python",
     "metadata": {},
     "outputs": [],
     "prompt_number": 24
    },
    {
     "cell_type": "code",
     "collapsed": false,
     "input": [
      "uniqueCityState[1]"
     ],
     "language": "python",
     "metadata": {},
     "outputs": [
      {
       "metadata": {},
       "output_type": "pyout",
       "prompt_number": 26,
       "text": [
        "('Decatur', 'IL')"
       ]
      }
     ],
     "prompt_number": 26
    },
    {
     "cell_type": "code",
     "collapsed": false,
     "input": [
      "replaceString = \"http://maps.googleapis.com/maps/api/geocode/json?address=+REPLACEMECITY,+REPLACEMESTATE&sensor=false\""
     ],
     "language": "python",
     "metadata": {},
     "outputs": [],
     "prompt_number": 59
    },
    {
     "cell_type": "code",
     "collapsed": false,
     "input": [
      "replaceString = replaceString.replace(\"REPLACEMECITY\", City.replace(\" \", \"+\"))\n",
      "replaceString = replaceString.replace(\"REPLACEMESTATE\", State)\n",
      "XMLstream = urllib2.urlopen(replaceString).read()\n",
      "lat = float(XMLstream[XMLstream.find(\"lat\\\" : \",XMLstream.find(\"location\")) + 7:XMLstream.find(\",\",XMLstream.find(\"location\"))])\n",
      "lng = float(XMLstream[XMLstream.find(\"lng\\\" : \",XMLstream.find(\"location\")) + 7:XMLstream.find(\"\\n\",XMLstream.find(\"lng\\\" : \",XMLstream.find(\"location\")))])"
     ],
     "language": "python",
     "metadata": {},
     "outputs": [],
     "prompt_number": 77
    },
    {
     "cell_type": "code",
     "collapsed": false,
     "input": [
      "lat"
     ],
     "language": "python",
     "metadata": {},
     "outputs": [
      {
       "metadata": {},
       "output_type": "pyout",
       "prompt_number": 78,
       "text": [
        "41.15783769999999"
       ]
      }
     ],
     "prompt_number": 78
    },
    {
     "cell_type": "code",
     "collapsed": false,
     "input": [
      "print \"hello\""
     ],
     "language": "python",
     "metadata": {},
     "outputs": [
      {
       "output_type": "stream",
       "stream": "stdout",
       "text": [
        "hello\n"
       ]
      }
     ],
     "prompt_number": 116
    },
    {
     "cell_type": "code",
     "collapsed": false,
     "input": [
      "def getGeoCoordinates(City, State):\n",
      "    replaceString = \"http://maps.googleapis.com/maps/api/geocode/json?address=+REPLACEMECITY,+REPLACEMESTATE&sensor=false\"\n",
      "    \n",
      "    replaceString = replaceString.replace(\"REPLACEMECITY\", City.replace(\" \", \"+\"))\n",
      "    replaceString = replaceString.replace(\"REPLACEMESTATE\", State)\n",
      "    XMLstream = urllib2.urlopen(replaceString).read()\n",
      "    lat = float(XMLstream[XMLstream.find(\"lat\\\" : \",XMLstream.find(\"location\")) + 7:XMLstream.find(\",\",XMLstream.find(\"location\"))])\n",
      "    lng = float(XMLstream[XMLstream.find(\"lng\\\" : \",XMLstream.find(\"location\")) + 7:XMLstream.find(\"\\n\",XMLstream.find(\"lng\\\" : \",XMLstream.find(\"location\")))])\n",
      "    time.sleep(1)\n",
      "    return lat, lng"
     ],
     "language": "python",
     "metadata": {},
     "outputs": [],
     "prompt_number": 38
    },
    {
     "cell_type": "code",
     "collapsed": false,
     "input": [
      "data['Lats'], data['Longs'] = np.vectorize(getGeoCoordinates)(data['City'],data['State'])"
     ],
     "language": "python",
     "metadata": {},
     "outputs": [
      {
       "ename": "ValueError",
       "evalue": "could not convert string to float: results\" : [],\n   \"status\" : \"INVALID_REQUEST\"\n}",
       "output_type": "pyerr",
       "traceback": [
        "\u001b[1;31m---------------------------------------------------------------------------\u001b[0m\n\u001b[1;31mValueError\u001b[0m                                Traceback (most recent call last)",
        "\u001b[1;32m<ipython-input-39-ac67e5400e44>\u001b[0m in \u001b[0;36m<module>\u001b[1;34m()\u001b[0m\n\u001b[1;32m----> 1\u001b[1;33m \u001b[0mdata\u001b[0m\u001b[1;33m[\u001b[0m\u001b[1;34m'Lats'\u001b[0m\u001b[1;33m]\u001b[0m\u001b[1;33m,\u001b[0m \u001b[0mdata\u001b[0m\u001b[1;33m[\u001b[0m\u001b[1;34m'Longs'\u001b[0m\u001b[1;33m]\u001b[0m \u001b[1;33m=\u001b[0m \u001b[0mnp\u001b[0m\u001b[1;33m.\u001b[0m\u001b[0mvectorize\u001b[0m\u001b[1;33m(\u001b[0m\u001b[0mgetGeoCoordinates\u001b[0m\u001b[1;33m)\u001b[0m\u001b[1;33m(\u001b[0m\u001b[0mdata\u001b[0m\u001b[1;33m[\u001b[0m\u001b[1;34m'City'\u001b[0m\u001b[1;33m]\u001b[0m\u001b[1;33m,\u001b[0m\u001b[0mdata\u001b[0m\u001b[1;33m[\u001b[0m\u001b[1;34m'State'\u001b[0m\u001b[1;33m]\u001b[0m\u001b[1;33m)\u001b[0m\u001b[1;33m\u001b[0m\u001b[0m\n\u001b[0m",
        "\u001b[1;32mC:\\Users\\whiteer\\Anaconda\\lib\\site-packages\\numpy\\lib\\function_base.pyc\u001b[0m in \u001b[0;36m__call__\u001b[1;34m(self, *args, **kwargs)\u001b[0m\n\u001b[0;32m   1871\u001b[0m             \u001b[0mvargs\u001b[0m\u001b[1;33m.\u001b[0m\u001b[0mextend\u001b[0m\u001b[1;33m(\u001b[0m\u001b[1;33m[\u001b[0m\u001b[0mkwargs\u001b[0m\u001b[1;33m[\u001b[0m\u001b[0m_n\u001b[0m\u001b[1;33m]\u001b[0m \u001b[1;32mfor\u001b[0m \u001b[0m_n\u001b[0m \u001b[1;32min\u001b[0m \u001b[0mnames\u001b[0m\u001b[1;33m]\u001b[0m\u001b[1;33m)\u001b[0m\u001b[1;33m\u001b[0m\u001b[0m\n\u001b[0;32m   1872\u001b[0m \u001b[1;33m\u001b[0m\u001b[0m\n\u001b[1;32m-> 1873\u001b[1;33m         \u001b[1;32mreturn\u001b[0m \u001b[0mself\u001b[0m\u001b[1;33m.\u001b[0m\u001b[0m_vectorize_call\u001b[0m\u001b[1;33m(\u001b[0m\u001b[0mfunc\u001b[0m\u001b[1;33m=\u001b[0m\u001b[0mfunc\u001b[0m\u001b[1;33m,\u001b[0m \u001b[0margs\u001b[0m\u001b[1;33m=\u001b[0m\u001b[0mvargs\u001b[0m\u001b[1;33m)\u001b[0m\u001b[1;33m\u001b[0m\u001b[0m\n\u001b[0m\u001b[0;32m   1874\u001b[0m \u001b[1;33m\u001b[0m\u001b[0m\n\u001b[0;32m   1875\u001b[0m     \u001b[1;32mdef\u001b[0m \u001b[0m_get_ufunc_and_otypes\u001b[0m\u001b[1;33m(\u001b[0m\u001b[0mself\u001b[0m\u001b[1;33m,\u001b[0m \u001b[0mfunc\u001b[0m\u001b[1;33m,\u001b[0m \u001b[0margs\u001b[0m\u001b[1;33m)\u001b[0m\u001b[1;33m:\u001b[0m\u001b[1;33m\u001b[0m\u001b[0m\n",
        "\u001b[1;32mC:\\Users\\whiteer\\Anaconda\\lib\\site-packages\\numpy\\lib\\function_base.pyc\u001b[0m in \u001b[0;36m_vectorize_call\u001b[1;34m(self, func, args)\u001b[0m\n\u001b[0;32m   1937\u001b[0m                       for _a in args]            \n\u001b[0;32m   1938\u001b[0m \u001b[1;33m\u001b[0m\u001b[0m\n\u001b[1;32m-> 1939\u001b[1;33m             \u001b[0moutputs\u001b[0m \u001b[1;33m=\u001b[0m \u001b[0mufunc\u001b[0m\u001b[1;33m(\u001b[0m\u001b[1;33m*\u001b[0m\u001b[0minputs\u001b[0m\u001b[1;33m)\u001b[0m\u001b[1;33m\u001b[0m\u001b[0m\n\u001b[0m\u001b[0;32m   1940\u001b[0m \u001b[1;33m\u001b[0m\u001b[0m\n\u001b[0;32m   1941\u001b[0m             \u001b[1;32mif\u001b[0m \u001b[0mufunc\u001b[0m\u001b[1;33m.\u001b[0m\u001b[0mnout\u001b[0m \u001b[1;33m==\u001b[0m \u001b[1;36m1\u001b[0m\u001b[1;33m:\u001b[0m\u001b[1;33m\u001b[0m\u001b[0m\n",
        "\u001b[1;32m<ipython-input-38-6607836af1db>\u001b[0m in \u001b[0;36mgetGeoCoordinates\u001b[1;34m(City, State)\u001b[0m\n\u001b[0;32m      5\u001b[0m     \u001b[0mreplaceString\u001b[0m \u001b[1;33m=\u001b[0m \u001b[0mreplaceString\u001b[0m\u001b[1;33m.\u001b[0m\u001b[0mreplace\u001b[0m\u001b[1;33m(\u001b[0m\u001b[1;34m\"REPLACEMESTATE\"\u001b[0m\u001b[1;33m,\u001b[0m \u001b[0mState\u001b[0m\u001b[1;33m)\u001b[0m\u001b[1;33m\u001b[0m\u001b[0m\n\u001b[0;32m      6\u001b[0m     \u001b[0mXMLstream\u001b[0m \u001b[1;33m=\u001b[0m \u001b[0murllib2\u001b[0m\u001b[1;33m.\u001b[0m\u001b[0murlopen\u001b[0m\u001b[1;33m(\u001b[0m\u001b[0mreplaceString\u001b[0m\u001b[1;33m)\u001b[0m\u001b[1;33m.\u001b[0m\u001b[0mread\u001b[0m\u001b[1;33m(\u001b[0m\u001b[1;33m)\u001b[0m\u001b[1;33m\u001b[0m\u001b[0m\n\u001b[1;32m----> 7\u001b[1;33m     \u001b[0mlat\u001b[0m \u001b[1;33m=\u001b[0m \u001b[0mfloat\u001b[0m\u001b[1;33m(\u001b[0m\u001b[0mXMLstream\u001b[0m\u001b[1;33m[\u001b[0m\u001b[0mXMLstream\u001b[0m\u001b[1;33m.\u001b[0m\u001b[0mfind\u001b[0m\u001b[1;33m(\u001b[0m\u001b[1;34m\"lat\\\" : \"\u001b[0m\u001b[1;33m,\u001b[0m\u001b[0mXMLstream\u001b[0m\u001b[1;33m.\u001b[0m\u001b[0mfind\u001b[0m\u001b[1;33m(\u001b[0m\u001b[1;34m\"location\"\u001b[0m\u001b[1;33m)\u001b[0m\u001b[1;33m)\u001b[0m \u001b[1;33m+\u001b[0m \u001b[1;36m7\u001b[0m\u001b[1;33m:\u001b[0m\u001b[0mXMLstream\u001b[0m\u001b[1;33m.\u001b[0m\u001b[0mfind\u001b[0m\u001b[1;33m(\u001b[0m\u001b[1;34m\",\"\u001b[0m\u001b[1;33m,\u001b[0m\u001b[0mXMLstream\u001b[0m\u001b[1;33m.\u001b[0m\u001b[0mfind\u001b[0m\u001b[1;33m(\u001b[0m\u001b[1;34m\"location\"\u001b[0m\u001b[1;33m)\u001b[0m\u001b[1;33m)\u001b[0m\u001b[1;33m]\u001b[0m\u001b[1;33m)\u001b[0m\u001b[1;33m\u001b[0m\u001b[0m\n\u001b[0m\u001b[0;32m      8\u001b[0m     \u001b[0mlng\u001b[0m \u001b[1;33m=\u001b[0m \u001b[0mfloat\u001b[0m\u001b[1;33m(\u001b[0m\u001b[0mXMLstream\u001b[0m\u001b[1;33m[\u001b[0m\u001b[0mXMLstream\u001b[0m\u001b[1;33m.\u001b[0m\u001b[0mfind\u001b[0m\u001b[1;33m(\u001b[0m\u001b[1;34m\"lng\\\" : \"\u001b[0m\u001b[1;33m,\u001b[0m\u001b[0mXMLstream\u001b[0m\u001b[1;33m.\u001b[0m\u001b[0mfind\u001b[0m\u001b[1;33m(\u001b[0m\u001b[1;34m\"location\"\u001b[0m\u001b[1;33m)\u001b[0m\u001b[1;33m)\u001b[0m \u001b[1;33m+\u001b[0m \u001b[1;36m7\u001b[0m\u001b[1;33m:\u001b[0m\u001b[0mXMLstream\u001b[0m\u001b[1;33m.\u001b[0m\u001b[0mfind\u001b[0m\u001b[1;33m(\u001b[0m\u001b[1;34m\"\\n\"\u001b[0m\u001b[1;33m,\u001b[0m\u001b[0mXMLstream\u001b[0m\u001b[1;33m.\u001b[0m\u001b[0mfind\u001b[0m\u001b[1;33m(\u001b[0m\u001b[1;34m\"lng\\\" : \"\u001b[0m\u001b[1;33m,\u001b[0m\u001b[0mXMLstream\u001b[0m\u001b[1;33m.\u001b[0m\u001b[0mfind\u001b[0m\u001b[1;33m(\u001b[0m\u001b[1;34m\"location\"\u001b[0m\u001b[1;33m)\u001b[0m\u001b[1;33m)\u001b[0m\u001b[1;33m)\u001b[0m\u001b[1;33m]\u001b[0m\u001b[1;33m)\u001b[0m\u001b[1;33m\u001b[0m\u001b[0m\n\u001b[0;32m      9\u001b[0m     \u001b[0mtime\u001b[0m\u001b[1;33m.\u001b[0m\u001b[0msleep\u001b[0m\u001b[1;33m(\u001b[0m\u001b[1;36m2\u001b[0m\u001b[1;33m)\u001b[0m\u001b[1;33m\u001b[0m\u001b[0m\n",
        "\u001b[1;31mValueError\u001b[0m: could not convert string to float: results\" : [],\n   \"status\" : \"INVALID_REQUEST\"\n}"
       ]
      }
     ],
     "prompt_number": 39
    },
    {
     "cell_type": "code",
     "collapsed": false,
     "input": [
      "f[1]"
     ],
     "language": "python",
     "metadata": {},
     "outputs": [
      {
       "metadata": {},
       "output_type": "pyout",
       "prompt_number": 108,
       "text": [
        "-88.9548001"
       ]
      }
     ],
     "prompt_number": 108
    },
    {
     "cell_type": "code",
     "collapsed": false,
     "input": [
      "uniqueCityState.size"
     ],
     "language": "python",
     "metadata": {},
     "outputs": [
      {
       "metadata": {},
       "output_type": "pyout",
       "prompt_number": 129,
       "text": [
        "352"
       ]
      }
     ],
     "prompt_number": 129
    },
    {
     "cell_type": "code",
     "collapsed": false,
     "input": [
      "uniqueCityState.view()"
     ],
     "language": "python",
     "metadata": {},
     "outputs": [
      {
       "metadata": {},
       "output_type": "pyout",
       "prompt_number": 29,
       "text": [
        "array([('Rockford', 'IL'), ('Decatur', 'IL'), ('Clinton', 'IA'),\n",
        "       ('Lincoln', 'NB'), ('Addision', 'TX'), ('Merrillville', 'IN'),\n",
        "       ('Dover,', 'NJ'), ('Indianapolis', 'IN'), ('Chicago', 'IL'),\n",
        "       ('Seattle', 'WA'), ('Houston', 'TX'), ('Conshohoken', 'PA'),\n",
        "       ('Burns Harbor', 'IL'), ('Denver', 'CO'),\n",
        "       ('Annapolis Junction', 'MD'), ('Milwaukee', 'WI'),\n",
        "       ('Spencer', 'IN'), ('Austin', 'TX'), ('Mt. Vernon', 'IN'),\n",
        "       ('Louisville', 'KY'), ('Peoria', 'IL'), ('Auburn Hills', 'MI'),\n",
        "       ('Bloomington', 'IN'), ('Seymour', 'IN'), ('Westfield', 'IN'),\n",
        "       ('Manchester', 'NH'), ('Tyler', 'TX'), ('Kokomo', 'IN'),\n",
        "       ('Tucson', 'AZ'), ('Deer Park', 'TX'), ('Freeport', 'TX'),\n",
        "       ('Michigan City', 'IN'), ('Madison', 'WI'), ('Gainesville', 'FL'),\n",
        "       ('Baytown', 'TX'), ('Baton Rouge', 'LA'), ('Fishers', 'IN'),\n",
        "       ('Dearborn', 'MI'), ('Bakersfield', 'CA'), ('Frankfort', 'IN'),\n",
        "       ('Westmont', 'IL'), ('Olathe', 'KS'), ('Charlotte', 'NC'),\n",
        "       ('Warren', 'MI'), ('Brazil', 'IN'), ('Raleigh', 'NC'),\n",
        "       ('Greensburg', 'IN'), ('Sullivan', 'IL'), ('Dallas', 'TX'),\n",
        "       ('Burns Harbor', 'IN'), ('Crown Point', 'IN'), ('St. Louis', 'MO'),\n",
        "       ('West Lafayette,', 'IN'), ('Trenton', 'MI'), ('Columbus', 'OH'),\n",
        "       ('Carmel', 'IN'), ('Mason', 'MI'), ('Paris', 'IL'),\n",
        "       ('Clinton', 'IN'), ('Zeeland', 'MI'), ('Rocky Mt.', 'NC'),\n",
        "       ('Camanche', 'IA'), ('Evansville', 'IN'), ('Greenfield', 'IN'),\n",
        "       ('Spartenburg', 'SC'), ('Bellingham', 'WA'), ('Kokoma', 'IN'),\n",
        "       ('El Paso', 'TX'), ('Terre Haute', 'IN'), ('Bellevue', 'WA'),\n",
        "       ('Southfield', 'MI'), ('Chicago', 'IN'), ('Greenville', 'SC'),\n",
        "       ('Chino', 'CA'), ('Portland', 'OR'), ('Texarkana', 'TX'),\n",
        "       ('Courtland', 'AL'), ('Shreveport', 'LA'), ('San Mateo', 'CA'),\n",
        "       ('Lexington', 'KY'), ('Vernon Hills', 'IL'), ('Robinson', 'IL'),\n",
        "       ('Canton', 'OH'), ('Colorado Srings', 'CO'), ('Cincinnati', 'OH'),\n",
        "       ('Minneapolis', 'MN'), ('Redmond', 'WA'), ('Mountain View', 'CA'),\n",
        "       ('Boston', 'MA'), ('Marshall Space Flight Center', 'AL'),\n",
        "       ('Austing', 'TX'), ('Fort Meade', 'MD'), ('Crane', 'IN'),\n",
        "       ('Mooresville', 'IN'), ('Baltimore', 'MD'), ('Crawforsville', 'IN'),\n",
        "       ('Troy', 'MI'), ('Goodlettsville', 'TN'), ('Monticello', 'IN'),\n",
        "       ('Greensboro', 'NC'), ('Colorado Springs', 'CO'),\n",
        "       ('Cleveland', 'OH'), ('Jupiter', 'FL'), ('Marion', 'IN'),\n",
        "       ('San Diego', 'CA'), ('Fort Wayne', 'IN'), ('Columbia', 'MD'),\n",
        "       ('New York City', 'NY'), ('Cedar Rapids', 'IA'),\n",
        "       ('St. Charles', 'IL'), ('Anderson', 'IN'), ('Owensboro', 'KY'),\n",
        "       ('Albuquerque', 'NM'), ('Prudhoe Bay', 'AK'), ('Broussard', 'LA'),\n",
        "       ('Lafayette', 'LA'), ('Bloomington', 'MN'), ('Coldwater', 'MI'),\n",
        "       ('Ellicot City', 'MD'), ('Ellicott City', 'MD'), ('Orlando', 'FL'),\n",
        "       ('Bowling Green', 'KY'), ('San Antonio,', 'TX'), ('Plymouth', 'MN'),\n",
        "       ('Connersville', 'IN'), ('Lafayette', 'IN'), ('Layfayette', 'IN'),\n",
        "       ('Richardson', 'TX'), ('Palo Alto', 'CA'), ('Phoenix', 'AZ'),\n",
        "       ('Princton', 'IN'), ('Bremen', 'IN'), ('Des Plaines', 'IL'),\n",
        "       ('Washington, D.C.', ''), ('Semour', 'IN'), ('Lombard', 'IL'),\n",
        "       ('Walled Lake', 'MI'), ('Farmington Hills', 'MI'),\n",
        "       ('Brownsburg', 'IN'), ('Warsaw', 'IN'), ('Westford', 'MA'),\n",
        "       ('Charleston', 'SC'), ('Wauwatosa', 'WI'), ('Hoston', 'TX'),\n",
        "       ('Kansas City', 'MO'), ('Alexandria', 'VA'), ('Pekin', 'IL'),\n",
        "       ('Columbus', 'IN'), ('Deer Park,', 'TX'), ('Greenwood', 'IN'),\n",
        "       ('Wheeling,', 'IL'), ('Champaign', 'IL'), ('Morris', 'IL'),\n",
        "       ('Madison', 'IN'), ('Assumption', 'IL'), ('Williston', 'ND'),\n",
        "       ('Brighton', 'CO'), ('Farmington', 'NM'), ('Muncy', 'PA'),\n",
        "       ('Cannonsbrug', 'PA'), ('Carmichaels', 'PA'), ('Coon Rapids', 'MN'),\n",
        "       ('Georgetown', 'SC'), ('Shelbyville', 'IN'), ('Kanazawa', 'JAPAN'),\n",
        "       ('Dayton', 'OH'), ('Catlettsburg', 'KY'), ('Reston', 'VA'),\n",
        "       ('Fremont', 'WV'), ('Perrysburg', 'OH'), ('Point Beach', 'WI'),\n",
        "       ('Ipsilanti', 'MI'), ('Shelbyville', 'KY'), ('Westin', 'WV'),\n",
        "       ('Prudoebay', 'AK'), ('New Iberia', 'LA'), ('Midland', 'TX'),\n",
        "       ('Cincinatti', 'OH'), ('San Antonio', 'TX'),\n",
        "       ('West Lafayette', 'IN'), ('Sturgeon Bay', 'WI'),\n",
        "       ('Erlanger', 'KY'), ('Marshall', 'IL'), ('Pittsburgh', 'PA'),\n",
        "       ('Chattanooga', 'TN'), ('Seatlle', 'WA'), ('Tuczon', 'AZ'),\n",
        "       ('Cicero', 'IL'), ('Fort Mead', 'MD'), ('Hope', 'IN'),\n",
        "       ('Evansville', 'MN'), ('Amherst', 'NY'), ('Sharonville', 'OH'),\n",
        "       ('Mount Vernon', 'IN'), ('Atlanta', 'GA'), ('Montgomery', 'AL'),\n",
        "       ('Muncie', 'PA'), ('Oshkosh', 'WI'), ('Crawfordsville', 'IN'),\n",
        "       ('Steelton', 'PA'), ('Neenau', 'WI'), ('Temecula', 'CA'),\n",
        "       ('Conover', 'IA'), ('Muncie', 'IN'), ('Na', 'NA'),\n",
        "       ('Fontanet', 'IN'), ('Muscatine', 'IA'), ('Laporte', 'IN'),\n",
        "       ('Texarkana', 'AR'), ('Valliant', 'OK'), ('Monroeville', 'IN'),\n",
        "       ('South Bend', 'IN'), ('Greensboro', 'GA'), ('Franklin', 'WI'),\n",
        "       ('Homer City', 'PA'), ('Cannonsburg', 'PA'), ('Whitehall', 'MI'),\n",
        "       ('Akron', 'OH'), ('St. Louis', 'IN'), ('Doral', 'FL'),\n",
        "       ('Hillard', 'OH'), ('Downers Grove', 'IL'), ('Petaluma', 'CA'),\n",
        "       ('Inidianapolis', 'IN'), ('Midland', 'MI'), ('Evandale', 'OH'),\n",
        "       ('West Chester', 'OH'), ('Oakbrook Terrace', 'IL'),\n",
        "       ('Santa Barbara', 'CA'), ('Montgomery', 'PA'), ('Kilgore', 'TX'),\n",
        "       ('Kansas City', 'KS'), ('Burlington', 'VT'), ('Springfield', 'OR'),\n",
        "       ('Florham Park', 'NJ'), ('Merom', 'IN'), ('Norfolk', 'VA'),\n",
        "       ('Lyle', 'IL'), ('Beckett Ridge', 'OH'), ('Cordyn', 'IN'),\n",
        "       ('Pendleton', 'IN'), ('Belleville', 'MI'), ('Cedar Rapids', 'MI'),\n",
        "       ('Rochester', 'NY'), ('Plano', 'TX'), ('Georgetown', 'KY'),\n",
        "       ('Elk Grove Vlg', 'IL'), ('Arlington', 'VA'), ('Galesburg', 'IL'),\n",
        "       ('Morristown', 'IN'), ('Gary', 'IN'), ('Verona', 'WI'),\n",
        "       ('North Barrington', 'IL'), ('Russellville', 'KY'),\n",
        "       ('Warrenville', 'IL'), ('Kennesaw', 'GA'), ('Virginia Beach', 'VA'),\n",
        "       ('Toledo', 'OH'), ('East Greenwich', 'NJ'), ('Bedford', 'IN'),\n",
        "       ('Valley Forge', 'PA'), ('Sandiego', 'CA'), ('Chatanooga', 'TN'),\n",
        "       ('Research Triangle Park', 'NC'), ('Washinton D.C.', ''),\n",
        "       ('Melrose', 'IL'), ('Hawesville', 'KY'), ('Richland', 'WA'),\n",
        "       ('Martinsville', 'IN'), ('Hobbs', 'NM'), ('Duncan', 'OK'),\n",
        "       ('Grand Junction', 'CO'), ('Idaho Falls', 'ID'), ('Davidson', 'NC'),\n",
        "       ('Skillman', 'NJ'), ('Glenview', 'IL'), ('El Dorado', 'AR'),\n",
        "       ('Ft. Meade', 'MD'), ('Farifax', 'VA'), ('Washington', 'DC'),\n",
        "       ('Whiting', 'WI'), ('Salem', 'IN'), ('Ramsey', 'NJ'),\n",
        "       ('Cape Giradeaux', 'MO'), ('Balikpapan', 'INDONESIA'),\n",
        "       ('Conway', 'AR'), ('Mcgregor', 'TX'), ('Richland', 'MI'),\n",
        "       ('Jamestown', 'KY'), ('Tampa', 'FL'), ('Athens', 'OH'),\n",
        "       ('Morristown', 'TN'), ('Murpheesboro', 'TN'), ('Dover', 'NJ'),\n",
        "       ('Wichita Falls', 'TX'), ('Burleson', 'TX'), ('St. Paul', 'MN'),\n",
        "       ('Rock Springs', 'WY'), ('Attica', 'IN'), ('Hudson', 'MA'),\n",
        "       ('Sterling', 'VA'), ('Steven\\x92S Point,', 'WI'),\n",
        "       ('New Hudson', 'MI'), ('Danville', 'IL'), ('Marion', 'OH'),\n",
        "       ('Northbrook', 'IL'), ('Boulder', 'CO'), ('Riverdale', 'IL'),\n",
        "       ('Marshall', 'MN'), ('Osh Kosh', 'WI'), ('Spartanburg', 'SC'),\n",
        "       ('San Clemente', 'CA'), ('Edwardsport', 'IN'), (\"O'Fallon\", 'IL'),\n",
        "       ('Beaumont', 'TX'), ('Fairfax', 'VA'), ('Los Angeles', 'CA'),\n",
        "       ('Highland Heights', 'KY'), ('Knoxville', 'TN'),\n",
        "       ('Buffalo Grove', 'IL'), ('Pampa', 'TX'), ('Batesville', 'IN'),\n",
        "       ('Milford', 'OH'), ('Vero Beach', 'FL'), ('Coopersburg', 'PA'),\n",
        "       ('Findlay', 'OH'), ('Garyville', 'LA'), ('Virgina Beach', 'VA'),\n",
        "       ('Wickliffe', 'KY'), ('West Terre Haute', 'IN'),\n",
        "       ('Woodland Hills', 'CA'), ('Avenel', 'NJ'), ('Alexandria', 'LA'),\n",
        "       ('Ft. Wayne', 'IN'), ('Woburn', 'MA'), ('Miami', 'FL'),\n",
        "       ('Orlanda', 'FL'), ('Mahwah', 'NJ'), ('Wright Patterson Afb', 'OH'),\n",
        "       ('Memphis', 'TN'), ('Fosteria', 'OH'), ('Mossville', 'IL'),\n",
        "       ('Minster', 'OH'), ('Marshall', 'TX'), ('Odessa', 'TX'),\n",
        "       ('New Brunswick', 'NJ'), ('Warsau', 'WI'), ('Dulles', 'VA'),\n",
        "       ('Walnut Creek', 'CA'), ('Waterloo', 'IN'),\n",
        "       ('East Greenwich', 'RI'), ('Shippensburg', 'PA')], dtype=object)"
       ]
      }
     ],
     "prompt_number": 29
    },
    {
     "cell_type": "code",
     "collapsed": false,
     "input": [],
     "language": "python",
     "metadata": {},
     "outputs": []
    }
   ],
   "metadata": {}
  }
 ]
}