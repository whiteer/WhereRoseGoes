{
 "metadata": {
  "name": ""
 },
 "nbformat": 3,
 "nbformat_minor": 0,
 "worksheets": [
  {
   "cells": [
    {
     "cell_type": "code",
     "collapsed": false,
     "input": [
      "cd ../../Google Drive/My Media/General/Education/Rose-Hulman/2013 - 2014 School year/11) Winter 2013-2014/CSSE 490/InClass/Jan30"
     ],
     "language": "python",
     "metadata": {},
     "outputs": [
      {
       "output_type": "stream",
       "stream": "stdout",
       "text": [
        "C:\\Users\\whiteer\\Google Drive\\My Media\\General\\Education\\Rose-Hulman\\2013 - 2014 School year\\11) Winter 2013-2014\\CSSE 490\\InClass\\Jan30\n"
       ]
      }
     ],
     "prompt_number": 1
    },
    {
     "cell_type": "code",
     "collapsed": false,
     "input": [
      "import pandas as pd\n",
      "from apriori import *"
     ],
     "language": "python",
     "metadata": {},
     "outputs": [],
     "prompt_number": 6
    },
    {
     "cell_type": "code",
     "collapsed": false,
     "input": [
      "students = pd.read_csv('students.csv', header = None, names=['major','cls','year','advisor','course'])"
     ],
     "language": "python",
     "metadata": {},
     "outputs": [],
     "prompt_number": 7
    },
    {
     "cell_type": "code",
     "collapsed": false,
     "input": [
      "students.head()"
     ],
     "language": "python",
     "metadata": {},
     "outputs": [
      {
       "html": [
        "<div style=\"max-height:1000px;max-width:1500px;overflow:auto;\">\n",
        "<table border=\"1\" class=\"dataframe\">\n",
        "  <thead>\n",
        "    <tr style=\"text-align: right;\">\n",
        "      <th></th>\n",
        "      <th>major</th>\n",
        "      <th>cls</th>\n",
        "      <th>year</th>\n",
        "      <th>advisor</th>\n",
        "      <th>course</th>\n",
        "    </tr>\n",
        "  </thead>\n",
        "  <tbody>\n",
        "    <tr>\n",
        "      <th>0</th>\n",
        "      <td> EE</td>\n",
        "      <td> JR</td>\n",
        "      <td> Y3</td>\n",
        "      <td>   hoover</td>\n",
        "      <td> CSSE490</td>\n",
        "    </tr>\n",
        "    <tr>\n",
        "      <th>1</th>\n",
        "      <td> CS</td>\n",
        "      <td> SR</td>\n",
        "      <td> Y4</td>\n",
        "      <td> wollowsk</td>\n",
        "      <td> CSSE490</td>\n",
        "    </tr>\n",
        "    <tr>\n",
        "      <th>2</th>\n",
        "      <td> CS</td>\n",
        "      <td> JR</td>\n",
        "      <td> Y3</td>\n",
        "      <td>  boutell</td>\n",
        "      <td> CSSE490</td>\n",
        "    </tr>\n",
        "    <tr>\n",
        "      <th>3</th>\n",
        "      <td> CS</td>\n",
        "      <td> SO</td>\n",
        "      <td> Y2</td>\n",
        "      <td> taylormt</td>\n",
        "      <td> CSSE490</td>\n",
        "    </tr>\n",
        "    <tr>\n",
        "      <th>4</th>\n",
        "      <td> CS</td>\n",
        "      <td> SO</td>\n",
        "      <td> Y2</td>\n",
        "      <td> taylormt</td>\n",
        "      <td> CSSE490</td>\n",
        "    </tr>\n",
        "  </tbody>\n",
        "</table>\n",
        "</div>"
       ],
       "metadata": {},
       "output_type": "pyout",
       "prompt_number": 8,
       "text": [
        "  major cls year   advisor   course\n",
        "0    EE  JR   Y3    hoover  CSSE490\n",
        "1    CS  SR   Y4  wollowsk  CSSE490\n",
        "2    CS  JR   Y3   boutell  CSSE490\n",
        "3    CS  SO   Y2  taylormt  CSSE490\n",
        "4    CS  SO   Y2  taylormt  CSSE490"
       ]
      }
     ],
     "prompt_number": 8
    },
    {
     "cell_type": "code",
     "collapsed": false,
     "input": [
      "itemsets, rules = runApriori(students.values,0.3,0.5)"
     ],
     "language": "python",
     "metadata": {},
     "outputs": [],
     "prompt_number": 9
    },
    {
     "cell_type": "code",
     "collapsed": false,
     "input": [
      "itemsets"
     ],
     "language": "python",
     "metadata": {},
     "outputs": [
      {
       "metadata": {},
       "output_type": "pyout",
       "prompt_number": 10,
       "text": [
        "[(('MA490',), 0.4482758620689655),\n",
        " (('CSSE490',), 0.5517241379310345),\n",
        " (('JR',), 0.3448275862068966),\n",
        " (('Y4',), 0.3448275862068966),\n",
        " (('Y2',), 0.3448275862068966),\n",
        " (('CS',), 0.4482758620689655),\n",
        " (('SR',), 0.4482758620689655),\n",
        " (('SR', 'Y4'), 0.3448275862068966),\n",
        " (('CS', 'CSSE490'), 0.3793103448275862)]"
       ]
      }
     ],
     "prompt_number": 10
    },
    {
     "cell_type": "code",
     "collapsed": false,
     "input": [
      "rules"
     ],
     "language": "python",
     "metadata": {},
     "outputs": [
      {
       "metadata": {},
       "output_type": "pyout",
       "prompt_number": 11,
       "text": [
        "[((('SR',), ('Y4',)), 0.7692307692307693),\n",
        " ((('Y4',), ('SR',)), 1.0),\n",
        " ((('CS',), ('CSSE490',)), 0.8461538461538461),\n",
        " ((('CSSE490',), ('CS',)), 0.6875)]"
       ]
      }
     ],
     "prompt_number": 11
    },
    {
     "cell_type": "code",
     "collapsed": false,
     "input": [
      "for itemset in itemsets:\n",
      "    print '%5.2f' % itemset[1],\n",
      "    print itemset[0]"
     ],
     "language": "python",
     "metadata": {},
     "outputs": [
      {
       "output_type": "stream",
       "stream": "stdout",
       "text": [
        " 0.45 ('MA490',)\n",
        " 0.55 ('CSSE490',)\n",
        " 0.34 ('JR',)\n",
        " 0.34 ('Y4',)\n",
        " 0.34 ('Y2',)\n",
        " 0.45 ('CS',)\n",
        " 0.45 ('SR',)\n",
        " 0.34 ('SR', 'Y4')\n",
        " 0.38 ('CS', 'CSSE490')\n"
       ]
      }
     ],
     "prompt_number": 12
    },
    {
     "cell_type": "code",
     "collapsed": false,
     "input": [
      "for rule in rules:\n",
      "    print '%5.2f' % rule[1],\n",
      "    print rule[0]"
     ],
     "language": "python",
     "metadata": {},
     "outputs": [
      {
       "output_type": "stream",
       "stream": "stdout",
       "text": [
        " 0.77 (('SR',), ('Y4',))\n",
        " 1.00 (('Y4',), ('SR',))\n",
        " 0.85 (('CS',), ('CSSE490',))\n",
        " 0.69 (('CSSE490',), ('CS',))\n"
       ]
      }
     ],
     "prompt_number": 14
    },
    {
     "cell_type": "code",
     "collapsed": false,
     "input": [],
     "language": "python",
     "metadata": {},
     "outputs": []
    }
   ],
   "metadata": {}
  }
 ]
}