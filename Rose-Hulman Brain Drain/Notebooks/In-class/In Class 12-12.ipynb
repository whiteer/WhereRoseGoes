{
 "metadata": {
  "name": ""
 },
 "nbformat": 3,
 "nbformat_minor": 0,
 "worksheets": [
  {
   "cells": [
    {
     "cell_type": "code",
     "collapsed": false,
     "input": [
      "cd HW2/\n",
      "import pandas as pd\n",
      "run grades.py"
     ],
     "language": "python",
     "metadata": {},
     "outputs": [
      {
       "ename": "SyntaxError",
       "evalue": "invalid syntax (<ipython-input-1-4822b5826553>, line 1)",
       "output_type": "pyerr",
       "traceback": [
        "\u001b[1;36m  File \u001b[1;32m\"<ipython-input-1-4822b5826553>\"\u001b[1;36m, line \u001b[1;32m1\u001b[0m\n\u001b[1;33m    cd HW2/\u001b[0m\n\u001b[1;37m         ^\u001b[0m\n\u001b[1;31mSyntaxError\u001b[0m\u001b[1;31m:\u001b[0m invalid syntax\n"
       ]
      }
     ],
     "prompt_number": 1
    },
    {
     "cell_type": "code",
     "collapsed": false,
     "input": [
      "pwd"
     ],
     "language": "python",
     "metadata": {},
     "outputs": [
      {
       "metadata": {},
       "output_type": "pyout",
       "prompt_number": 2,
       "text": [
        "u'C:\\\\Users\\\\whiteer\\\\Documents\\\\IPython Notebooks'"
       ]
      }
     ],
     "prompt_number": 2
    },
    {
     "cell_type": "code",
     "collapsed": false,
     "input": [
      "cd HW2/\n"
     ],
     "language": "python",
     "metadata": {},
     "outputs": [
      {
       "output_type": "stream",
       "stream": "stdout",
       "text": [
        "C:\\Users\\whiteer\\Documents\\IPython Notebooks\\HW2\n"
       ]
      }
     ],
     "prompt_number": 3
    },
    {
     "cell_type": "code",
     "collapsed": false,
     "input": [
      "ls"
     ],
     "language": "python",
     "metadata": {},
     "outputs": [
      {
       "output_type": "stream",
       "stream": "stdout",
       "text": [
        " Volume in drive C is OSDisk\n",
        " Volume Serial Number is A090-3CB5\n",
        "\n",
        " Directory of C:\\Users\\whiteer\\Documents\\IPython Notebooks\\HW2\n",
        "\n",
        "12/11/2013  09:46 PM    <DIR>          .\n",
        "12/11/2013  09:46 PM    <DIR>          ..\n",
        "12/06/2013  01:46 PM               178 finalA.csv\n",
        "12/06/2013  01:46 PM               178 finalB.csv\n",
        "12/10/2013  12:57 PM             1,240 grades.py\n",
        "12/06/2013  01:46 PM             1,565 homeworkA.csv\n",
        "12/06/2013  01:46 PM             1,549 homeworkB.csv\n",
        "12/06/2013  01:46 PM               593 lessonsA.csv\n",
        "12/08/2013  09:10 AM               600 lessonsB.csv\n",
        "12/06/2013  01:46 PM               196 MaxScore.csv\n",
        "12/06/2013  01:46 PM               347 quizzesA2.csv\n",
        "12/06/2013  01:46 PM               594 quizzesB2.csv\n",
        "12/06/2013  01:46 PM               241 testsA.csv\n",
        "12/06/2013  01:46 PM               241 testsB.csv\n",
        "12/06/2013  05:51 AM                64 weights.csv\n",
        "              13 File(s)          7,586 bytes\n",
        "               2 Dir(s)  42,346,639,360 bytes free\n"
       ]
      }
     ],
     "prompt_number": 4
    },
    {
     "cell_type": "code",
     "collapsed": false,
     "input": [
      "run grades.py"
     ],
     "language": "python",
     "metadata": {},
     "outputs": [
      {
       "output_type": "stream",
       "stream": "stdout",
       "text": [
        "quizzes\n",
        "     Q1  Q2  Q3  Q4\n",
        "Bob  60  64  69  65\n",
        "Jim  52  57  59  55\n",
        "Kim  70  75  77  73\n",
        "Sue  90  93  97  95\n",
        "Tom  81  82  84  88\n",
        "\n",
        "lessons\n",
        "     L1  L2  L3  L4\n",
        "Bob  61  67  68  62\n",
        "Jim  56  54  52  53\n",
        "Kim  71  76  72  78\n",
        "Sue  91  92  93  97\n",
        "Tom  80  89  87  89"
       ]
      },
      {
       "output_type": "stream",
       "stream": "stdout",
       "text": [
        "\n",
        "\n",
        "tests\n",
        "     T1  T2  T3\n",
        "Bob  67  63  65\n",
        "Jim  52  51  58\n",
        "Kim  70  74  73\n",
        "Sue  98  97  92\n",
        "Tom  81  86  83\n",
        "\n",
        "weights\n",
        "lessons    0.3\n",
        "quizzes    0.3\n",
        "tests      0.4\n",
        "dtype: float64\n",
        "\n",
        "ID\n",
        "1290    Kim\n",
        "3331    Tom\n",
        "4915    Bob\n",
        "5567    Sue\n",
        "6518    Jim\n",
        "dtype: object\n",
        "\n",
        "year\n",
        "1290    sophomore\n",
        "3331     freshman\n",
        "4915    sophomore\n",
        "5567    sophomore\n",
        "6518     freshman\n",
        "dtype: object\n",
        "\n",
        "major\n",
        "1290    computer science\n",
        "3331    computer science\n",
        "4915    computer science\n",
        "5567         mathematics\n",
        "6518         mathematics\n",
        "dtype: object\n",
        "\n"
       ]
      }
     ],
     "prompt_number": 5
    },
    {
     "cell_type": "code",
     "collapsed": false,
     "input": [
      "import pandas as pd"
     ],
     "language": "python",
     "metadata": {},
     "outputs": [],
     "prompt_number": 6
    },
    {
     "cell_type": "code",
     "collapsed": false,
     "input": [
      "students = pd.concat([ID, year, major], keys = ['name', 'year', 'major'], axis = 1)"
     ],
     "language": "python",
     "metadata": {},
     "outputs": [],
     "prompt_number": 7
    },
    {
     "cell_type": "code",
     "collapsed": false,
     "input": [
      "students"
     ],
     "language": "python",
     "metadata": {},
     "outputs": [
      {
       "html": [
        "<div style=\"max-height:1000px;max-width:1500px;overflow:auto;\">\n",
        "<table border=\"1\" class=\"dataframe\">\n",
        "  <thead>\n",
        "    <tr style=\"text-align: right;\">\n",
        "      <th></th>\n",
        "      <th>name</th>\n",
        "      <th>year</th>\n",
        "      <th>major</th>\n",
        "    </tr>\n",
        "  </thead>\n",
        "  <tbody>\n",
        "    <tr>\n",
        "      <th>1290</th>\n",
        "      <td> Kim</td>\n",
        "      <td> sophomore</td>\n",
        "      <td> computer science</td>\n",
        "    </tr>\n",
        "    <tr>\n",
        "      <th>3331</th>\n",
        "      <td> Tom</td>\n",
        "      <td>  freshman</td>\n",
        "      <td> computer science</td>\n",
        "    </tr>\n",
        "    <tr>\n",
        "      <th>4915</th>\n",
        "      <td> Bob</td>\n",
        "      <td> sophomore</td>\n",
        "      <td> computer science</td>\n",
        "    </tr>\n",
        "    <tr>\n",
        "      <th>5567</th>\n",
        "      <td> Sue</td>\n",
        "      <td> sophomore</td>\n",
        "      <td>      mathematics</td>\n",
        "    </tr>\n",
        "    <tr>\n",
        "      <th>6518</th>\n",
        "      <td> Jim</td>\n",
        "      <td>  freshman</td>\n",
        "      <td>      mathematics</td>\n",
        "    </tr>\n",
        "  </tbody>\n",
        "</table>\n",
        "</div>"
       ],
       "metadata": {},
       "output_type": "pyout",
       "prompt_number": 8,
       "text": [
        "     name       year             major\n",
        "1290  Kim  sophomore  computer science\n",
        "3331  Tom   freshman  computer science\n",
        "4915  Bob  sophomore  computer science\n",
        "5567  Sue  sophomore       mathematics\n",
        "6518  Jim   freshman       mathematics"
       ]
      }
     ],
     "prompt_number": 8
    },
    {
     "cell_type": "code",
     "collapsed": false,
     "input": [
      "students.stack()"
     ],
     "language": "python",
     "metadata": {},
     "outputs": [
      {
       "metadata": {},
       "output_type": "pyout",
       "prompt_number": 9,
       "text": [
        "1290  name                  Kim\n",
        "      year            sophomore\n",
        "      major    computer science\n",
        "3331  name                  Tom\n",
        "      year             freshman\n",
        "      major    computer science\n",
        "4915  name                  Bob\n",
        "      year            sophomore\n",
        "      major    computer science\n",
        "5567  name                  Sue\n",
        "      year            sophomore\n",
        "      major         mathematics\n",
        "6518  name                  Jim\n",
        "      year             freshman\n",
        "      major         mathematics\n",
        "dtype: object"
       ]
      }
     ],
     "prompt_number": 9
    },
    {
     "cell_type": "code",
     "collapsed": false,
     "input": [
      "students_stacked = students.stack()"
     ],
     "language": "python",
     "metadata": {},
     "outputs": [],
     "prompt_number": 10
    },
    {
     "cell_type": "code",
     "collapsed": false,
     "input": [
      "students_stacked.unstack()"
     ],
     "language": "python",
     "metadata": {},
     "outputs": [
      {
       "html": [
        "<div style=\"max-height:1000px;max-width:1500px;overflow:auto;\">\n",
        "<table border=\"1\" class=\"dataframe\">\n",
        "  <thead>\n",
        "    <tr style=\"text-align: right;\">\n",
        "      <th></th>\n",
        "      <th>name</th>\n",
        "      <th>year</th>\n",
        "      <th>major</th>\n",
        "    </tr>\n",
        "  </thead>\n",
        "  <tbody>\n",
        "    <tr>\n",
        "      <th>1290</th>\n",
        "      <td> Kim</td>\n",
        "      <td> sophomore</td>\n",
        "      <td> computer science</td>\n",
        "    </tr>\n",
        "    <tr>\n",
        "      <th>3331</th>\n",
        "      <td> Tom</td>\n",
        "      <td>  freshman</td>\n",
        "      <td> computer science</td>\n",
        "    </tr>\n",
        "    <tr>\n",
        "      <th>4915</th>\n",
        "      <td> Bob</td>\n",
        "      <td> sophomore</td>\n",
        "      <td> computer science</td>\n",
        "    </tr>\n",
        "    <tr>\n",
        "      <th>5567</th>\n",
        "      <td> Sue</td>\n",
        "      <td> sophomore</td>\n",
        "      <td>      mathematics</td>\n",
        "    </tr>\n",
        "    <tr>\n",
        "      <th>6518</th>\n",
        "      <td> Jim</td>\n",
        "      <td>  freshman</td>\n",
        "      <td>      mathematics</td>\n",
        "    </tr>\n",
        "  </tbody>\n",
        "</table>\n",
        "</div>"
       ],
       "metadata": {},
       "output_type": "pyout",
       "prompt_number": 11,
       "text": [
        "     name       year             major\n",
        "1290  Kim  sophomore  computer science\n",
        "3331  Tom   freshman  computer science\n",
        "4915  Bob  sophomore  computer science\n",
        "5567  Sue  sophomore       mathematics\n",
        "6518  Jim   freshman       mathematics"
       ]
      }
     ],
     "prompt_number": 11
    },
    {
     "cell_type": "code",
     "collapsed": false,
     "input": [
      "students_stacked.unstack(level = 1)"
     ],
     "language": "python",
     "metadata": {},
     "outputs": [
      {
       "html": [
        "<div style=\"max-height:1000px;max-width:1500px;overflow:auto;\">\n",
        "<table border=\"1\" class=\"dataframe\">\n",
        "  <thead>\n",
        "    <tr style=\"text-align: right;\">\n",
        "      <th></th>\n",
        "      <th>name</th>\n",
        "      <th>year</th>\n",
        "      <th>major</th>\n",
        "    </tr>\n",
        "  </thead>\n",
        "  <tbody>\n",
        "    <tr>\n",
        "      <th>1290</th>\n",
        "      <td> Kim</td>\n",
        "      <td> sophomore</td>\n",
        "      <td> computer science</td>\n",
        "    </tr>\n",
        "    <tr>\n",
        "      <th>3331</th>\n",
        "      <td> Tom</td>\n",
        "      <td>  freshman</td>\n",
        "      <td> computer science</td>\n",
        "    </tr>\n",
        "    <tr>\n",
        "      <th>4915</th>\n",
        "      <td> Bob</td>\n",
        "      <td> sophomore</td>\n",
        "      <td> computer science</td>\n",
        "    </tr>\n",
        "    <tr>\n",
        "      <th>5567</th>\n",
        "      <td> Sue</td>\n",
        "      <td> sophomore</td>\n",
        "      <td>      mathematics</td>\n",
        "    </tr>\n",
        "    <tr>\n",
        "      <th>6518</th>\n",
        "      <td> Jim</td>\n",
        "      <td>  freshman</td>\n",
        "      <td>      mathematics</td>\n",
        "    </tr>\n",
        "  </tbody>\n",
        "</table>\n",
        "</div>"
       ],
       "metadata": {},
       "output_type": "pyout",
       "prompt_number": 12,
       "text": [
        "     name       year             major\n",
        "1290  Kim  sophomore  computer science\n",
        "3331  Tom   freshman  computer science\n",
        "4915  Bob  sophomore  computer science\n",
        "5567  Sue  sophomore       mathematics\n",
        "6518  Jim   freshman       mathematics"
       ]
      }
     ],
     "prompt_number": 12
    },
    {
     "cell_type": "code",
     "collapsed": false,
     "input": [
      "students_stacked.unstack(level = 0)"
     ],
     "language": "python",
     "metadata": {},
     "outputs": [
      {
       "html": [
        "<div style=\"max-height:1000px;max-width:1500px;overflow:auto;\">\n",
        "<table border=\"1\" class=\"dataframe\">\n",
        "  <thead>\n",
        "    <tr style=\"text-align: right;\">\n",
        "      <th></th>\n",
        "      <th>1290</th>\n",
        "      <th>3331</th>\n",
        "      <th>4915</th>\n",
        "      <th>5567</th>\n",
        "      <th>6518</th>\n",
        "    </tr>\n",
        "  </thead>\n",
        "  <tbody>\n",
        "    <tr>\n",
        "      <th>name</th>\n",
        "      <td>              Kim</td>\n",
        "      <td>              Tom</td>\n",
        "      <td>              Bob</td>\n",
        "      <td>         Sue</td>\n",
        "      <td>         Jim</td>\n",
        "    </tr>\n",
        "    <tr>\n",
        "      <th>year</th>\n",
        "      <td>        sophomore</td>\n",
        "      <td>         freshman</td>\n",
        "      <td>        sophomore</td>\n",
        "      <td>   sophomore</td>\n",
        "      <td>    freshman</td>\n",
        "    </tr>\n",
        "    <tr>\n",
        "      <th>major</th>\n",
        "      <td> computer science</td>\n",
        "      <td> computer science</td>\n",
        "      <td> computer science</td>\n",
        "      <td> mathematics</td>\n",
        "      <td> mathematics</td>\n",
        "    </tr>\n",
        "  </tbody>\n",
        "</table>\n",
        "</div>"
       ],
       "metadata": {},
       "output_type": "pyout",
       "prompt_number": 15,
       "text": [
        "                   1290              3331              4915         5567         6518\n",
        "name                Kim               Tom               Bob          Sue          Jim\n",
        "year          sophomore          freshman         sophomore    sophomore     freshman\n",
        "major  computer science  computer science  computer science  mathematics  mathematics"
       ]
      }
     ],
     "prompt_number": 15
    },
    {
     "cell_type": "code",
     "collapsed": false,
     "input": [
      "students_long = pd.melt(students, id_vars='name')"
     ],
     "language": "python",
     "metadata": {},
     "outputs": [],
     "prompt_number": 16
    },
    {
     "cell_type": "code",
     "collapsed": false,
     "input": [
      "students_long"
     ],
     "language": "python",
     "metadata": {},
     "outputs": [
      {
       "html": [
        "<div style=\"max-height:1000px;max-width:1500px;overflow:auto;\">\n",
        "<table border=\"1\" class=\"dataframe\">\n",
        "  <thead>\n",
        "    <tr style=\"text-align: right;\">\n",
        "      <th></th>\n",
        "      <th>name</th>\n",
        "      <th>variable</th>\n",
        "      <th>value</th>\n",
        "    </tr>\n",
        "  </thead>\n",
        "  <tbody>\n",
        "    <tr>\n",
        "      <th>0</th>\n",
        "      <td> Kim</td>\n",
        "      <td>  year</td>\n",
        "      <td>        sophomore</td>\n",
        "    </tr>\n",
        "    <tr>\n",
        "      <th>1</th>\n",
        "      <td> Tom</td>\n",
        "      <td>  year</td>\n",
        "      <td>         freshman</td>\n",
        "    </tr>\n",
        "    <tr>\n",
        "      <th>2</th>\n",
        "      <td> Bob</td>\n",
        "      <td>  year</td>\n",
        "      <td>        sophomore</td>\n",
        "    </tr>\n",
        "    <tr>\n",
        "      <th>3</th>\n",
        "      <td> Sue</td>\n",
        "      <td>  year</td>\n",
        "      <td>        sophomore</td>\n",
        "    </tr>\n",
        "    <tr>\n",
        "      <th>4</th>\n",
        "      <td> Jim</td>\n",
        "      <td>  year</td>\n",
        "      <td>         freshman</td>\n",
        "    </tr>\n",
        "    <tr>\n",
        "      <th>5</th>\n",
        "      <td> Kim</td>\n",
        "      <td> major</td>\n",
        "      <td> computer science</td>\n",
        "    </tr>\n",
        "    <tr>\n",
        "      <th>6</th>\n",
        "      <td> Tom</td>\n",
        "      <td> major</td>\n",
        "      <td> computer science</td>\n",
        "    </tr>\n",
        "    <tr>\n",
        "      <th>7</th>\n",
        "      <td> Bob</td>\n",
        "      <td> major</td>\n",
        "      <td> computer science</td>\n",
        "    </tr>\n",
        "    <tr>\n",
        "      <th>8</th>\n",
        "      <td> Sue</td>\n",
        "      <td> major</td>\n",
        "      <td>      mathematics</td>\n",
        "    </tr>\n",
        "    <tr>\n",
        "      <th>9</th>\n",
        "      <td> Jim</td>\n",
        "      <td> major</td>\n",
        "      <td>      mathematics</td>\n",
        "    </tr>\n",
        "  </tbody>\n",
        "</table>\n",
        "</div>"
       ],
       "metadata": {},
       "output_type": "pyout",
       "prompt_number": 17,
       "text": [
        "  name variable             value\n",
        "0  Kim     year         sophomore\n",
        "1  Tom     year          freshman\n",
        "2  Bob     year         sophomore\n",
        "3  Sue     year         sophomore\n",
        "4  Jim     year          freshman\n",
        "5  Kim    major  computer science\n",
        "6  Tom    major  computer science\n",
        "7  Bob    major  computer science\n",
        "8  Sue    major       mathematics\n",
        "9  Jim    major       mathematics"
       ]
      }
     ],
     "prompt_number": 17
    },
    {
     "cell_type": "code",
     "collapsed": false,
     "input": [
      "new_info = pd.DataFrame({'name':['Bob','Sue'], 'variable':['Status', 'out of state'], 'value':['probation', 'yes']})"
     ],
     "language": "python",
     "metadata": {},
     "outputs": [],
     "prompt_number": 18
    },
    {
     "cell_type": "code",
     "collapsed": false,
     "input": [
      "new_info"
     ],
     "language": "python",
     "metadata": {},
     "outputs": [
      {
       "html": [
        "<div style=\"max-height:1000px;max-width:1500px;overflow:auto;\">\n",
        "<table border=\"1\" class=\"dataframe\">\n",
        "  <thead>\n",
        "    <tr style=\"text-align: right;\">\n",
        "      <th></th>\n",
        "      <th>name</th>\n",
        "      <th>value</th>\n",
        "      <th>variable</th>\n",
        "    </tr>\n",
        "  </thead>\n",
        "  <tbody>\n",
        "    <tr>\n",
        "      <th>0</th>\n",
        "      <td> Bob</td>\n",
        "      <td> probation</td>\n",
        "      <td>       Status</td>\n",
        "    </tr>\n",
        "    <tr>\n",
        "      <th>1</th>\n",
        "      <td> Sue</td>\n",
        "      <td>       yes</td>\n",
        "      <td> out of state</td>\n",
        "    </tr>\n",
        "  </tbody>\n",
        "</table>\n",
        "</div>"
       ],
       "metadata": {},
       "output_type": "pyout",
       "prompt_number": 19,
       "text": [
        "  name      value      variable\n",
        "0  Bob  probation        Status\n",
        "1  Sue        yes  out of state"
       ]
      }
     ],
     "prompt_number": 19
    },
    {
     "cell_type": "code",
     "collapsed": false,
     "input": [
      "students_long_updated = students_long.append(new_info)"
     ],
     "language": "python",
     "metadata": {},
     "outputs": [],
     "prompt_number": 20
    },
    {
     "cell_type": "code",
     "collapsed": false,
     "input": [
      "students_long_updated"
     ],
     "language": "python",
     "metadata": {},
     "outputs": [
      {
       "html": [
        "<div style=\"max-height:1000px;max-width:1500px;overflow:auto;\">\n",
        "<table border=\"1\" class=\"dataframe\">\n",
        "  <thead>\n",
        "    <tr style=\"text-align: right;\">\n",
        "      <th></th>\n",
        "      <th>name</th>\n",
        "      <th>value</th>\n",
        "      <th>variable</th>\n",
        "    </tr>\n",
        "  </thead>\n",
        "  <tbody>\n",
        "    <tr>\n",
        "      <th>0</th>\n",
        "      <td> Kim</td>\n",
        "      <td>        sophomore</td>\n",
        "      <td>         year</td>\n",
        "    </tr>\n",
        "    <tr>\n",
        "      <th>1</th>\n",
        "      <td> Tom</td>\n",
        "      <td>         freshman</td>\n",
        "      <td>         year</td>\n",
        "    </tr>\n",
        "    <tr>\n",
        "      <th>2</th>\n",
        "      <td> Bob</td>\n",
        "      <td>        sophomore</td>\n",
        "      <td>         year</td>\n",
        "    </tr>\n",
        "    <tr>\n",
        "      <th>3</th>\n",
        "      <td> Sue</td>\n",
        "      <td>        sophomore</td>\n",
        "      <td>         year</td>\n",
        "    </tr>\n",
        "    <tr>\n",
        "      <th>4</th>\n",
        "      <td> Jim</td>\n",
        "      <td>         freshman</td>\n",
        "      <td>         year</td>\n",
        "    </tr>\n",
        "    <tr>\n",
        "      <th>5</th>\n",
        "      <td> Kim</td>\n",
        "      <td> computer science</td>\n",
        "      <td>        major</td>\n",
        "    </tr>\n",
        "    <tr>\n",
        "      <th>6</th>\n",
        "      <td> Tom</td>\n",
        "      <td> computer science</td>\n",
        "      <td>        major</td>\n",
        "    </tr>\n",
        "    <tr>\n",
        "      <th>7</th>\n",
        "      <td> Bob</td>\n",
        "      <td> computer science</td>\n",
        "      <td>        major</td>\n",
        "    </tr>\n",
        "    <tr>\n",
        "      <th>8</th>\n",
        "      <td> Sue</td>\n",
        "      <td>      mathematics</td>\n",
        "      <td>        major</td>\n",
        "    </tr>\n",
        "    <tr>\n",
        "      <th>9</th>\n",
        "      <td> Jim</td>\n",
        "      <td>      mathematics</td>\n",
        "      <td>        major</td>\n",
        "    </tr>\n",
        "    <tr>\n",
        "      <th>0</th>\n",
        "      <td> Bob</td>\n",
        "      <td>        probation</td>\n",
        "      <td>       Status</td>\n",
        "    </tr>\n",
        "    <tr>\n",
        "      <th>1</th>\n",
        "      <td> Sue</td>\n",
        "      <td>              yes</td>\n",
        "      <td> out of state</td>\n",
        "    </tr>\n",
        "  </tbody>\n",
        "</table>\n",
        "</div>"
       ],
       "metadata": {},
       "output_type": "pyout",
       "prompt_number": 21,
       "text": [
        "  name             value      variable\n",
        "0  Kim         sophomore          year\n",
        "1  Tom          freshman          year\n",
        "2  Bob         sophomore          year\n",
        "3  Sue         sophomore          year\n",
        "4  Jim          freshman          year\n",
        "5  Kim  computer science         major\n",
        "6  Tom  computer science         major\n",
        "7  Bob  computer science         major\n",
        "8  Sue       mathematics         major\n",
        "9  Jim       mathematics         major\n",
        "0  Bob         probation        Status\n",
        "1  Sue               yes  out of state"
       ]
      }
     ],
     "prompt_number": 21
    },
    {
     "cell_type": "code",
     "collapsed": false,
     "input": [
      "students_long_updated.pivot('name', 'variable')"
     ],
     "language": "python",
     "metadata": {},
     "outputs": [
      {
       "html": [
        "<div style=\"max-height:1000px;max-width:1500px;overflow:auto;\">\n",
        "<table border=\"1\" class=\"dataframe\">\n",
        "  <thead>\n",
        "    <tr>\n",
        "      <th></th>\n",
        "      <th colspan=\"4\" halign=\"left\">value</th>\n",
        "    </tr>\n",
        "    <tr>\n",
        "      <th>variable</th>\n",
        "      <th>Status</th>\n",
        "      <th>major</th>\n",
        "      <th>out of state</th>\n",
        "      <th>year</th>\n",
        "    </tr>\n",
        "    <tr>\n",
        "      <th>name</th>\n",
        "      <th></th>\n",
        "      <th></th>\n",
        "      <th></th>\n",
        "      <th></th>\n",
        "    </tr>\n",
        "  </thead>\n",
        "  <tbody>\n",
        "    <tr>\n",
        "      <th>Bob</th>\n",
        "      <td> probation</td>\n",
        "      <td> computer science</td>\n",
        "      <td> NaN</td>\n",
        "      <td> sophomore</td>\n",
        "    </tr>\n",
        "    <tr>\n",
        "      <th>Jim</th>\n",
        "      <td>       NaN</td>\n",
        "      <td>      mathematics</td>\n",
        "      <td> NaN</td>\n",
        "      <td>  freshman</td>\n",
        "    </tr>\n",
        "    <tr>\n",
        "      <th>Kim</th>\n",
        "      <td>       NaN</td>\n",
        "      <td> computer science</td>\n",
        "      <td> NaN</td>\n",
        "      <td> sophomore</td>\n",
        "    </tr>\n",
        "    <tr>\n",
        "      <th>Sue</th>\n",
        "      <td>       NaN</td>\n",
        "      <td>      mathematics</td>\n",
        "      <td> yes</td>\n",
        "      <td> sophomore</td>\n",
        "    </tr>\n",
        "    <tr>\n",
        "      <th>Tom</th>\n",
        "      <td>       NaN</td>\n",
        "      <td> computer science</td>\n",
        "      <td> NaN</td>\n",
        "      <td>  freshman</td>\n",
        "    </tr>\n",
        "  </tbody>\n",
        "</table>\n",
        "</div>"
       ],
       "metadata": {},
       "output_type": "pyout",
       "prompt_number": 22,
       "text": [
        "              value                                          \n",
        "variable     Status             major out of state       year\n",
        "name                                                         \n",
        "Bob       probation  computer science          NaN  sophomore\n",
        "Jim             NaN       mathematics          NaN   freshman\n",
        "Kim             NaN  computer science          NaN  sophomore\n",
        "Sue             NaN       mathematics          yes  sophomore\n",
        "Tom             NaN  computer science          NaN   freshman"
       ]
      }
     ],
     "prompt_number": 22
    },
    {
     "cell_type": "code",
     "collapsed": false,
     "input": [
      "import numpy as np"
     ],
     "language": "python",
     "metadata": {},
     "outputs": [],
     "prompt_number": 23
    },
    {
     "cell_type": "code",
     "collapsed": false,
     "input": [
      "sampler = np.random.permutation(5)"
     ],
     "language": "python",
     "metadata": {},
     "outputs": [],
     "prompt_number": 24
    },
    {
     "cell_type": "code",
     "collapsed": false,
     "input": [
      "sampler"
     ],
     "language": "python",
     "metadata": {},
     "outputs": [
      {
       "metadata": {},
       "output_type": "pyout",
       "prompt_number": 25,
       "text": [
        "array([4, 0, 3, 2, 1])"
       ]
      }
     ],
     "prompt_number": 25
    },
    {
     "cell_type": "code",
     "collapsed": false,
     "input": [
      "tests"
     ],
     "language": "python",
     "metadata": {},
     "outputs": [
      {
       "html": [
        "<div style=\"max-height:1000px;max-width:1500px;overflow:auto;\">\n",
        "<table border=\"1\" class=\"dataframe\">\n",
        "  <thead>\n",
        "    <tr style=\"text-align: right;\">\n",
        "      <th></th>\n",
        "      <th>T1</th>\n",
        "      <th>T2</th>\n",
        "      <th>T3</th>\n",
        "    </tr>\n",
        "  </thead>\n",
        "  <tbody>\n",
        "    <tr>\n",
        "      <th>Bob</th>\n",
        "      <td> 67</td>\n",
        "      <td> 63</td>\n",
        "      <td> 65</td>\n",
        "    </tr>\n",
        "    <tr>\n",
        "      <th>Jim</th>\n",
        "      <td> 52</td>\n",
        "      <td> 51</td>\n",
        "      <td> 58</td>\n",
        "    </tr>\n",
        "    <tr>\n",
        "      <th>Kim</th>\n",
        "      <td> 70</td>\n",
        "      <td> 74</td>\n",
        "      <td> 73</td>\n",
        "    </tr>\n",
        "    <tr>\n",
        "      <th>Sue</th>\n",
        "      <td> 98</td>\n",
        "      <td> 97</td>\n",
        "      <td> 92</td>\n",
        "    </tr>\n",
        "    <tr>\n",
        "      <th>Tom</th>\n",
        "      <td> 81</td>\n",
        "      <td> 86</td>\n",
        "      <td> 83</td>\n",
        "    </tr>\n",
        "  </tbody>\n",
        "</table>\n",
        "</div>"
       ],
       "metadata": {},
       "output_type": "pyout",
       "prompt_number": 26,
       "text": [
        "     T1  T2  T3\n",
        "Bob  67  63  65\n",
        "Jim  52  51  58\n",
        "Kim  70  74  73\n",
        "Sue  98  97  92\n",
        "Tom  81  86  83"
       ]
      }
     ],
     "prompt_number": 26
    },
    {
     "cell_type": "code",
     "collapsed": false,
     "input": [
      "tests.take(sampler[:2])"
     ],
     "language": "python",
     "metadata": {},
     "outputs": [
      {
       "html": [
        "<div style=\"max-height:1000px;max-width:1500px;overflow:auto;\">\n",
        "<table border=\"1\" class=\"dataframe\">\n",
        "  <thead>\n",
        "    <tr style=\"text-align: right;\">\n",
        "      <th></th>\n",
        "      <th>T1</th>\n",
        "      <th>T2</th>\n",
        "      <th>T3</th>\n",
        "    </tr>\n",
        "  </thead>\n",
        "  <tbody>\n",
        "    <tr>\n",
        "      <th>Tom</th>\n",
        "      <td> 81</td>\n",
        "      <td> 86</td>\n",
        "      <td> 83</td>\n",
        "    </tr>\n",
        "    <tr>\n",
        "      <th>Bob</th>\n",
        "      <td> 67</td>\n",
        "      <td> 63</td>\n",
        "      <td> 65</td>\n",
        "    </tr>\n",
        "  </tbody>\n",
        "</table>\n",
        "</div>"
       ],
       "metadata": {},
       "output_type": "pyout",
       "prompt_number": 29,
       "text": [
        "     T1  T2  T3\n",
        "Tom  81  86  83\n",
        "Bob  67  63  65"
       ]
      }
     ],
     "prompt_number": 29
    },
    {
     "cell_type": "code",
     "collapsed": false,
     "input": [
      "sampler = np.random.randint(0,5, size=2)"
     ],
     "language": "python",
     "metadata": {},
     "outputs": [],
     "prompt_number": 31
    },
    {
     "cell_type": "code",
     "collapsed": false,
     "input": [
      "sampler"
     ],
     "language": "python",
     "metadata": {},
     "outputs": [
      {
       "metadata": {},
       "output_type": "pyout",
       "prompt_number": 32,
       "text": [
        "array([4, 1])"
       ]
      }
     ],
     "prompt_number": 32
    },
    {
     "cell_type": "code",
     "collapsed": false,
     "input": [
      "tests.take(sampler)"
     ],
     "language": "python",
     "metadata": {},
     "outputs": [
      {
       "html": [
        "<div style=\"max-height:1000px;max-width:1500px;overflow:auto;\">\n",
        "<table border=\"1\" class=\"dataframe\">\n",
        "  <thead>\n",
        "    <tr style=\"text-align: right;\">\n",
        "      <th></th>\n",
        "      <th>T1</th>\n",
        "      <th>T2</th>\n",
        "      <th>T3</th>\n",
        "    </tr>\n",
        "  </thead>\n",
        "  <tbody>\n",
        "    <tr>\n",
        "      <th>Tom</th>\n",
        "      <td> 81</td>\n",
        "      <td> 86</td>\n",
        "      <td> 83</td>\n",
        "    </tr>\n",
        "    <tr>\n",
        "      <th>Jim</th>\n",
        "      <td> 52</td>\n",
        "      <td> 51</td>\n",
        "      <td> 58</td>\n",
        "    </tr>\n",
        "  </tbody>\n",
        "</table>\n",
        "</div>"
       ],
       "metadata": {},
       "output_type": "pyout",
       "prompt_number": 33,
       "text": [
        "     T1  T2  T3\n",
        "Tom  81  86  83\n",
        "Jim  52  51  58"
       ]
      }
     ],
     "prompt_number": 33
    },
    {
     "cell_type": "code",
     "collapsed": false,
     "input": [
      "tests.describe()"
     ],
     "language": "python",
     "metadata": {},
     "outputs": [
      {
       "html": [
        "<div style=\"max-height:1000px;max-width:1500px;overflow:auto;\">\n",
        "<table border=\"1\" class=\"dataframe\">\n",
        "  <thead>\n",
        "    <tr style=\"text-align: right;\">\n",
        "      <th></th>\n",
        "      <th>T1</th>\n",
        "      <th>T2</th>\n",
        "      <th>T3</th>\n",
        "    </tr>\n",
        "  </thead>\n",
        "  <tbody>\n",
        "    <tr>\n",
        "      <th>count</th>\n",
        "      <td>  5.000000</td>\n",
        "      <td>  5.000000</td>\n",
        "      <td>  5.000000</td>\n",
        "    </tr>\n",
        "    <tr>\n",
        "      <th>mean</th>\n",
        "      <td> 73.600000</td>\n",
        "      <td> 74.200000</td>\n",
        "      <td> 74.200000</td>\n",
        "    </tr>\n",
        "    <tr>\n",
        "      <th>std</th>\n",
        "      <td> 17.126004</td>\n",
        "      <td> 18.185159</td>\n",
        "      <td> 13.627179</td>\n",
        "    </tr>\n",
        "    <tr>\n",
        "      <th>min</th>\n",
        "      <td> 52.000000</td>\n",
        "      <td> 51.000000</td>\n",
        "      <td> 58.000000</td>\n",
        "    </tr>\n",
        "    <tr>\n",
        "      <th>25%</th>\n",
        "      <td> 67.000000</td>\n",
        "      <td> 63.000000</td>\n",
        "      <td> 65.000000</td>\n",
        "    </tr>\n",
        "    <tr>\n",
        "      <th>50%</th>\n",
        "      <td> 70.000000</td>\n",
        "      <td> 74.000000</td>\n",
        "      <td> 73.000000</td>\n",
        "    </tr>\n",
        "    <tr>\n",
        "      <th>75%</th>\n",
        "      <td> 81.000000</td>\n",
        "      <td> 86.000000</td>\n",
        "      <td> 83.000000</td>\n",
        "    </tr>\n",
        "    <tr>\n",
        "      <th>max</th>\n",
        "      <td> 98.000000</td>\n",
        "      <td> 97.000000</td>\n",
        "      <td> 92.000000</td>\n",
        "    </tr>\n",
        "  </tbody>\n",
        "</table>\n",
        "</div>"
       ],
       "metadata": {},
       "output_type": "pyout",
       "prompt_number": 34,
       "text": [
        "              T1         T2         T3\n",
        "count   5.000000   5.000000   5.000000\n",
        "mean   73.600000  74.200000  74.200000\n",
        "std    17.126004  18.185159  13.627179\n",
        "min    52.000000  51.000000  58.000000\n",
        "25%    67.000000  63.000000  65.000000\n",
        "50%    70.000000  74.000000  73.000000\n",
        "75%    81.000000  86.000000  83.000000\n",
        "max    98.000000  97.000000  92.000000"
       ]
      }
     ],
     "prompt_number": 34
    },
    {
     "cell_type": "code",
     "collapsed": false,
     "input": [
      "tests_stacked = tests.stack()"
     ],
     "language": "python",
     "metadata": {},
     "outputs": [],
     "prompt_number": 35
    },
    {
     "cell_type": "code",
     "collapsed": false,
     "input": [
      "tests_stacked"
     ],
     "language": "python",
     "metadata": {},
     "outputs": [
      {
       "metadata": {},
       "output_type": "pyout",
       "prompt_number": 36,
       "text": [
        "Bob  T1    67\n",
        "     T2    63\n",
        "     T3    65\n",
        "Jim  T1    52\n",
        "     T2    51\n",
        "     T3    58\n",
        "Kim  T1    70\n",
        "     T2    74\n",
        "     T3    73\n",
        "Sue  T1    98\n",
        "     T2    97\n",
        "     T3    92\n",
        "Tom  T1    81\n",
        "     T2    86\n",
        "     T3    83\n",
        "dtype: int64"
       ]
      }
     ],
     "prompt_number": 36
    },
    {
     "cell_type": "code",
     "collapsed": false,
     "input": [
      "tests_stacked.median()"
     ],
     "language": "python",
     "metadata": {},
     "outputs": [
      {
       "metadata": {},
       "output_type": "pyout",
       "prompt_number": 37,
       "text": [
        "73.0"
       ]
      }
     ],
     "prompt_number": 37
    },
    {
     "cell_type": "code",
     "collapsed": false,
     "input": [
      "students.major"
     ],
     "language": "python",
     "metadata": {},
     "outputs": [
      {
       "metadata": {},
       "output_type": "pyout",
       "prompt_number": 38,
       "text": [
        "1290    computer science\n",
        "3331    computer science\n",
        "4915    computer science\n",
        "5567         mathematics\n",
        "6518         mathematics\n",
        "Name: major, dtype: object"
       ]
      }
     ],
     "prompt_number": 38
    },
    {
     "cell_type": "code",
     "collapsed": false,
     "input": [
      "students.major.value_counts()"
     ],
     "language": "python",
     "metadata": {},
     "outputs": [
      {
       "metadata": {},
       "output_type": "pyout",
       "prompt_number": 39,
       "text": [
        "computer science    3\n",
        "mathematics         2\n",
        "dtype: int64"
       ]
      }
     ],
     "prompt_number": 39
    },
    {
     "cell_type": "code",
     "collapsed": false,
     "input": [
      "students.year.value_counts()"
     ],
     "language": "python",
     "metadata": {},
     "outputs": [
      {
       "metadata": {},
       "output_type": "pyout",
       "prompt_number": 40,
       "text": [
        "sophomore    3\n",
        "freshman     2\n",
        "dtype: int64"
       ]
      }
     ],
     "prompt_number": 40
    },
    {
     "cell_type": "code",
     "collapsed": false,
     "input": [
      "students.major.unique()"
     ],
     "language": "python",
     "metadata": {},
     "outputs": [
      {
       "metadata": {},
       "output_type": "pyout",
       "prompt_number": 41,
       "text": [
        "array(['computer science', 'mathematics'], dtype=object)"
       ]
      }
     ],
     "prompt_number": 41
    },
    {
     "cell_type": "code",
     "collapsed": false,
     "input": [
      "students.year.unique()"
     ],
     "language": "python",
     "metadata": {},
     "outputs": [
      {
       "metadata": {},
       "output_type": "pyout",
       "prompt_number": 42,
       "text": [
        "array(['sophomore', 'freshman'], dtype=object)"
       ]
      }
     ],
     "prompt_number": 42
    },
    {
     "cell_type": "code",
     "collapsed": false,
     "input": [
      "mask = students.year.isin(['sophomore'])"
     ],
     "language": "python",
     "metadata": {},
     "outputs": [],
     "prompt_number": 44
    },
    {
     "cell_type": "code",
     "collapsed": false,
     "input": [
      "mask"
     ],
     "language": "python",
     "metadata": {},
     "outputs": [
      {
       "metadata": {},
       "output_type": "pyout",
       "prompt_number": 45,
       "text": [
        "1290     True\n",
        "3331    False\n",
        "4915     True\n",
        "5567     True\n",
        "6518    False\n",
        "Name: year, dtype: bool"
       ]
      }
     ],
     "prompt_number": 45
    },
    {
     "cell_type": "code",
     "collapsed": false,
     "input": [
      "students[mask]"
     ],
     "language": "python",
     "metadata": {},
     "outputs": [
      {
       "html": [
        "<div style=\"max-height:1000px;max-width:1500px;overflow:auto;\">\n",
        "<table border=\"1\" class=\"dataframe\">\n",
        "  <thead>\n",
        "    <tr style=\"text-align: right;\">\n",
        "      <th></th>\n",
        "      <th>name</th>\n",
        "      <th>year</th>\n",
        "      <th>major</th>\n",
        "    </tr>\n",
        "  </thead>\n",
        "  <tbody>\n",
        "    <tr>\n",
        "      <th>1290</th>\n",
        "      <td> Kim</td>\n",
        "      <td> sophomore</td>\n",
        "      <td> computer science</td>\n",
        "    </tr>\n",
        "    <tr>\n",
        "      <th>4915</th>\n",
        "      <td> Bob</td>\n",
        "      <td> sophomore</td>\n",
        "      <td> computer science</td>\n",
        "    </tr>\n",
        "    <tr>\n",
        "      <th>5567</th>\n",
        "      <td> Sue</td>\n",
        "      <td> sophomore</td>\n",
        "      <td>      mathematics</td>\n",
        "    </tr>\n",
        "  </tbody>\n",
        "</table>\n",
        "</div>"
       ],
       "metadata": {},
       "output_type": "pyout",
       "prompt_number": 47,
       "text": [
        "     name       year             major\n",
        "1290  Kim  sophomore  computer science\n",
        "4915  Bob  sophomore  computer science\n",
        "5567  Sue  sophomore       mathematics"
       ]
      }
     ],
     "prompt_number": 47
    },
    {
     "cell_type": "code",
     "collapsed": false,
     "input": [
      "tests.corr()"
     ],
     "language": "python",
     "metadata": {},
     "outputs": [
      {
       "html": [
        "<div style=\"max-height:1000px;max-width:1500px;overflow:auto;\">\n",
        "<table border=\"1\" class=\"dataframe\">\n",
        "  <thead>\n",
        "    <tr style=\"text-align: right;\">\n",
        "      <th></th>\n",
        "      <th>T1</th>\n",
        "      <th>T2</th>\n",
        "      <th>T3</th>\n",
        "    </tr>\n",
        "  </thead>\n",
        "  <tbody>\n",
        "    <tr>\n",
        "      <th>T1</th>\n",
        "      <td> 1.000000</td>\n",
        "      <td> 0.978843</td>\n",
        "      <td> 0.979522</td>\n",
        "    </tr>\n",
        "    <tr>\n",
        "      <th>T2</th>\n",
        "      <td> 0.978843</td>\n",
        "      <td> 1.000000</td>\n",
        "      <td> 0.997529</td>\n",
        "    </tr>\n",
        "    <tr>\n",
        "      <th>T3</th>\n",
        "      <td> 0.979522</td>\n",
        "      <td> 0.997529</td>\n",
        "      <td> 1.000000</td>\n",
        "    </tr>\n",
        "  </tbody>\n",
        "</table>\n",
        "</div>"
       ],
       "metadata": {},
       "output_type": "pyout",
       "prompt_number": 48,
       "text": [
        "          T1        T2        T3\n",
        "T1  1.000000  0.978843  0.979522\n",
        "T2  0.978843  1.000000  0.997529\n",
        "T3  0.979522  0.997529  1.000000"
       ]
      }
     ],
     "prompt_number": 48
    },
    {
     "cell_type": "code",
     "collapsed": false,
     "input": [
      "tests.T.corr()"
     ],
     "language": "python",
     "metadata": {},
     "outputs": [
      {
       "html": [
        "<div style=\"max-height:1000px;max-width:1500px;overflow:auto;\">\n",
        "<table border=\"1\" class=\"dataframe\">\n",
        "  <thead>\n",
        "    <tr style=\"text-align: right;\">\n",
        "      <th></th>\n",
        "      <th>Bob</th>\n",
        "      <th>Jim</th>\n",
        "      <th>Kim</th>\n",
        "      <th>Sue</th>\n",
        "      <th>Tom</th>\n",
        "    </tr>\n",
        "  </thead>\n",
        "  <tbody>\n",
        "    <tr>\n",
        "      <th>Bob</th>\n",
        "      <td> 1.000000</td>\n",
        "      <td> 0.132068</td>\n",
        "      <td>-0.960769</td>\n",
        "      <td> 0.155543</td>\n",
        "      <td>-0.993399</td>\n",
        "    </tr>\n",
        "    <tr>\n",
        "      <th>Jim</th>\n",
        "      <td> 0.132068</td>\n",
        "      <td> 1.000000</td>\n",
        "      <td> 0.148034</td>\n",
        "      <td>-0.958634</td>\n",
        "      <td>-0.244899</td>\n",
        "    </tr>\n",
        "    <tr>\n",
        "      <th>Kim</th>\n",
        "      <td>-0.960769</td>\n",
        "      <td> 0.148034</td>\n",
        "      <td> 1.000000</td>\n",
        "      <td>-0.423415</td>\n",
        "      <td> 0.922613</td>\n",
        "    </tr>\n",
        "    <tr>\n",
        "      <th>Sue</th>\n",
        "      <td> 0.155543</td>\n",
        "      <td>-0.958634</td>\n",
        "      <td>-0.423415</td>\n",
        "      <td> 1.000000</td>\n",
        "      <td>-0.041204</td>\n",
        "    </tr>\n",
        "    <tr>\n",
        "      <th>Tom</th>\n",
        "      <td>-0.993399</td>\n",
        "      <td>-0.244899</td>\n",
        "      <td> 0.922613</td>\n",
        "      <td>-0.041204</td>\n",
        "      <td> 1.000000</td>\n",
        "    </tr>\n",
        "  </tbody>\n",
        "</table>\n",
        "</div>"
       ],
       "metadata": {},
       "output_type": "pyout",
       "prompt_number": 49,
       "text": [
        "          Bob       Jim       Kim       Sue       Tom\n",
        "Bob  1.000000  0.132068 -0.960769  0.155543 -0.993399\n",
        "Jim  0.132068  1.000000  0.148034 -0.958634 -0.244899\n",
        "Kim -0.960769  0.148034  1.000000 -0.423415  0.922613\n",
        "Sue  0.155543 -0.958634 -0.423415  1.000000 -0.041204\n",
        "Tom -0.993399 -0.244899  0.922613 -0.041204  1.000000"
       ]
      }
     ],
     "prompt_number": 49
    },
    {
     "cell_type": "code",
     "collapsed": false,
     "input": [
      "tests.corrwith(quizzes.Q1)"
     ],
     "language": "python",
     "metadata": {},
     "outputs": [
      {
       "metadata": {},
       "output_type": "pyout",
       "prompt_number": 51,
       "text": [
        "T1    0.973637\n",
        "T2    0.998577\n",
        "T3    0.999255\n",
        "dtype: float64"
       ]
      }
     ],
     "prompt_number": 51
    },
    {
     "cell_type": "code",
     "collapsed": false,
     "input": [
      "testing = (['57','65','66','68','70','70','72','73','75','89'])"
     ],
     "language": "python",
     "metadata": {},
     "outputs": [],
     "prompt_number": 58
    },
    {
     "cell_type": "code",
     "collapsed": false,
     "input": [
      "students.year.isin(['sophomore'])"
     ],
     "language": "python",
     "metadata": {},
     "outputs": [
      {
       "ename": "NameError",
       "evalue": "name 'students' is not defined",
       "output_type": "pyerr",
       "traceback": [
        "\u001b[1;31m---------------------------------------------------------------------------\u001b[0m\n\u001b[1;31mNameError\u001b[0m                                 Traceback (most recent call last)",
        "\u001b[1;32m<ipython-input-1-398a02fe6bc1>\u001b[0m in \u001b[0;36m<module>\u001b[1;34m()\u001b[0m\n\u001b[1;32m----> 1\u001b[1;33m \u001b[0mstudents\u001b[0m\u001b[1;33m.\u001b[0m\u001b[0myear\u001b[0m\u001b[1;33m.\u001b[0m\u001b[0misin\u001b[0m\u001b[1;33m(\u001b[0m\u001b[1;33m[\u001b[0m\u001b[1;34m'sophomore'\u001b[0m\u001b[1;33m]\u001b[0m\u001b[1;33m)\u001b[0m\u001b[1;33m\u001b[0m\u001b[0m\n\u001b[0m",
        "\u001b[1;31mNameError\u001b[0m: name 'students' is not defined"
       ]
      }
     ],
     "prompt_number": 1
    },
    {
     "cell_type": "code",
     "collapsed": false,
     "input": [],
     "language": "python",
     "metadata": {},
     "outputs": []
    }
   ],
   "metadata": {}
  }
 ]
}