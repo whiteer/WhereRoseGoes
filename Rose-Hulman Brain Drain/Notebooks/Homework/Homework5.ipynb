{
 "metadata": {
  "name": ""
 },
 "nbformat": 3,
 "nbformat_minor": 0,
 "worksheets": [
  {
   "cells": [
    {
     "cell_type": "code",
     "collapsed": false,
     "input": [
      "cd ../../Google Drive/My Media/General/Education/Rose-Hulman/2013 - 2014 School year/11) Winter 2013-2014/CSSE 490/Homework/Homework 5"
     ],
     "language": "python",
     "metadata": {},
     "outputs": [
      {
       "output_type": "stream",
       "stream": "stdout",
       "text": [
        "C:\\Users\\whiteer\\Google Drive\\My Media\\General\\Education\\Rose-Hulman\\2013 - 2014 School year\\11) Winter 2013-2014\\CSSE 490\\Homework\\Homework 5\n"
       ]
      }
     ],
     "prompt_number": 1
    },
    {
     "cell_type": "code",
     "collapsed": false,
     "input": [
      "import pandas as pd\n",
      "import numpy as np\n",
      "import matplotlib.pyplot as plt"
     ],
     "language": "python",
     "metadata": {},
     "outputs": [],
     "prompt_number": 2
    },
    {
     "cell_type": "code",
     "collapsed": false,
     "input": [
      "cols = ['MLS' ,'Location', 'Price', 'Bedrooms', 'Bathrooms', 'Size', 'Price/SQ.Ft', 'Status']\n",
      "houses = pd.read_csv('RealEstate.csv', header = 0)\n",
      "locations = houses.Location.unique()"
     ],
     "language": "python",
     "metadata": {},
     "outputs": [],
     "prompt_number": 3
    },
    {
     "cell_type": "markdown",
     "metadata": {},
     "source": [
      "Problem 1.a) What are the top three locations with the most expensive median price per square foot?\n",
      "    Oceano\n",
      "    Avila Beach\n",
      "    Bradley\n",
      "What are the bottom three locations with the least expensive median prices per square\n",
      "foot?\n",
      "    Greenfield\n",
      "    King City\n",
      "    Bakersfield"
     ]
    },
    {
     "cell_type": "code",
     "collapsed": false,
     "input": [
      "houses_A = pd.DataFrame(houses, columns =[\"Location\"])\n",
      "houses_A['price_sqft'] = pd.Series(houses[\"Price\"]/houses[\"Size\"])\n",
      "houses_A_agg = pd.DataFrame(houses_A.groupby(houses.Location).agg([len, np.median]))\n",
      "houses_A_sorted = houses_A_agg.sort_index(by = [(u'price_sqft', u'median')], ascending = False, kind = 'quicksort')"
     ],
     "language": "python",
     "metadata": {},
     "outputs": [],
     "prompt_number": 4
    },
    {
     "cell_type": "code",
     "collapsed": false,
     "input": [
      "houses_A_sorted[(u'price_sqft', u'median')].iloc[0:3]"
     ],
     "language": "python",
     "metadata": {},
     "outputs": [
      {
       "metadata": {},
       "output_type": "pyout",
       "prompt_number": 5,
       "text": [
        "Location\n",
        " Oceano        1144.636015\n",
        "Avila Beach     636.958299\n",
        " Bradley        606.060606\n",
        "dtype: float64"
       ]
      }
     ],
     "prompt_number": 5
    },
    {
     "cell_type": "code",
     "collapsed": false,
     "input": [
      "houses_A_sorted[(u'price_sqft', u'median')].iloc[-4:-1]"
     ],
     "language": "python",
     "metadata": {},
     "outputs": [
      {
       "metadata": {},
       "output_type": "pyout",
       "prompt_number": 6,
       "text": [
        "Location\n",
        "Greenfield     91.575818\n",
        "King City      74.679487\n",
        "Bakersfield    69.687738\n",
        "dtype: float64"
       ]
      }
     ],
     "prompt_number": 6
    },
    {
     "cell_type": "markdown",
     "metadata": {},
     "source": [
      "Problem 1.b) Complete a cross-tabulation of the number of bedrooms and bathrooms a house has - Done.\n",
      "\n",
      "What type of house is the most common house in the data set - 3 bedrooms, 2 baths\n",
      "\n",
      "Is it more common for a house to have more bedrooms than bathrooms or more bathrooms than bedrooms - It is much more commom to have more bedrooms than bathrooms"
     ]
    },
    {
     "cell_type": "code",
     "collapsed": false,
     "input": [
      "pd.crosstab(houses.Bathrooms, houses.Bedrooms)"
     ],
     "language": "python",
     "metadata": {},
     "outputs": [
      {
       "html": [
        "<div style=\"max-height:1000px;max-width:1500px;overflow:auto;\">\n",
        "<table border=\"1\" class=\"dataframe\">\n",
        "  <thead>\n",
        "    <tr style=\"text-align: right;\">\n",
        "      <th>Bedrooms</th>\n",
        "      <th>0</th>\n",
        "      <th>1</th>\n",
        "      <th>2</th>\n",
        "      <th>3</th>\n",
        "      <th>4</th>\n",
        "      <th>5</th>\n",
        "      <th>6</th>\n",
        "      <th>7</th>\n",
        "      <th>10</th>\n",
        "    </tr>\n",
        "    <tr>\n",
        "      <th>Bathrooms</th>\n",
        "      <th></th>\n",
        "      <th></th>\n",
        "      <th></th>\n",
        "      <th></th>\n",
        "      <th></th>\n",
        "      <th></th>\n",
        "      <th></th>\n",
        "      <th></th>\n",
        "      <th></th>\n",
        "    </tr>\n",
        "  </thead>\n",
        "  <tbody>\n",
        "    <tr>\n",
        "      <th>1 </th>\n",
        "      <td> 2</td>\n",
        "      <td> 10</td>\n",
        "      <td> 33</td>\n",
        "      <td>  20</td>\n",
        "      <td>  0</td>\n",
        "      <td>  0</td>\n",
        "      <td> 0</td>\n",
        "      <td> 0</td>\n",
        "      <td> 0</td>\n",
        "    </tr>\n",
        "    <tr>\n",
        "      <th>2 </th>\n",
        "      <td> 0</td>\n",
        "      <td>  1</td>\n",
        "      <td> 78</td>\n",
        "      <td> 286</td>\n",
        "      <td> 76</td>\n",
        "      <td>  3</td>\n",
        "      <td> 0</td>\n",
        "      <td> 0</td>\n",
        "      <td> 0</td>\n",
        "    </tr>\n",
        "    <tr>\n",
        "      <th>3 </th>\n",
        "      <td> 0</td>\n",
        "      <td>  0</td>\n",
        "      <td> 12</td>\n",
        "      <td> 119</td>\n",
        "      <td> 76</td>\n",
        "      <td> 16</td>\n",
        "      <td> 3</td>\n",
        "      <td> 0</td>\n",
        "      <td> 0</td>\n",
        "    </tr>\n",
        "    <tr>\n",
        "      <th>4 </th>\n",
        "      <td> 0</td>\n",
        "      <td>  0</td>\n",
        "      <td>  0</td>\n",
        "      <td>   5</td>\n",
        "      <td> 19</td>\n",
        "      <td>  9</td>\n",
        "      <td> 0</td>\n",
        "      <td> 0</td>\n",
        "      <td> 0</td>\n",
        "    </tr>\n",
        "    <tr>\n",
        "      <th>5 </th>\n",
        "      <td> 0</td>\n",
        "      <td>  0</td>\n",
        "      <td>  0</td>\n",
        "      <td>   1</td>\n",
        "      <td>  6</td>\n",
        "      <td>  0</td>\n",
        "      <td> 0</td>\n",
        "      <td> 1</td>\n",
        "      <td> 0</td>\n",
        "    </tr>\n",
        "    <tr>\n",
        "      <th>6 </th>\n",
        "      <td> 0</td>\n",
        "      <td>  0</td>\n",
        "      <td>  0</td>\n",
        "      <td>   0</td>\n",
        "      <td>  0</td>\n",
        "      <td>  2</td>\n",
        "      <td> 0</td>\n",
        "      <td> 0</td>\n",
        "      <td> 0</td>\n",
        "    </tr>\n",
        "    <tr>\n",
        "      <th>7 </th>\n",
        "      <td> 0</td>\n",
        "      <td>  0</td>\n",
        "      <td>  0</td>\n",
        "      <td>   0</td>\n",
        "      <td>  0</td>\n",
        "      <td>  1</td>\n",
        "      <td> 1</td>\n",
        "      <td> 0</td>\n",
        "      <td> 0</td>\n",
        "    </tr>\n",
        "    <tr>\n",
        "      <th>11</th>\n",
        "      <td> 0</td>\n",
        "      <td>  0</td>\n",
        "      <td>  0</td>\n",
        "      <td>   0</td>\n",
        "      <td>  0</td>\n",
        "      <td>  0</td>\n",
        "      <td> 0</td>\n",
        "      <td> 0</td>\n",
        "      <td> 1</td>\n",
        "    </tr>\n",
        "  </tbody>\n",
        "</table>\n",
        "</div>"
       ],
       "metadata": {},
       "output_type": "pyout",
       "prompt_number": 8,
       "text": [
        "Bedrooms   0   1   2    3   4   5   6   7   10\n",
        "Bathrooms                                     \n",
        "1           2  10  33   20   0   0   0   0   0\n",
        "2           0   1  78  286  76   3   0   0   0\n",
        "3           0   0  12  119  76  16   3   0   0\n",
        "4           0   0   0    5  19   9   0   0   0\n",
        "5           0   0   0    1   6   0   0   1   0\n",
        "6           0   0   0    0   0   2   0   0   0\n",
        "7           0   0   0    0   0   1   1   0   0\n",
        "11          0   0   0    0   0   0   0   0   1"
       ]
      }
     ],
     "prompt_number": 8
    },
    {
     "cell_type": "markdown",
     "metadata": {},
     "source": [
      "Problem 1.c) How strong is the correlation between the size of a house and the price of a house?\n",
      "\n",
      "    Decently strong, although not overwhelming: .66472361386580781"
     ]
    },
    {
     "cell_type": "code",
     "collapsed": false,
     "input": [
      "houses.Size.corr(houses.Price)"
     ],
     "language": "python",
     "metadata": {},
     "outputs": [
      {
       "metadata": {},
       "output_type": "pyout",
       "prompt_number": 9,
       "text": [
        "0.66472361386580781"
       ]
      }
     ],
     "prompt_number": 9
    },
    {
     "cell_type": "markdown",
     "metadata": {},
     "source": [
      "Problem 1.d) Copy the table below and fill it in with the appropriate numbers. Use the median to aggregate each group.\n",
      "\n",
      "Here's the table:"
     ]
    },
    {
     "cell_type": "code",
     "collapsed": false,
     "input": [
      "houses_D = pd.DataFrame(houses, columns =[\"Status\", \"Price\",\"Size\"])\n",
      "houses_D['Price/SQ.Ft'] = pd.Series(houses_D[\"Price\"]/houses_D[\"Size\"])\n",
      "houses_D.groupby(houses_D.Status).agg([np.median])"
     ],
     "language": "python",
     "metadata": {},
     "outputs": [
      {
       "html": [
        "<div style=\"max-height:1000px;max-width:1500px;overflow:auto;\">\n",
        "<table border=\"1\" class=\"dataframe\">\n",
        "  <thead>\n",
        "    <tr>\n",
        "      <th></th>\n",
        "      <th>Price</th>\n",
        "      <th>Size</th>\n",
        "      <th>Price/SQ.Ft</th>\n",
        "    </tr>\n",
        "    <tr>\n",
        "      <th></th>\n",
        "      <th>median</th>\n",
        "      <th>median</th>\n",
        "      <th>median</th>\n",
        "    </tr>\n",
        "    <tr>\n",
        "      <th>Status</th>\n",
        "      <th></th>\n",
        "      <th></th>\n",
        "      <th></th>\n",
        "    </tr>\n",
        "  </thead>\n",
        "  <tbody>\n",
        "    <tr>\n",
        "      <th>Foreclosure</th>\n",
        "      <td> 278950</td>\n",
        "      <td> 1500</td>\n",
        "      <td> 186.782007</td>\n",
        "    </tr>\n",
        "    <tr>\n",
        "      <th>Regular</th>\n",
        "      <td> 509000</td>\n",
        "      <td> 1832</td>\n",
        "      <td> 282.685512</td>\n",
        "    </tr>\n",
        "    <tr>\n",
        "      <th>Short Sale</th>\n",
        "      <td> 277000</td>\n",
        "      <td> 1526</td>\n",
        "      <td> 175.405865</td>\n",
        "    </tr>\n",
        "  </tbody>\n",
        "</table>\n",
        "</div>"
       ],
       "metadata": {},
       "output_type": "pyout",
       "prompt_number": 10,
       "text": [
        "              Price    Size  Price/SQ.Ft\n",
        "             median  median       median\n",
        "Status                                  \n",
        "Foreclosure  278950    1500   186.782007\n",
        "Regular      509000    1832   282.685512\n",
        "Short Sale   277000    1526   175.405865"
       ]
      }
     ],
     "prompt_number": 10
    },
    {
     "cell_type": "markdown",
     "metadata": {},
     "source": [
      "Problem 1.e) Submit box plots comparing the price per square foot of houses in Atascadero to houses in Paso Robles. \n",
      "\n",
      "What conclusions can be drawn from the box plots?\n",
      "Atascadero has a greater fluctuation in price per square foot, although Paso Robles has more outliers.  In general most house's prices in Paso Robles scale linearly with square-footage, and the price per square foot price is pretty set "
     ]
    },
    {
     "cell_type": "code",
     "collapsed": false,
     "input": [
      "houses_E = houses.groupby(houses.Location)"
     ],
     "language": "python",
     "metadata": {},
     "outputs": [],
     "prompt_number": 11
    },
    {
     "cell_type": "code",
     "collapsed": false,
     "input": [
      "houses_E_filtered = pd.DataFrame(houses, columns = ['Location', \"Price\", \"Size\"])\n",
      "houses_E_filtered['Price_SQFt'] = pd.DataFrame(houses_E_filtered[\"Price\"]/houses_E_filtered[\"Size\"])"
     ],
     "language": "python",
     "metadata": {},
     "outputs": [],
     "prompt_number": 12
    },
    {
     "cell_type": "code",
     "collapsed": false,
     "input": [
      "houses_E_Ata = pd.DataFrame(houses_E_filtered.Price_SQFt[houses_E_filtered.Location == \"Atascadero\"])\n",
      "houses_E_Paso = pd.DataFrame(houses_E_filtered.Price_SQFt[houses_E_filtered.Location == \"Paso Robles\"])\n",
      "houses_E_Ata.columns = ['Price/SQFt: Atascadero']\n",
      "houses_E_Paso.columns = ['Price/SQFt: Paso Robles']"
     ],
     "language": "python",
     "metadata": {},
     "outputs": [],
     "prompt_number": 13
    },
    {
     "cell_type": "code",
     "collapsed": false,
     "input": [
      "plt.figure(1).hold()\n",
      "plt.subplot(121)\n",
      "houses_E_Ata.boxplot(column = ['Price/SQFt: Atascadero'])\n",
      "plt.subplot(122)\n",
      "houses_E_Paso.boxplot(column = ['Price/SQFt: Paso Robles'])\n",
      "\n",
      "plt.show()"
     ],
     "language": "python",
     "metadata": {},
     "outputs": [],
     "prompt_number": 15
    },
    {
     "cell_type": "code",
     "collapsed": false,
     "input": [],
     "language": "python",
     "metadata": {},
     "outputs": [],
     "prompt_number": 14
    }
   ],
   "metadata": {}
  }
 ]
}