{
 "metadata": {
  "name": ""
 },
 "nbformat": 3,
 "nbformat_minor": 0,
 "worksheets": [
  {
   "cells": [
    {
     "cell_type": "code",
     "collapsed": false,
     "input": [
      "cd ../../Google Drive/My Media/General/Education/Rose-Hulman/2013 - 2014 School year/11) Winter 2013-2014/CSSE 490/Homework/Homework 4"
     ],
     "language": "python",
     "metadata": {},
     "outputs": [
      {
       "output_type": "stream",
       "stream": "stdout",
       "text": [
        "C:\\Users\\whiteer\\Google Drive\\My Media\\General\\Education\\Rose-Hulman\\2013 - 2014 School year\\11) Winter 2013-2014\\CSSE 490\\Homework\\Homework 4\n"
       ]
      }
     ],
     "prompt_number": 4
    },
    {
     "cell_type": "code",
     "collapsed": false,
     "input": [
      "import pandas as pd\n",
      "import numpy as np\n",
      "import matplotlib.pyplot as plt"
     ],
     "language": "python",
     "metadata": {},
     "outputs": [],
     "prompt_number": 5
    },
    {
     "cell_type": "code",
     "collapsed": false,
     "input": [
      "cols = ['ID', 'CaseNumber', 'Date', 'Block', 'IUCR', 'PrimaryType', 'Description', 'LocationDescription', 'Arrest', 'Domestic', 'Beat', 'District', 'Ward', 'CommunityArea', 'FBICode', 'XCoordinate', 'YCoordinate', 'Year', 'UpdatedOn', 'Latitude', 'Longitude', 'Location']\n",
      "crimes = pd.read_csv('Crimes_-_2001_to_present.csv', header = 1, names = cols)"
     ],
     "language": "python",
     "metadata": {},
     "outputs": [],
     "prompt_number": 5
    },
    {
     "cell_type": "code",
     "collapsed": false,
     "input": [
      "crimes.IUCR.value_counts()[:50]"
     ],
     "language": "python",
     "metadata": {},
     "outputs": [
      {
       "metadata": {},
       "output_type": "pyout",
       "prompt_number": 62,
       "text": [
        "0460    420864\n",
        "0820    412167\n",
        "0486    394560\n",
        "1320    293081\n",
        "1310    285452\n",
        "0810    271239\n",
        "1811    243023\n",
        "0560    228021\n",
        "0610    219835\n",
        "0910    199702\n",
        "0890    178856\n",
        "0860    119167\n",
        "2820    113123\n",
        "2027    110888\n",
        "1330     98936\n",
        "2825     85291\n",
        "0620     79737\n",
        "2024     75605\n",
        "0320     70461\n",
        "031A     69695\n",
        "0430     58425\n",
        "1506     43143\n",
        "0840     42553\n",
        "1150     34479\n",
        "1350     32745\n",
        "051A     32671\n",
        "143A     32594\n",
        "5002     29663\n",
        "1305     28034\n",
        "041A     26257\n",
        "1210     25985\n",
        "4387     25900\n",
        "2092     24800\n",
        "1152     24482\n",
        "1130     23381\n",
        "0915     23372\n",
        "0870     22667\n",
        "0420     22385\n",
        "0520     21917\n",
        "2017     21573\n",
        "2022     21290\n",
        "0470     21083\n",
        "2095     20992\n",
        "0530     19488\n",
        "0930     19132\n",
        "1365     18152\n",
        "2014     17657\n",
        "502P     17077\n",
        "0841     14719\n",
        "1120     14698\n",
        "dtype: int64"
       ]
      }
     ],
     "prompt_number": 62
    },
    {
     "cell_type": "code",
     "collapsed": false,
     "input": [
      "g = crimes.PrimaryType[crimes.CommunityArea == '24']"
     ],
     "language": "python",
     "metadata": {},
     "outputs": []
    },
    {
     "cell_type": "code",
     "collapsed": false,
     "input": [
      "crimes_CA_value_counts = crimes['CommunityArea'].value_counts()"
     ],
     "language": "python",
     "metadata": {},
     "outputs": [],
     "prompt_number": 9
    },
    {
     "cell_type": "code",
     "collapsed": false,
     "input": [
      "crimes_PT_value_counts = crimes['PrimaryType'].value_counts()"
     ],
     "language": "python",
     "metadata": {},
     "outputs": [],
     "prompt_number": 10
    },
    {
     "cell_type": "code",
     "collapsed": false,
     "input": [
      "crimes_CA_value_counts[:10]"
     ],
     "language": "python",
     "metadata": {},
     "outputs": [
      {
       "metadata": {},
       "output_type": "pyout",
       "prompt_number": 11,
       "text": [
        "25    217828\n",
        "43    110190\n",
        "8     108424\n",
        "23    106411\n",
        "67    102564\n",
        "24    101177\n",
        "71     96993\n",
        "28     95680\n",
        "68     92649\n",
        "49     92521\n",
        "dtype: int64"
       ]
      }
     ],
     "prompt_number": 11
    },
    {
     "cell_type": "code",
     "collapsed": false,
     "input": [
      "crimes_PT_value_counts[:10]"
     ],
     "language": "python",
     "metadata": {},
     "outputs": [
      {
       "metadata": {},
       "output_type": "pyout",
       "prompt_number": 13,
       "text": [
        "THEFT                  1091432\n",
        "BATTERY                 982034\n",
        "CRIMINAL DAMAGE         623136\n",
        "NARCOTICS               612539\n",
        "OTHER OFFENSE           330119\n",
        "ASSAULT                 322722\n",
        "BURGLARY                317294\n",
        "MOTOR VEHICLE THEFT     259428\n",
        "ROBBERY                 200414\n",
        "DECEPTIVE PRACTICE      170196\n",
        "dtype: int64"
       ]
      }
     ],
     "prompt_number": 13
    },
    {
     "cell_type": "code",
     "collapsed": false,
     "input": [
      "crimes.PrimaryType.value_counts()"
     ],
     "language": "python",
     "metadata": {},
     "outputs": []
    },
    {
     "cell_type": "code",
     "collapsed": false,
     "input": [
      "crimes.Description.value_counts()"
     ],
     "language": "python",
     "metadata": {},
     "outputs": []
    },
    {
     "cell_type": "code",
     "collapsed": false,
     "input": [
      "crimes.PrimaryType.unique()"
     ],
     "language": "python",
     "metadata": {},
     "outputs": []
    },
    {
     "cell_type": "code",
     "collapsed": false,
     "input": [
      "crimes.Description.unique()"
     ],
     "language": "python",
     "metadata": {},
     "outputs": []
    },
    {
     "cell_type": "code",
     "collapsed": false,
     "input": [
      "day = crimes.Beat.value_counts()"
     ],
     "language": "python",
     "metadata": {},
     "outputs": []
    },
    {
     "cell_type": "code",
     "collapsed": false,
     "input": [
      "max(crimes.Beat.value_counts(), )"
     ],
     "language": "python",
     "metadata": {},
     "outputs": []
    },
    {
     "cell_type": "code",
     "collapsed": false,
     "input": [
      "crimes.Description[max(crimes.Beat.value_counts())]"
     ],
     "language": "python",
     "metadata": {},
     "outputs": []
    },
    {
     "cell_type": "code",
     "collapsed": false,
     "input": [
      "longs = crimes.Longitude[crimes.PrimaryType == 'BATTERY']\n",
      "lats = crimes.Latitude[crimes.PrimaryType == 'BATTERY']\n",
      "plt.hexbin(longs,lats,cmap=plt.cm.binary)\n",
      "plt.show()"
     ],
     "language": "python",
     "metadata": {},
     "outputs": []
    },
    {
     "cell_type": "code",
     "collapsed": false,
     "input": [
      "plt.subplots_adjust(hspace=0.5)\n",
      "plt.subplot(121)\n",
      "longs = crimes.Longitude[(crimes.PrimaryType == 'NARCOTICS') &(crimes.Arrest == False)]\n",
      "#longs = crimes.Longitude[(crimes.Arrest == False)]\n",
      "lats = crimes.Latitude[(crimes.PrimaryType == 'NARCOTICS') &(crimes.Arrest == False)]\n",
      "#lats = crimes.Latitude[(crimes.Arrest == False)]\n",
      "plt.hexbin(longs,lats, gridsize = int(round((longs.max()-longs.min())*1000)), bins='log', cmap=plt.cm.cool, alpha = .5, linewidth = 0, mincnt=1)\n",
      "#plt.hexbin(longs,lats, gridsize = int(round((longs.max()-longs.min())*1000)), cmap=plt.cm.summer, alpha = .5, linewidth = 0, mincnt=1)\n",
      "plt.axis([longs.min(), longs.max(), lats.min(), lats.max()])\n",
      "cb = plt.colorbar()\n",
      "#cb.set_label('log10(N)')\n",
      "cb.set_label('counts')\n",
      "\n",
      "plt.subplot(122)\n",
      "longs = crimes.Longitude[(crimes.PrimaryType == 'NARCOTICS') &(crimes.Arrest == True)]\n",
      "#longs = crimes.Longitude[(crimes.Arrest == True)]\n",
      "lats = crimes.Latitude[(crimes.PrimaryType == 'NARCOTICS') &(crimes.Arrest == True)]\n",
      "#lats = crimes.Latitude[(crimes.Arrest == True)]\n",
      "plt.hexbin(longs,lats, gridsize = int(round((longs.max()-longs.min())*1000)), bins='log', cmap=plt.cm.cool, alpha = .5, linewidth = 0, mincnt=1)\n",
      "#plt.hexbin(longs,lats, gridsize = int(round((longs.max()-longs.min())*1000)), cmap=plt.cm.summer, alpha = .5, linewidth = 0, mincnt=1)\n",
      "plt.axis([longs.min(), longs.max(), lats.min(), lats.max()])\n",
      "\n",
      "cb = plt.colorbar()\n",
      "#cb.set_label('log10(N)')\n",
      "cb.set_label('counts')\n",
      "plt.show()"
     ],
     "language": "python",
     "metadata": {},
     "outputs": [],
     "prompt_number": 54
    },
    {
     "cell_type": "code",
     "collapsed": false,
     "input": [
      "longs = crimes.Longitude[(crimes.PrimaryType == 'NARCOTICS') &(crimes.Arrest == True)]\n",
      "lats = crimes.Latitude[(crimes.PrimaryType == 'NARCOTICS') &(crimes.Arrest == True)]\n",
      "plt.hexbin(longs,lats,cmap=plt.cm.summer)\n",
      "plt.show()"
     ],
     "language": "python",
     "metadata": {},
     "outputs": []
    },
    {
     "cell_type": "code",
     "collapsed": false,
     "input": [
      "crimes.Location[crimes.PrimaryType == 'THEFT']"
     ],
     "language": "python",
     "metadata": {},
     "outputs": []
    },
    {
     "cell_type": "code",
     "collapsed": false,
     "input": [
      "crimes.ix['Longitude', 'Date']"
     ],
     "language": "python",
     "metadata": {},
     "outputs": []
    },
    {
     "cell_type": "code",
     "collapsed": false,
     "input": [
      "longs = crimes.Longitude[crimes.Arrest == False]\n",
      "lats = crimes.Latitude[crimes.Arrest == False]\n",
      "plt.hexbin(longs,lats,cmap=plt.cm.summer)\n",
      "plt.show()"
     ],
     "language": "python",
     "metadata": {},
     "outputs": []
    },
    {
     "cell_type": "code",
     "collapsed": false,
     "input": [
      "longs = crimes.Longitude[crimes.Arrest == True]\n",
      "lats = crimes.Latitude[crimes.Arrest == True]\n",
      "plt.hexbin(longs,lats,cmap=plt.cm.summer)\n",
      "plt.show()"
     ],
     "language": "python",
     "metadata": {},
     "outputs": []
    },
    {
     "cell_type": "code",
     "collapsed": false,
     "input": [
      "crimes['ID':'CaseNumber']"
     ],
     "language": "python",
     "metadata": {},
     "outputs": []
    },
    {
     "cell_type": "code",
     "collapsed": false,
     "input": [
      "datesOfChildOff = crimes.Date[crimes.Description=='CHILD ABDUCTION']\n",
      "jan = datesOfChildOff[datesOfChildOff.str.contains('^01/')].count()\n",
      "feb = datesOfChildOff[datesOfChildOff.str.contains('^02/')].count()\n",
      "mar = datesOfChildOff[datesOfChildOff.str.contains('^03/')].count()\n",
      "apr = datesOfChildOff[datesOfChildOff.str.contains('^04/')].count()\n",
      "may = datesOfChildOff[datesOfChildOff.str.contains('^05/')].count()\n",
      "jun = datesOfChildOff[datesOfChildOff.str.contains('^06/')].count()\n",
      "jul = datesOfChildOff[datesOfChildOff.str.contains('^07/')].count()\n",
      "aug = datesOfChildOff[datesOfChildOff.str.contains('^08/')].count()\n",
      "sep = datesOfChildOff[datesOfChildOff.str.contains('^09/')].count()\n",
      "cto = datesOfChildOff[datesOfChildOff.str.contains('^10/')].count()\n",
      "nov = datesOfChildOff[datesOfChildOff.str.contains('^11/')].count()\n",
      "dec = datesOfChildOff[datesOfChildOff.str.contains('^12/')].count()\n",
      "monthCountsChild = pd.DataFrame(index=['jan','feb','mar','apr','may','jun','jul','aug','sep','oct','nov','dec'],columns=['Child Abductions'],data=[jan,feb,mar,apr,may,jun,jul,aug,sep,cto,nov,dec])\n",
      "monthCountsChild.plot(kind='bar')\n",
      "plt.show()"
     ],
     "language": "python",
     "metadata": {},
     "outputs": []
    },
    {
     "cell_type": "code",
     "collapsed": false,
     "input": [
      "monthCountsChild"
     ],
     "language": "python",
     "metadata": {},
     "outputs": []
    },
    {
     "cell_type": "code",
     "collapsed": false,
     "input": [
      "messin = crimes.CommunityArea[(crimes.PrimaryType == 'NARCOTICS') &(crimes.Arrest == True)]"
     ],
     "language": "python",
     "metadata": {},
     "outputs": []
    },
    {
     "cell_type": "code",
     "collapsed": false,
     "input": [
      "messin.value_counts()"
     ],
     "language": "python",
     "metadata": {},
     "outputs": []
    },
    {
     "cell_type": "code",
     "collapsed": false,
     "input": [
      "messin1 = crimes.CommunityArea[(crimes.PrimaryType == 'NARCOTICS') &(crimes.Arrest == False)]"
     ],
     "language": "python",
     "metadata": {},
     "outputs": []
    },
    {
     "cell_type": "code",
     "collapsed": false,
     "input": [
      "messin1.value_counts()"
     ],
     "language": "python",
     "metadata": {},
     "outputs": []
    },
    {
     "cell_type": "code",
     "collapsed": false,
     "input": [
      "wards = pd.read_csv('wards_rollup_with_changes.csv', header = 0)"
     ],
     "language": "python",
     "metadata": {},
     "outputs": []
    },
    {
     "cell_type": "code",
     "collapsed": false,
     "input": [
      "wards.nhblack10[wards.ward == '1']"
     ],
     "language": "python",
     "metadata": {},
     "outputs": []
    },
    {
     "cell_type": "code",
     "collapsed": false,
     "input": [
      "crimes.CommunityArea[crimes.CommunityArea != None]"
     ],
     "language": "python",
     "metadata": {},
     "outputs": []
    },
    {
     "cell_type": "code",
     "collapsed": false,
     "input": [
      "crimes.CommunityArea[crimes.CommunityArea ].count()"
     ],
     "language": "python",
     "metadata": {},
     "outputs": []
    },
    {
     "cell_type": "code",
     "collapsed": false,
     "input": [
      "crimes.CommunityArea[crimes.CommunityArea != None].unique()\n",
      "crimes.Ward.hist(bins = 78)\n",
      "plt.show()"
     ],
     "language": "python",
     "metadata": {},
     "outputs": []
    },
    {
     "cell_type": "code",
     "collapsed": false,
     "input": [
      "crimes[crimes.Ward == 28].count()"
     ],
     "language": "python",
     "metadata": {},
     "outputs": []
    },
    {
     "cell_type": "code",
     "collapsed": false,
     "input": [
      "Hardship_cen = pd.read_csv('Census_Data_-_Selected_socioeconomic_indicators_in_Chicago__2007___2011.csv', header = 0)"
     ],
     "language": "python",
     "metadata": {},
     "outputs": []
    },
    {
     "cell_type": "code",
     "collapsed": false,
     "input": [
      "Hardship_cen"
     ],
     "language": "python",
     "metadata": {},
     "outputs": []
    },
    {
     "cell_type": "code",
     "collapsed": false,
     "input": [
      "Comm_area = pd.read_csv('Census_Race_Area_Number.csv', header = 0)"
     ],
     "language": "python",
     "metadata": {},
     "outputs": []
    },
    {
     "cell_type": "code",
     "collapsed": false,
     "input": [
      "Comm_area.head()"
     ],
     "language": "python",
     "metadata": {},
     "outputs": []
    },
    {
     "cell_type": "code",
     "collapsed": false,
     "input": [
      "from mpl_toolkits.mplot3d import Axes3D"
     ],
     "language": "python",
     "metadata": {},
     "outputs": []
    },
    {
     "cell_type": "code",
     "collapsed": false,
     "input": [
      "import numpy as np\n",
      "from mpl_toolkits.mplot3d import Axes3D\n",
      "import matplotlib.pyplot as plt\n",
      "\n",
      "def randrange(n, vmin, vmax):\n",
      "    return (vmax-vmin)*np.random.rand(n) + vmin\n",
      "\n",
      "fig = plt.figure()\n",
      "ax = fig.add_subplot(111, projection='3d')\n",
      "n = 100\n",
      "for c, m, zl, zh in [('r', 'o', -50, -25), ('b', '^', -30, -5)]:\n",
      "    xs = randrange(n, 23, 32)\n",
      "    ys = randrange(n, 0, 100)\n",
      "    zs = randrange(n, zl, zh)\n",
      "    ax.scatter(xs, ys, zs, c=c, marker=m)\n",
      "\n",
      "ax.set_xlabel('X Label')\n",
      "ax.set_ylabel('Y Label')\n",
      "ax.set_zlabel('Z Label')\n",
      "\n",
      "plt.show()"
     ],
     "language": "python",
     "metadata": {},
     "outputs": [],
     "prompt_number": 57
    },
    {
     "cell_type": "code",
     "collapsed": false,
     "input": [
      "im = plt.imread('Chicago_Community_Area_Map.png')\n",
      "implot1 = plt.imshow(im, cmap='binary',  interpolation='nearest')\n",
      "#longs = crimes.Longitude[crimes.PrimaryType == 'BATTERY']\n",
      "#lats = crimes.Latitude[crimes.PrimaryType == 'BATTERY']\n",
      "#norm_longs = (longs - longs.min())/(longs.max() - longs.min())\n",
      "#norm_lats = (lats - lats.min())/(lats.max() - lats.min())\n",
      "#plt.scatter(528*norm_longs,(0 - 562*norm_lats) + 562)\n",
      "#plt.hexbin(528*norm_longs,(0 - 562*norm_lats) + 562,cmap=plt.cm.seismic, alpha = 0.1)\n",
      "\n",
      "\n",
      "longs = crimes.Longitude[(crimes.PrimaryType == 'BATTERY')]\n",
      "#longs = crimes.Longitude[(crimes.Arrest == False)]\n",
      "lats = crimes.Latitude[(crimes.PrimaryType == 'BATTERY')]\n",
      "#lats = crimes.Latitude[(crimes.Arrest == False)]\n",
      "norm_longs = (longs - longs.min())/(longs.max() - longs.min())\n",
      "norm_lats = (lats - lats.min())/(lats.max() - lats.min())\n",
      "#plt.hexbin(longs,lats, gridsize = int(round((longs.max()-longs.min())*1000)), bins='log', cmap=plt.cm.cool, alpha = .5, linewidth = 0, mincnt=1)\n",
      "#plt.hexbin(longs,lats, gridsize = int(round((longs.max()-longs.min())*1000)), cmap=plt.cm.summer, alpha = .5, linewidth = 0, mincnt=1)\n",
      "plt.hexbin(528*norm_longs,(0 - 562*norm_lats) + 562,gridsize = int(round((longs.max()-longs.min())*1000)), bins='log', cmap=plt.cm.cool, alpha = .5, linewidth = 0, mincnt=1)\n",
      "\n",
      "#plt.axis([longs.min(), longs.max(), lats.min(), lats.max()])\n",
      "cb = plt.colorbar()\n",
      "#cb.set_label('log10(N)')\n",
      "cb.set_label('counts')\n",
      "\n",
      "\n",
      "\n",
      "\n",
      "plt.show()"
     ],
     "language": "python",
     "metadata": {},
     "outputs": [],
     "prompt_number": 60
    },
    {
     "cell_type": "code",
     "collapsed": false,
     "input": [
      "norm_longs = (longs - longs.mean())/(longs.max() - longs.min())\n",
      "norm_lats = (lats - lats.mean())/(lats.max() - lats.min())"
     ],
     "language": "python",
     "metadata": {},
     "outputs": []
    },
    {
     "cell_type": "code",
     "collapsed": false,
     "input": [
      "plt.scatter(longs,lats)\n",
      "plt.show()"
     ],
     "language": "python",
     "metadata": {},
     "outputs": []
    },
    {
     "cell_type": "code",
     "collapsed": false,
     "input": [
      "lats.max() - lats.min()"
     ],
     "language": "python",
     "metadata": {},
     "outputs": []
    },
    {
     "cell_type": "code",
     "collapsed": false,
     "input": [
      "lats.m"
     ],
     "language": "python",
     "metadata": {},
     "outputs": []
    },
    {
     "cell_type": "code",
     "collapsed": false,
     "input": [
      "im = plt.imread('rogers-park.png')\n",
      "im.size()"
     ],
     "language": "python",
     "metadata": {},
     "outputs": []
    },
    {
     "cell_type": "code",
     "collapsed": false,
     "input": [
      "im = plt.imread('rogers-park.png')"
     ],
     "language": "python",
     "metadata": {},
     "outputs": []
    },
    {
     "cell_type": "code",
     "collapsed": false,
     "input": [
      "im.min()"
     ],
     "language": "python",
     "metadata": {},
     "outputs": []
    },
    {
     "cell_type": "code",
     "collapsed": false,
     "input": [
      "from pysal.contrib.viz import mapping as viz"
     ],
     "language": "python",
     "metadata": {},
     "outputs": []
    },
    {
     "cell_type": "code",
     "collapsed": false,
     "input": [
      "from osgeo import gdal, ogr"
     ],
     "language": "python",
     "metadata": {},
     "outputs": []
    },
    {
     "cell_type": "code",
     "collapsed": false,
     "input": [
      "round((longs.max()-longs.min())*1000)"
     ],
     "language": "python",
     "metadata": {},
     "outputs": [
      {
       "metadata": {},
       "output_type": "pyout",
       "prompt_number": 38,
       "text": [
        "403.0"
       ]
      }
     ],
     "prompt_number": 38
    },
    {
     "cell_type": "code",
     "collapsed": false,
     "input": [
      "((longs.max()-longs.min())*1000)"
     ],
     "language": "python",
     "metadata": {},
     "outputs": [
      {
       "metadata": {},
       "output_type": "pyout",
       "prompt_number": 39,
       "text": [
        "402.69062344253825"
       ]
      }
     ],
     "prompt_number": 39
    },
    {
     "cell_type": "code",
     "collapsed": false,
     "input": [
      "int(round((longs.max()-longs.min())*1000))"
     ],
     "language": "python",
     "metadata": {},
     "outputs": [
      {
       "metadata": {},
       "output_type": "pyout",
       "prompt_number": 40,
       "text": [
        "403"
       ]
      }
     ],
     "prompt_number": 40
    },
    {
     "cell_type": "code",
     "collapsed": false,
     "input": [
      "longs = crimes.Longitude[(IUCR.str.contains('2210')|| datesOfChildOff.str.contains('2220') || datesOfChildOff.str.contains('2230') || datesOfChildOff.str.contains('2240') || datesOfChildOff.str.contains('2250'))]\n",
      "lats = crimes.Latitude[(datesOfChildOff.str.contains('2210')|| datesOfChildOff.str.contains('2220') || datesOfChildOff.str.contains('2230') || datesOfChildOff.str.contains('2240') || datesOfChildOff.str.contains('2250'))]\n",
      "plt.hexbin(longs,lats, gridsize = int(round((longs.max()-longs.min())*1000)), bins='log', cmap=plt.cm.cool, alpha = .5, linewidth = 0, mincnt=1)\n",
      "plt.axis([longs.min(), longs.max(), lats.min(), lats.max()])\n",
      "cb.set_label('log10(N)')\n",
      "plt.show()"
     ],
     "language": "python",
     "metadata": {},
     "outputs": [
      {
       "ename": "SyntaxError",
       "evalue": "invalid syntax (<ipython-input-2-6c11c0130b08>, line 1)",
       "output_type": "pyerr",
       "traceback": [
        "\u001b[1;36m  File \u001b[1;32m\"<ipython-input-2-6c11c0130b08>\"\u001b[1;36m, line \u001b[1;32m1\u001b[0m\n\u001b[1;33m    longs = crimes.Longitude[(datesOfChildOff.str.contains('2210')|| datesOfChildOff.str.contains('2220') || datesOfChildOff.str.contains('2230') || datesOfChildOff.str.contains('2240') || datesOfChildOff.str.contains('2250'))]\u001b[0m\n\u001b[1;37m                                                                   ^\u001b[0m\n\u001b[1;31mSyntaxError\u001b[0m\u001b[1;31m:\u001b[0m invalid syntax\n"
       ]
      }
     ],
     "prompt_number": 2
    },
    {
     "cell_type": "code",
     "collapsed": false,
     "input": [
      "crimes.IUCR[1]"
     ],
     "language": "python",
     "metadata": {},
     "outputs": [
      {
       "metadata": {},
       "output_type": "pyout",
       "prompt_number": 68,
       "text": [
        "'0313'"
       ]
      }
     ],
     "prompt_number": 68
    },
    {
     "cell_type": "code",
     "collapsed": false,
     "input": [
      "IUCR.str.contains('2210')"
     ],
     "language": "python",
     "metadata": {},
     "outputs": [
      {
       "ename": "NameError",
       "evalue": "name 'IUCR' is not defined",
       "output_type": "pyerr",
       "traceback": [
        "\u001b[1;31m---------------------------------------------------------------------------\u001b[0m\n\u001b[1;31mNameError\u001b[0m                                 Traceback (most recent call last)",
        "\u001b[1;32m<ipython-input-3-4d3cfc9f21bc>\u001b[0m in \u001b[0;36m<module>\u001b[1;34m()\u001b[0m\n\u001b[1;32m----> 1\u001b[1;33m \u001b[0mIUCR\u001b[0m\u001b[1;33m.\u001b[0m\u001b[0mstr\u001b[0m\u001b[1;33m.\u001b[0m\u001b[0mcontains\u001b[0m\u001b[1;33m(\u001b[0m\u001b[1;34m'2210'\u001b[0m\u001b[1;33m)\u001b[0m\u001b[1;33m\u001b[0m\u001b[0m\n\u001b[0m",
        "\u001b[1;31mNameError\u001b[0m: name 'IUCR' is not defined"
       ]
      }
     ],
     "prompt_number": 3
    },
    {
     "cell_type": "code",
     "collapsed": false,
     "input": [
      "crimes."
     ],
     "language": "python",
     "metadata": {},
     "outputs": []
    }
   ],
   "metadata": {}
  }
 ]
}