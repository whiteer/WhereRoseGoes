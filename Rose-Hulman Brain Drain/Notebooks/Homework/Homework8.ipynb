{
 "metadata": {
  "name": ""
 },
 "nbformat": 3,
 "nbformat_minor": 0,
 "worksheets": [
  {
   "cells": [
    {
     "cell_type": "heading",
     "level": 2,
     "metadata": {
      "slideshow": {
       "slide_type": "slide"
      }
     },
     "source": [
      "Problem (Diabetes Progression) The diabetes data set in scikit-learn is a data set of 10 attributes (age, sex, weight, blood pressure, etc.) of 442 patients and a continuous class attribute indicating the level of disease progression after one year."
     ]
    },
    {
     "cell_type": "code",
     "collapsed": false,
     "input": [
      "from sklearn import datasets\n",
      "from sklearn import tree\n",
      "import numpy as np\n",
      "import pandas as pd"
     ],
     "language": "python",
     "metadata": {},
     "outputs": [],
     "prompt_number": 1
    },
    {
     "cell_type": "heading",
     "level": 3,
     "metadata": {},
     "source": [
      "(a) Discretize the class attribute into three roughly equal classes labeled L, M, H for low,medium and high progression of diabetes after one year.\n",
      "Hint: The pandas command pd.qcut is very helpful."
     ]
    },
    {
     "cell_type": "code",
     "collapsed": false,
     "input": [
      "diabetes = datasets.load_diabetes()"
     ],
     "language": "python",
     "metadata": {},
     "outputs": [],
     "prompt_number": 2
    },
    {
     "cell_type": "code",
     "collapsed": false,
     "input": [
      "discretizedClass = pd.qcut(diabetes.target, [0, .33, .67, 1.0], labels = [\"L\", \"M\", \"H\"]);"
     ],
     "language": "python",
     "metadata": {},
     "outputs": [],
     "prompt_number": 3
    },
    {
     "cell_type": "heading",
     "level": 3,
     "metadata": {},
     "source": [
      "(b) Divide the data in to a training and a test set. Use the first 300 records for the training set and the remaining records for a test set. (This is generally a dangerous thing to do because the data may have some order. Random sampling to split the data would be a safer procedure.) Determine a pruned decision tree which minimizes the (estimated) generalization error. What is the estimated generalization error of your pruned tree?"
     ]
    },
    {
     "cell_type": "code",
     "collapsed": false,
     "input": [
      "#Seperate the training and test sets\n",
      "diabetes_X_train = diabetes.data[:300]\n",
      "diabetes_Y_train = discretizedClass[:300]\n",
      "diabetes_X_test  = diabetes.data[300:]\n",
      "diabetes_Y_test  = discretizedClass[300:]"
     ],
     "language": "python",
     "metadata": {},
     "outputs": [],
     "prompt_number": 4
    },
    {
     "cell_type": "code",
     "collapsed": false,
     "input": [
      "#Iterate through a reasonable range of values for min_samples_split, finding the best average performance\n",
      "min_Error = 100000\n",
      "Range_min_samples_split = 100\n",
      "Best_min_samples_split = 0\n",
      "iterations = 1000\n",
      "\n",
      "for x in range(1, Range_min_samples_split):\n",
      "    temp = 0;\n",
      "    for i in range(0, iterations):\n",
      "        clf = tree.DecisionTreeClassifier(criterion='gini', min_samples_split = x)\n",
      "        clf = clf.fit(diabetes_X_train, diabetes_Y_train)\n",
      "        prediction = clf.predict(diabetes_X_test)\n",
      "        temp = temp + 100.0*np.sum(prediction != diabetes_Y_test)/len(diabetes_Y_test)\n",
      "    if temp < min_Error:\n",
      "        min_Error = temp\n",
      "        Best_min_samples_split = x"
     ],
     "language": "python",
     "metadata": {},
     "outputs": [],
     "prompt_number": 5
    },
    {
     "cell_type": "code",
     "collapsed": false,
     "input": [
      "print 'Best error rate'\n",
      "print min_Error / (1.0*iterations)\n",
      "print\n",
      "print 'With a min_samples_split value of:',(Best_min_samples_split)"
     ],
     "language": "python",
     "metadata": {},
     "outputs": [
      {
       "output_type": "stream",
       "stream": "stdout",
       "text": [
        "Best error rate\n",
        "45.0704225352\n",
        "\n",
        "With a min_samples_split value of: 73\n"
       ]
      }
     ],
     "prompt_number": 6
    },
    {
     "cell_type": "code",
     "collapsed": false,
     "input": [],
     "language": "python",
     "metadata": {},
     "outputs": []
    }
   ],
   "metadata": {}
  }
 ]
}