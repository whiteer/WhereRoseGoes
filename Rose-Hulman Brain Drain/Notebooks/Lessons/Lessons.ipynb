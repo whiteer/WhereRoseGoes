{
 "metadata": {
  "name": ""
 },
 "nbformat": 3,
 "nbformat_minor": 0,
 "worksheets": [
  {
   "cells": [
    {
     "cell_type": "code",
     "collapsed": false,
     "input": [
      "cd ../../Google Drive/My Media/General/Education/Rose-Hulman/2013 - 2014 School year/11) Winter 2013-2014/CSSE 490/Lessons/Lesson 3"
     ],
     "language": "python",
     "metadata": {},
     "outputs": [
      {
       "output_type": "stream",
       "stream": "stdout",
       "text": [
        "C:\\Users\\whiteer\\Google Drive\\My Media\\General\\Education\\Rose-Hulman\\2013 - 2014 School year\\11) Winter 2013-2014\\CSSE 490\\Lessons\\Lesson 3\n"
       ]
      }
     ],
     "prompt_number": 3
    },
    {
     "cell_type": "code",
     "collapsed": false,
     "input": [
      "run sales.py"
     ],
     "language": "python",
     "metadata": {},
     "outputs": [
      {
       "output_type": "stream",
       "stream": "stdout",
       "text": [
        "city           T.H.            Brazil         \n",
        "store       store 1  store 2  store 1  store 2\n",
        "week   day                                    \n",
        "week 1 M     347.87   267.86   462.90   191.26\n",
        "       T     151.26   209.49   464.38     5.15\n",
        "       W     853.47   902.55   373.46   368.03\n",
        "       R     782.03   343.54   683.31   553.38\n",
        "       F     997.74   163.71     8.36   571.21\n",
        "week 2 M     590.32   958.25   326.81   838.43\n",
        "       T     405.05   954.62   384.80   762.74\n",
        "       W     337.85   227.73   830.19   985.02\n",
        "       R     177.22   306.13   642.18   931.79\n",
        "       F     492.31   920.59   657.93   721.34\n"
       ]
      }
     ],
     "prompt_number": 9
    },
    {
     "cell_type": "code",
     "collapsed": false,
     "input": [
      "sales['T.H.']['store 1'].ix['week 1']"
     ],
     "language": "python",
     "metadata": {},
     "outputs": [
      {
       "metadata": {},
       "output_type": "pyout",
       "prompt_number": 10,
       "text": [
        "day\n",
        "M      347.87\n",
        "T      151.26\n",
        "W      853.47\n",
        "R      782.03\n",
        "F      997.74\n",
        "Name: store 1, dtype: float64"
       ]
      }
     ],
     "prompt_number": 10
    },
    {
     "cell_type": "code",
     "collapsed": false,
     "input": [
      "sales.mean(level='week')"
     ],
     "language": "python",
     "metadata": {},
     "outputs": [
      {
       "html": [
        "<div style=\"max-height:1000px;max-width:1500px;overflow:auto;\">\n",
        "<table border=\"1\" class=\"dataframe\">\n",
        "  <thead>\n",
        "    <tr>\n",
        "      <th>city</th>\n",
        "      <th colspan=\"2\" halign=\"left\">T.H.</th>\n",
        "      <th colspan=\"2\" halign=\"left\">Brazil</th>\n",
        "    </tr>\n",
        "    <tr>\n",
        "      <th>store</th>\n",
        "      <th>store 1</th>\n",
        "      <th>store 2</th>\n",
        "      <th>store 1</th>\n",
        "      <th>store 2</th>\n",
        "    </tr>\n",
        "    <tr>\n",
        "      <th>week</th>\n",
        "      <th></th>\n",
        "      <th></th>\n",
        "      <th></th>\n",
        "      <th></th>\n",
        "    </tr>\n",
        "  </thead>\n",
        "  <tbody>\n",
        "    <tr>\n",
        "      <th>week 1</th>\n",
        "      <td> 626.474</td>\n",
        "      <td> 377.430</td>\n",
        "      <td> 398.482</td>\n",
        "      <td> 337.806</td>\n",
        "    </tr>\n",
        "    <tr>\n",
        "      <th>week 2</th>\n",
        "      <td> 400.550</td>\n",
        "      <td> 673.464</td>\n",
        "      <td> 568.382</td>\n",
        "      <td> 847.864</td>\n",
        "    </tr>\n",
        "  </tbody>\n",
        "</table>\n",
        "</div>"
       ],
       "metadata": {},
       "output_type": "pyout",
       "prompt_number": 11,
       "text": [
        "city       T.H.            Brazil         \n",
        "store   store 1  store 2  store 1  store 2\n",
        "week                                      \n",
        "week 1  626.474  377.430  398.482  337.806\n",
        "week 2  400.550  673.464  568.382  847.864"
       ]
      }
     ],
     "prompt_number": 11
    },
    {
     "cell_type": "code",
     "collapsed": false,
     "input": [
      "sales.mean(level='week').mean(axis=1)"
     ],
     "language": "python",
     "metadata": {},
     "outputs": [
      {
       "metadata": {},
       "output_type": "pyout",
       "prompt_number": 12,
       "text": [
        "week\n",
        "week 1    435.048\n",
        "week 2    622.565\n",
        "dtype: float64"
       ]
      }
     ],
     "prompt_number": 12
    },
    {
     "cell_type": "code",
     "collapsed": false,
     "input": [
      "sales"
     ],
     "language": "python",
     "metadata": {},
     "outputs": [
      {
       "html": [
        "<div style=\"max-height:1000px;max-width:1500px;overflow:auto;\">\n",
        "<table border=\"1\" class=\"dataframe\">\n",
        "  <thead>\n",
        "    <tr>\n",
        "      <th></th>\n",
        "      <th>city</th>\n",
        "      <th colspan=\"2\" halign=\"left\">T.H.</th>\n",
        "      <th colspan=\"2\" halign=\"left\">Brazil</th>\n",
        "    </tr>\n",
        "    <tr>\n",
        "      <th></th>\n",
        "      <th>store</th>\n",
        "      <th>store 1</th>\n",
        "      <th>store 2</th>\n",
        "      <th>store 1</th>\n",
        "      <th>store 2</th>\n",
        "    </tr>\n",
        "    <tr>\n",
        "      <th>week</th>\n",
        "      <th>day</th>\n",
        "      <th></th>\n",
        "      <th></th>\n",
        "      <th></th>\n",
        "      <th></th>\n",
        "    </tr>\n",
        "  </thead>\n",
        "  <tbody>\n",
        "    <tr>\n",
        "      <th rowspan=\"5\" valign=\"top\">week 1</th>\n",
        "      <th>M</th>\n",
        "      <td> 347.87</td>\n",
        "      <td> 267.86</td>\n",
        "      <td> 462.90</td>\n",
        "      <td> 191.26</td>\n",
        "    </tr>\n",
        "    <tr>\n",
        "      <th>T</th>\n",
        "      <td> 151.26</td>\n",
        "      <td> 209.49</td>\n",
        "      <td> 464.38</td>\n",
        "      <td>   5.15</td>\n",
        "    </tr>\n",
        "    <tr>\n",
        "      <th>W</th>\n",
        "      <td> 853.47</td>\n",
        "      <td> 902.55</td>\n",
        "      <td> 373.46</td>\n",
        "      <td> 368.03</td>\n",
        "    </tr>\n",
        "    <tr>\n",
        "      <th>R</th>\n",
        "      <td> 782.03</td>\n",
        "      <td> 343.54</td>\n",
        "      <td> 683.31</td>\n",
        "      <td> 553.38</td>\n",
        "    </tr>\n",
        "    <tr>\n",
        "      <th>F</th>\n",
        "      <td> 997.74</td>\n",
        "      <td> 163.71</td>\n",
        "      <td>   8.36</td>\n",
        "      <td> 571.21</td>\n",
        "    </tr>\n",
        "    <tr>\n",
        "      <th rowspan=\"5\" valign=\"top\">week 2</th>\n",
        "      <th>M</th>\n",
        "      <td> 590.32</td>\n",
        "      <td> 958.25</td>\n",
        "      <td> 326.81</td>\n",
        "      <td> 838.43</td>\n",
        "    </tr>\n",
        "    <tr>\n",
        "      <th>T</th>\n",
        "      <td> 405.05</td>\n",
        "      <td> 954.62</td>\n",
        "      <td> 384.80</td>\n",
        "      <td> 762.74</td>\n",
        "    </tr>\n",
        "    <tr>\n",
        "      <th>W</th>\n",
        "      <td> 337.85</td>\n",
        "      <td> 227.73</td>\n",
        "      <td> 830.19</td>\n",
        "      <td> 985.02</td>\n",
        "    </tr>\n",
        "    <tr>\n",
        "      <th>R</th>\n",
        "      <td> 177.22</td>\n",
        "      <td> 306.13</td>\n",
        "      <td> 642.18</td>\n",
        "      <td> 931.79</td>\n",
        "    </tr>\n",
        "    <tr>\n",
        "      <th>F</th>\n",
        "      <td> 492.31</td>\n",
        "      <td> 920.59</td>\n",
        "      <td> 657.93</td>\n",
        "      <td> 721.34</td>\n",
        "    </tr>\n",
        "  </tbody>\n",
        "</table>\n",
        "</div>"
       ],
       "metadata": {},
       "output_type": "pyout",
       "prompt_number": 13,
       "text": [
        "city           T.H.            Brazil         \n",
        "store       store 1  store 2  store 1  store 2\n",
        "week   day                                    \n",
        "week 1 M     347.87   267.86   462.90   191.26\n",
        "       T     151.26   209.49   464.38     5.15\n",
        "       W     853.47   902.55   373.46   368.03\n",
        "       R     782.03   343.54   683.31   553.38\n",
        "       F     997.74   163.71     8.36   571.21\n",
        "week 2 M     590.32   958.25   326.81   838.43\n",
        "       T     405.05   954.62   384.80   762.74\n",
        "       W     337.85   227.73   830.19   985.02\n",
        "       R     177.22   306.13   642.18   931.79\n",
        "       F     492.31   920.59   657.93   721.34"
       ]
      }
     ],
     "prompt_number": 13
    },
    {
     "cell_type": "code",
     "collapsed": false,
     "input": [
      "sales.mean(level='day')"
     ],
     "language": "python",
     "metadata": {},
     "outputs": [
      {
       "html": [
        "<div style=\"max-height:1000px;max-width:1500px;overflow:auto;\">\n",
        "<table border=\"1\" class=\"dataframe\">\n",
        "  <thead>\n",
        "    <tr>\n",
        "      <th>city</th>\n",
        "      <th colspan=\"2\" halign=\"left\">T.H.</th>\n",
        "      <th colspan=\"2\" halign=\"left\">Brazil</th>\n",
        "    </tr>\n",
        "    <tr>\n",
        "      <th>store</th>\n",
        "      <th>store 1</th>\n",
        "      <th>store 2</th>\n",
        "      <th>store 1</th>\n",
        "      <th>store 2</th>\n",
        "    </tr>\n",
        "    <tr>\n",
        "      <th>day</th>\n",
        "      <th></th>\n",
        "      <th></th>\n",
        "      <th></th>\n",
        "      <th></th>\n",
        "    </tr>\n",
        "  </thead>\n",
        "  <tbody>\n",
        "    <tr>\n",
        "      <th>F</th>\n",
        "      <td> 745.025</td>\n",
        "      <td> 542.150</td>\n",
        "      <td> 333.145</td>\n",
        "      <td> 646.275</td>\n",
        "    </tr>\n",
        "    <tr>\n",
        "      <th>M</th>\n",
        "      <td> 469.095</td>\n",
        "      <td> 613.055</td>\n",
        "      <td> 394.855</td>\n",
        "      <td> 514.845</td>\n",
        "    </tr>\n",
        "    <tr>\n",
        "      <th>R</th>\n",
        "      <td> 479.625</td>\n",
        "      <td> 324.835</td>\n",
        "      <td> 662.745</td>\n",
        "      <td> 742.585</td>\n",
        "    </tr>\n",
        "    <tr>\n",
        "      <th>T</th>\n",
        "      <td> 278.155</td>\n",
        "      <td> 582.055</td>\n",
        "      <td> 424.590</td>\n",
        "      <td> 383.945</td>\n",
        "    </tr>\n",
        "    <tr>\n",
        "      <th>W</th>\n",
        "      <td> 595.660</td>\n",
        "      <td> 565.140</td>\n",
        "      <td> 601.825</td>\n",
        "      <td> 676.525</td>\n",
        "    </tr>\n",
        "  </tbody>\n",
        "</table>\n",
        "</div>"
       ],
       "metadata": {},
       "output_type": "pyout",
       "prompt_number": 14,
       "text": [
        "city      T.H.            Brazil         \n",
        "store  store 1  store 2  store 1  store 2\n",
        "day                                      \n",
        "F      745.025  542.150  333.145  646.275\n",
        "M      469.095  613.055  394.855  514.845\n",
        "R      479.625  324.835  662.745  742.585\n",
        "T      278.155  582.055  424.590  383.945\n",
        "W      595.660  565.140  601.825  676.525"
       ]
      }
     ],
     "prompt_number": 14
    },
    {
     "cell_type": "code",
     "collapsed": false,
     "input": [
      "sales.mean(level='store', axis = 1)"
     ],
     "language": "python",
     "metadata": {},
     "outputs": [
      {
       "html": [
        "<div style=\"max-height:1000px;max-width:1500px;overflow:auto;\">\n",
        "<table border=\"1\" class=\"dataframe\">\n",
        "  <thead>\n",
        "    <tr style=\"text-align: right;\">\n",
        "      <th></th>\n",
        "      <th>store</th>\n",
        "      <th>store 1</th>\n",
        "      <th>store 2</th>\n",
        "    </tr>\n",
        "    <tr>\n",
        "      <th>week</th>\n",
        "      <th>day</th>\n",
        "      <th></th>\n",
        "      <th></th>\n",
        "    </tr>\n",
        "  </thead>\n",
        "  <tbody>\n",
        "    <tr>\n",
        "      <th rowspan=\"5\" valign=\"top\">week 1</th>\n",
        "      <th>M</th>\n",
        "      <td> 405.385</td>\n",
        "      <td> 229.560</td>\n",
        "    </tr>\n",
        "    <tr>\n",
        "      <th>T</th>\n",
        "      <td> 307.820</td>\n",
        "      <td> 107.320</td>\n",
        "    </tr>\n",
        "    <tr>\n",
        "      <th>W</th>\n",
        "      <td> 613.465</td>\n",
        "      <td> 635.290</td>\n",
        "    </tr>\n",
        "    <tr>\n",
        "      <th>R</th>\n",
        "      <td> 732.670</td>\n",
        "      <td> 448.460</td>\n",
        "    </tr>\n",
        "    <tr>\n",
        "      <th>F</th>\n",
        "      <td> 503.050</td>\n",
        "      <td> 367.460</td>\n",
        "    </tr>\n",
        "    <tr>\n",
        "      <th rowspan=\"5\" valign=\"top\">week 2</th>\n",
        "      <th>M</th>\n",
        "      <td> 458.565</td>\n",
        "      <td> 898.340</td>\n",
        "    </tr>\n",
        "    <tr>\n",
        "      <th>T</th>\n",
        "      <td> 394.925</td>\n",
        "      <td> 858.680</td>\n",
        "    </tr>\n",
        "    <tr>\n",
        "      <th>W</th>\n",
        "      <td> 584.020</td>\n",
        "      <td> 606.375</td>\n",
        "    </tr>\n",
        "    <tr>\n",
        "      <th>R</th>\n",
        "      <td> 409.700</td>\n",
        "      <td> 618.960</td>\n",
        "    </tr>\n",
        "    <tr>\n",
        "      <th>F</th>\n",
        "      <td> 575.120</td>\n",
        "      <td> 820.965</td>\n",
        "    </tr>\n",
        "  </tbody>\n",
        "</table>\n",
        "</div>"
       ],
       "metadata": {},
       "output_type": "pyout",
       "prompt_number": 15,
       "text": [
        "store       store 1  store 2\n",
        "week   day                  \n",
        "week 1 M    405.385  229.560\n",
        "       T    307.820  107.320\n",
        "       W    613.465  635.290\n",
        "       R    732.670  448.460\n",
        "       F    503.050  367.460\n",
        "week 2 M    458.565  898.340\n",
        "       T    394.925  858.680\n",
        "       W    584.020  606.375\n",
        "       R    409.700  618.960\n",
        "       F    575.120  820.965"
       ]
      }
     ],
     "prompt_number": 15
    },
    {
     "cell_type": "code",
     "collapsed": false,
     "input": [
      "sales.mean(level='store', axis = 1).mean(axis=0)"
     ],
     "language": "python",
     "metadata": {},
     "outputs": [
      {
       "metadata": {},
       "output_type": "pyout",
       "prompt_number": 16,
       "text": [
        "store\n",
        "store 1    498.472\n",
        "store 2    559.141\n",
        "dtype: float64"
       ]
      }
     ],
     "prompt_number": 16
    },
    {
     "cell_type": "code",
     "collapsed": false,
     "input": [
      "sales.mean(level='city', axis=1).mean(level='day')"
     ],
     "language": "python",
     "metadata": {},
     "outputs": [
      {
       "html": [
        "<div style=\"max-height:1000px;max-width:1500px;overflow:auto;\">\n",
        "<table border=\"1\" class=\"dataframe\">\n",
        "  <thead>\n",
        "    <tr style=\"text-align: right;\">\n",
        "      <th>city</th>\n",
        "      <th>Brazil</th>\n",
        "      <th>T.H.</th>\n",
        "    </tr>\n",
        "    <tr>\n",
        "      <th>day</th>\n",
        "      <th></th>\n",
        "      <th></th>\n",
        "    </tr>\n",
        "  </thead>\n",
        "  <tbody>\n",
        "    <tr>\n",
        "      <th>F</th>\n",
        "      <td> 489.7100</td>\n",
        "      <td> 643.5875</td>\n",
        "    </tr>\n",
        "    <tr>\n",
        "      <th>M</th>\n",
        "      <td> 454.8500</td>\n",
        "      <td> 541.0750</td>\n",
        "    </tr>\n",
        "    <tr>\n",
        "      <th>R</th>\n",
        "      <td> 702.6650</td>\n",
        "      <td> 402.2300</td>\n",
        "    </tr>\n",
        "    <tr>\n",
        "      <th>T</th>\n",
        "      <td> 404.2675</td>\n",
        "      <td> 430.1050</td>\n",
        "    </tr>\n",
        "    <tr>\n",
        "      <th>W</th>\n",
        "      <td> 639.1750</td>\n",
        "      <td> 580.4000</td>\n",
        "    </tr>\n",
        "  </tbody>\n",
        "</table>\n",
        "</div>"
       ],
       "metadata": {},
       "output_type": "pyout",
       "prompt_number": 18,
       "text": [
        "city    Brazil      T.H.\n",
        "day                     \n",
        "F     489.7100  643.5875\n",
        "M     454.8500  541.0750\n",
        "R     702.6650  402.2300\n",
        "T     404.2675  430.1050\n",
        "W     639.1750  580.4000"
       ]
      }
     ],
     "prompt_number": 18
    },
    {
     "cell_type": "code",
     "collapsed": false,
     "input": [
      "sales"
     ],
     "language": "python",
     "metadata": {},
     "outputs": [
      {
       "html": [
        "<div style=\"max-height:1000px;max-width:1500px;overflow:auto;\">\n",
        "<table border=\"1\" class=\"dataframe\">\n",
        "  <thead>\n",
        "    <tr>\n",
        "      <th></th>\n",
        "      <th>city</th>\n",
        "      <th colspan=\"2\" halign=\"left\">T.H.</th>\n",
        "      <th colspan=\"2\" halign=\"left\">Brazil</th>\n",
        "    </tr>\n",
        "    <tr>\n",
        "      <th></th>\n",
        "      <th>store</th>\n",
        "      <th>store 1</th>\n",
        "      <th>store 2</th>\n",
        "      <th>store 1</th>\n",
        "      <th>store 2</th>\n",
        "    </tr>\n",
        "    <tr>\n",
        "      <th>week</th>\n",
        "      <th>day</th>\n",
        "      <th></th>\n",
        "      <th></th>\n",
        "      <th></th>\n",
        "      <th></th>\n",
        "    </tr>\n",
        "  </thead>\n",
        "  <tbody>\n",
        "    <tr>\n",
        "      <th rowspan=\"5\" valign=\"top\">week 1</th>\n",
        "      <th>M</th>\n",
        "      <td> 347.87</td>\n",
        "      <td> 267.86</td>\n",
        "      <td> 462.90</td>\n",
        "      <td> 191.26</td>\n",
        "    </tr>\n",
        "    <tr>\n",
        "      <th>T</th>\n",
        "      <td> 151.26</td>\n",
        "      <td> 209.49</td>\n",
        "      <td> 464.38</td>\n",
        "      <td>   5.15</td>\n",
        "    </tr>\n",
        "    <tr>\n",
        "      <th>W</th>\n",
        "      <td> 853.47</td>\n",
        "      <td> 902.55</td>\n",
        "      <td> 373.46</td>\n",
        "      <td> 368.03</td>\n",
        "    </tr>\n",
        "    <tr>\n",
        "      <th>R</th>\n",
        "      <td> 782.03</td>\n",
        "      <td> 343.54</td>\n",
        "      <td> 683.31</td>\n",
        "      <td> 553.38</td>\n",
        "    </tr>\n",
        "    <tr>\n",
        "      <th>F</th>\n",
        "      <td> 997.74</td>\n",
        "      <td> 163.71</td>\n",
        "      <td>   8.36</td>\n",
        "      <td> 571.21</td>\n",
        "    </tr>\n",
        "    <tr>\n",
        "      <th rowspan=\"5\" valign=\"top\">week 2</th>\n",
        "      <th>M</th>\n",
        "      <td> 590.32</td>\n",
        "      <td> 958.25</td>\n",
        "      <td> 326.81</td>\n",
        "      <td> 838.43</td>\n",
        "    </tr>\n",
        "    <tr>\n",
        "      <th>T</th>\n",
        "      <td> 405.05</td>\n",
        "      <td> 954.62</td>\n",
        "      <td> 384.80</td>\n",
        "      <td> 762.74</td>\n",
        "    </tr>\n",
        "    <tr>\n",
        "      <th>W</th>\n",
        "      <td> 337.85</td>\n",
        "      <td> 227.73</td>\n",
        "      <td> 830.19</td>\n",
        "      <td> 985.02</td>\n",
        "    </tr>\n",
        "    <tr>\n",
        "      <th>R</th>\n",
        "      <td> 177.22</td>\n",
        "      <td> 306.13</td>\n",
        "      <td> 642.18</td>\n",
        "      <td> 931.79</td>\n",
        "    </tr>\n",
        "    <tr>\n",
        "      <th>F</th>\n",
        "      <td> 492.31</td>\n",
        "      <td> 920.59</td>\n",
        "      <td> 657.93</td>\n",
        "      <td> 721.34</td>\n",
        "    </tr>\n",
        "  </tbody>\n",
        "</table>\n",
        "</div>"
       ],
       "metadata": {},
       "output_type": "pyout",
       "prompt_number": 20,
       "text": [
        "city           T.H.            Brazil         \n",
        "store       store 1  store 2  store 1  store 2\n",
        "week   day                                    \n",
        "week 1 M     347.87   267.86   462.90   191.26\n",
        "       T     151.26   209.49   464.38     5.15\n",
        "       W     853.47   902.55   373.46   368.03\n",
        "       R     782.03   343.54   683.31   553.38\n",
        "       F     997.74   163.71     8.36   571.21\n",
        "week 2 M     590.32   958.25   326.81   838.43\n",
        "       T     405.05   954.62   384.80   762.74\n",
        "       W     337.85   227.73   830.19   985.02\n",
        "       R     177.22   306.13   642.18   931.79\n",
        "       F     492.31   920.59   657.93   721.34"
       ]
      }
     ],
     "prompt_number": 20
    },
    {
     "cell_type": "code",
     "collapsed": false,
     "input": [
      "pwd"
     ],
     "language": "python",
     "metadata": {},
     "outputs": [
      {
       "metadata": {},
       "output_type": "pyout",
       "prompt_number": 21,
       "text": [
        "u'C:\\\\Users\\\\whiteer\\\\Google Drive\\\\My Media\\\\General\\\\Education\\\\Rose-Hulman\\\\2013 - 2014 School year\\\\11) Winter 2013-2014\\\\CSSE 490\\\\Lessons\\\\Lesson3'"
       ]
      }
     ],
     "prompt_number": 21
    },
    {
     "cell_type": "code",
     "collapsed": false,
     "input": [
      "run grades2.py"
     ],
     "language": "python",
     "metadata": {},
     "outputs": [
      {
       "output_type": "stream",
       "stream": "stdout",
       "text": [
        "quizzes\n",
        "     Q1  Q2  Q3  Q4\n",
        "Bob  60  64  69  65\n",
        "Jim  52  57  59  55\n",
        "Kim  70  75  77  73\n",
        "Sue  90  93  97  95\n",
        "Tom  81  82  84  88\n",
        "\n",
        "lessons\n",
        "     L1  L2  L3  L4\n",
        "Bob  61  67  68  62\n",
        "Jim  56  54  52  53\n",
        "Kim  71  76  72  78\n",
        "Sue  91  92  93  97\n",
        "Tom  80  89  87  89\n",
        "\n",
        "tests\n",
        "     T1  T2  T3\n",
        "Bob  67  63  65\n",
        "Jim  52  51  58\n",
        "Kim  70  74  73\n",
        "Sue  98  97  92\n",
        "Tom  81  86  83\n",
        "\n",
        "weights\n",
        "lessons    0.3\n",
        "quizzes    0.3\n",
        "tests      0.4\n",
        "dtype: float64\n",
        "\n",
        "ID\n",
        "1290    Kim\n",
        "3331    Tom\n",
        "4915    Bob\n",
        "5567    Sue\n",
        "6518    Jim\n",
        "dtype: object\n",
        "\n",
        "year\n",
        "1290    sophomore\n",
        "3331     freshman\n",
        "4915    sophomore\n",
        "5567    sophomore\n",
        "6518     freshman\n",
        "dtype: object\n",
        "\n",
        "major\n",
        "1290    computer science\n",
        "3331    computer science\n",
        "4915    computer science\n",
        "5567         mathematics\n",
        "6518         mathematics\n",
        "dtype: object\n",
        "\n",
        "gender\n",
        "1290    F\n",
        "3331    M\n",
        "4915    M\n",
        "5567    F\n",
        "6518    M\n",
        "dtype: object\n",
        "\n",
        "gradebook"
       ]
      },
      {
       "output_type": "stream",
       "stream": "stdout",
       "text": [
        "\n",
        "     name gender             major       year  lessons  quizzes      tests  \\\n",
        "1290  Kim      F  computer science  sophomore    73.75    74.25  72.333333   \n",
        "3331  Tom      M  computer science   freshman    83.75    86.25  83.333333   \n",
        "4915  Bob      M  computer science  sophomore    64.50    64.50  65.000000   \n",
        "5567  Sue      F       mathematics  sophomore    93.75    93.25  95.666667   \n",
        "6518  Jim      M       mathematics   freshman    55.75    53.75  53.666667   \n",
        "\n",
        "            ave  \n",
        "1290  73.333333  \n",
        "3331  84.333333  \n",
        "4915  64.700000  \n",
        "5567  94.366667  \n",
        "6518  54.316667  \n"
       ]
      }
     ],
     "prompt_number": 22
    },
    {
     "cell_type": "code",
     "collapsed": false,
     "input": [
      "grouped = gradebook.ave"
     ],
     "language": "python",
     "metadata": {},
     "outputs": [],
     "prompt_number": 23
    },
    {
     "cell_type": "code",
     "collapsed": false,
     "input": [
      "grouped"
     ],
     "language": "python",
     "metadata": {},
     "outputs": [
      {
       "metadata": {},
       "output_type": "pyout",
       "prompt_number": 25,
       "text": [
        "1290    73.333333\n",
        "3331    84.333333\n",
        "4915    64.700000\n",
        "5567    94.366667\n",
        "6518    54.316667\n",
        "Name: ave, dtype: float64"
       ]
      }
     ],
     "prompt_number": 25
    },
    {
     "cell_type": "code",
     "collapsed": false,
     "input": [
      "grouped = gradebook.ave.groupby(gradebook.major)"
     ],
     "language": "python",
     "metadata": {},
     "outputs": [],
     "prompt_number": 28
    },
    {
     "cell_type": "code",
     "collapsed": false,
     "input": [
      "grouped.mean()"
     ],
     "language": "python",
     "metadata": {},
     "outputs": [
      {
       "metadata": {},
       "output_type": "pyout",
       "prompt_number": 29,
       "text": [
        "major\n",
        "computer science    74.122222\n",
        "mathematics         74.341667\n",
        "dtype: float64"
       ]
      }
     ],
     "prompt_number": 29
    },
    {
     "cell_type": "code",
     "collapsed": false,
     "input": [
      "grouped = gradebook.ave.groupby(gradebook.year)"
     ],
     "language": "python",
     "metadata": {},
     "outputs": [],
     "prompt_number": 30
    },
    {
     "cell_type": "code",
     "collapsed": false,
     "input": [
      "grouped.mean()"
     ],
     "language": "python",
     "metadata": {},
     "outputs": [
      {
       "metadata": {},
       "output_type": "pyout",
       "prompt_number": 31,
       "text": [
        "year\n",
        "freshman     69.325000\n",
        "sophomore    77.466667\n",
        "dtype: float64"
       ]
      }
     ],
     "prompt_number": 31
    },
    {
     "cell_type": "code",
     "collapsed": false,
     "input": [
      "grouped.count()"
     ],
     "language": "python",
     "metadata": {},
     "outputs": [
      {
       "metadata": {},
       "output_type": "pyout",
       "prompt_number": 32,
       "text": [
        "year\n",
        "freshman     2\n",
        "sophomore    3\n",
        "dtype: int64"
       ]
      }
     ],
     "prompt_number": 32
    },
    {
     "cell_type": "code",
     "collapsed": false,
     "input": [
      "grouped = gradebook.ave.groupby(gradebook.major)"
     ],
     "language": "python",
     "metadata": {},
     "outputs": [],
     "prompt_number": 33
    },
    {
     "cell_type": "code",
     "collapsed": false,
     "input": [
      "grouped.count()"
     ],
     "language": "python",
     "metadata": {},
     "outputs": [
      {
       "metadata": {},
       "output_type": "pyout",
       "prompt_number": 34,
       "text": [
        "major\n",
        "computer science    3\n",
        "mathematics         2\n",
        "dtype: int64"
       ]
      }
     ],
     "prompt_number": 34
    },
    {
     "cell_type": "code",
     "collapsed": false,
     "input": [
      "grouped = gradebook.ave.groupby([gradebook.major, gradebook.year])"
     ],
     "language": "python",
     "metadata": {},
     "outputs": [],
     "prompt_number": 35
    },
    {
     "cell_type": "code",
     "collapsed": false,
     "input": [
      "grouped.count()"
     ],
     "language": "python",
     "metadata": {},
     "outputs": [
      {
       "metadata": {},
       "output_type": "pyout",
       "prompt_number": 36,
       "text": [
        "major             year     \n",
        "computer science  freshman     1\n",
        "                  sophomore    2\n",
        "mathematics       freshman     1\n",
        "                  sophomore    1\n",
        "dtype: int64"
       ]
      }
     ],
     "prompt_number": 36
    },
    {
     "cell_type": "code",
     "collapsed": false,
     "input": [
      "grouped.mean()"
     ],
     "language": "python",
     "metadata": {},
     "outputs": [
      {
       "metadata": {},
       "output_type": "pyout",
       "prompt_number": 37,
       "text": [
        "major             year     \n",
        "computer science  freshman     84.333333\n",
        "                  sophomore    69.016667\n",
        "mathematics       freshman     54.316667\n",
        "                  sophomore    94.366667\n",
        "dtype: float64"
       ]
      }
     ],
     "prompt_number": 37
    },
    {
     "cell_type": "code",
     "collapsed": false,
     "input": [
      "grouped = gradebook.groupby([gradebook.major, gradebook.year])"
     ],
     "language": "python",
     "metadata": {},
     "outputs": [],
     "prompt_number": 38
    },
    {
     "cell_type": "code",
     "collapsed": false,
     "input": [
      "grouped.mean()"
     ],
     "language": "python",
     "metadata": {},
     "outputs": [
      {
       "html": [
        "<div style=\"max-height:1000px;max-width:1500px;overflow:auto;\">\n",
        "<table border=\"1\" class=\"dataframe\">\n",
        "  <thead>\n",
        "    <tr style=\"text-align: right;\">\n",
        "      <th></th>\n",
        "      <th></th>\n",
        "      <th>lessons</th>\n",
        "      <th>quizzes</th>\n",
        "      <th>tests</th>\n",
        "      <th>ave</th>\n",
        "    </tr>\n",
        "    <tr>\n",
        "      <th>major</th>\n",
        "      <th>year</th>\n",
        "      <th></th>\n",
        "      <th></th>\n",
        "      <th></th>\n",
        "      <th></th>\n",
        "    </tr>\n",
        "  </thead>\n",
        "  <tbody>\n",
        "    <tr>\n",
        "      <th rowspan=\"2\" valign=\"top\">computer science</th>\n",
        "      <th>freshman</th>\n",
        "      <td> 83.750</td>\n",
        "      <td> 86.250</td>\n",
        "      <td> 83.333333</td>\n",
        "      <td> 84.333333</td>\n",
        "    </tr>\n",
        "    <tr>\n",
        "      <th>sophomore</th>\n",
        "      <td> 69.125</td>\n",
        "      <td> 69.375</td>\n",
        "      <td> 68.666667</td>\n",
        "      <td> 69.016667</td>\n",
        "    </tr>\n",
        "    <tr>\n",
        "      <th rowspan=\"2\" valign=\"top\">mathematics</th>\n",
        "      <th>freshman</th>\n",
        "      <td> 55.750</td>\n",
        "      <td> 53.750</td>\n",
        "      <td> 53.666667</td>\n",
        "      <td> 54.316667</td>\n",
        "    </tr>\n",
        "    <tr>\n",
        "      <th>sophomore</th>\n",
        "      <td> 93.750</td>\n",
        "      <td> 93.250</td>\n",
        "      <td> 95.666667</td>\n",
        "      <td> 94.366667</td>\n",
        "    </tr>\n",
        "  </tbody>\n",
        "</table>\n",
        "</div>"
       ],
       "metadata": {},
       "output_type": "pyout",
       "prompt_number": 39,
       "text": [
        "                            lessons  quizzes      tests        ave\n",
        "major            year                                             \n",
        "computer science freshman    83.750   86.250  83.333333  84.333333\n",
        "                 sophomore   69.125   69.375  68.666667  69.016667\n",
        "mathematics      freshman    55.750   53.750  53.666667  54.316667\n",
        "                 sophomore   93.750   93.250  95.666667  94.366667"
       ]
      }
     ],
     "prompt_number": 39
    },
    {
     "cell_type": "code",
     "collapsed": false,
     "input": [
      "grouped = gradebook.ave.groupby([gradebook.major, gradebook.year])"
     ],
     "language": "python",
     "metadata": {},
     "outputs": [],
     "prompt_number": 40
    },
    {
     "cell_type": "code",
     "collapsed": false,
     "input": [
      "grouped.agg(['count', 'max', 'mean'])"
     ],
     "language": "python",
     "metadata": {},
     "outputs": [
      {
       "html": [
        "<div style=\"max-height:1000px;max-width:1500px;overflow:auto;\">\n",
        "<table border=\"1\" class=\"dataframe\">\n",
        "  <thead>\n",
        "    <tr style=\"text-align: right;\">\n",
        "      <th></th>\n",
        "      <th></th>\n",
        "      <th>count</th>\n",
        "      <th>max</th>\n",
        "      <th>mean</th>\n",
        "    </tr>\n",
        "    <tr>\n",
        "      <th>major</th>\n",
        "      <th>year</th>\n",
        "      <th></th>\n",
        "      <th></th>\n",
        "      <th></th>\n",
        "    </tr>\n",
        "  </thead>\n",
        "  <tbody>\n",
        "    <tr>\n",
        "      <th rowspan=\"2\" valign=\"top\">computer science</th>\n",
        "      <th>freshman</th>\n",
        "      <td> 1</td>\n",
        "      <td> 84.333333</td>\n",
        "      <td> 84.333333</td>\n",
        "    </tr>\n",
        "    <tr>\n",
        "      <th>sophomore</th>\n",
        "      <td> 2</td>\n",
        "      <td> 73.333333</td>\n",
        "      <td> 69.016667</td>\n",
        "    </tr>\n",
        "    <tr>\n",
        "      <th rowspan=\"2\" valign=\"top\">mathematics</th>\n",
        "      <th>freshman</th>\n",
        "      <td> 1</td>\n",
        "      <td> 54.316667</td>\n",
        "      <td> 54.316667</td>\n",
        "    </tr>\n",
        "    <tr>\n",
        "      <th>sophomore</th>\n",
        "      <td> 1</td>\n",
        "      <td> 94.366667</td>\n",
        "      <td> 94.366667</td>\n",
        "    </tr>\n",
        "  </tbody>\n",
        "</table>\n",
        "</div>"
       ],
       "metadata": {},
       "output_type": "pyout",
       "prompt_number": 41,
       "text": [
        "                            count        max       mean\n",
        "major            year                                  \n",
        "computer science freshman       1  84.333333  84.333333\n",
        "                 sophomore      2  73.333333  69.016667\n",
        "mathematics      freshman       1  54.316667  54.316667\n",
        "                 sophomore      1  94.366667  94.366667"
       ]
      }
     ],
     "prompt_number": 41
    },
    {
     "cell_type": "code",
     "collapsed": false,
     "input": [
      "grouped = gradebook.ave.groupby(gradebook.major)"
     ],
     "language": "python",
     "metadata": {},
     "outputs": [],
     "prompt_number": 42
    },
    {
     "cell_type": "code",
     "collapsed": false,
     "input": [
      "grouped.mean()"
     ],
     "language": "python",
     "metadata": {},
     "outputs": [
      {
       "metadata": {},
       "output_type": "pyout",
       "prompt_number": 43,
       "text": [
        "major\n",
        "computer science    74.122222\n",
        "mathematics         74.341667\n",
        "dtype: float64"
       ]
      }
     ],
     "prompt_number": 43
    },
    {
     "cell_type": "code",
     "collapsed": false,
     "input": [
      "grouped.transform(np.mean)"
     ],
     "language": "python",
     "metadata": {},
     "outputs": [
      {
       "metadata": {},
       "output_type": "pyout",
       "prompt_number": 44,
       "text": [
        "1290    74.122222\n",
        "3331    74.122222\n",
        "4915    74.122222\n",
        "5567    74.341667\n",
        "6518    74.341667\n",
        "Name: ave, dtype: float64"
       ]
      }
     ],
     "prompt_number": 44
    },
    {
     "cell_type": "code",
     "collapsed": false,
     "input": [
      "grouped"
     ],
     "language": "python",
     "metadata": {},
     "outputs": [
      {
       "metadata": {},
       "output_type": "pyout",
       "prompt_number": 45,
       "text": [
        "<pandas.core.groupby.SeriesGroupBy object at 0x064DC890>"
       ]
      }
     ],
     "prompt_number": 45
    },
    {
     "cell_type": "code",
     "collapsed": false,
     "input": [
      "demean = lambda x: x-x.mean()"
     ],
     "language": "python",
     "metadata": {},
     "outputs": [],
     "prompt_number": 46
    },
    {
     "cell_type": "code",
     "collapsed": false,
     "input": [
      "r = np.arange(5)"
     ],
     "language": "python",
     "metadata": {},
     "outputs": [],
     "prompt_number": 47
    },
    {
     "cell_type": "code",
     "collapsed": false,
     "input": [
      "r"
     ],
     "language": "python",
     "metadata": {},
     "outputs": [
      {
       "metadata": {},
       "output_type": "pyout",
       "prompt_number": 48,
       "text": [
        "array([0, 1, 2, 3, 4])"
       ]
      }
     ],
     "prompt_number": 48
    },
    {
     "cell_type": "code",
     "collapsed": false,
     "input": [
      "demean(r)"
     ],
     "language": "python",
     "metadata": {},
     "outputs": [
      {
       "metadata": {},
       "output_type": "pyout",
       "prompt_number": 49,
       "text": [
        "array([-2., -1.,  0.,  1.,  2.])"
       ]
      }
     ],
     "prompt_number": 49
    },
    {
     "cell_type": "code",
     "collapsed": false,
     "input": [
      "r.mean()"
     ],
     "language": "python",
     "metadata": {},
     "outputs": [
      {
       "metadata": {},
       "output_type": "pyout",
       "prompt_number": 50,
       "text": [
        "2.0"
       ]
      }
     ],
     "prompt_number": 50
    },
    {
     "cell_type": "code",
     "collapsed": false,
     "input": [
      "grouped.transform(demean)"
     ],
     "language": "python",
     "metadata": {},
     "outputs": [
      {
       "metadata": {},
       "output_type": "pyout",
       "prompt_number": 51,
       "text": [
        "1290    -0.788889\n",
        "3331    10.211111\n",
        "4915    -9.422222\n",
        "5567    20.025000\n",
        "6518   -20.025000\n",
        "Name: ave, dtype: float64"
       ]
      }
     ],
     "prompt_number": 51
    },
    {
     "cell_type": "code",
     "collapsed": false,
     "input": [
      "grouped = gradebook.ave.groupby(gradebook.major)"
     ],
     "language": "python",
     "metadata": {},
     "outputs": [],
     "prompt_number": 52
    },
    {
     "cell_type": "code",
     "collapsed": false,
     "input": [
      "grouped.transform(demean)"
     ],
     "language": "python",
     "metadata": {},
     "outputs": [
      {
       "metadata": {},
       "output_type": "pyout",
       "prompt_number": 53,
       "text": [
        "1290    -0.788889\n",
        "3331    10.211111\n",
        "4915    -9.422222\n",
        "5567    20.025000\n",
        "6518   -20.025000\n",
        "Name: ave, dtype: float64"
       ]
      }
     ],
     "prompt_number": 53
    },
    {
     "cell_type": "code",
     "collapsed": false,
     "input": [
      "gradebook"
     ],
     "language": "python",
     "metadata": {},
     "outputs": [
      {
       "html": [
        "<div style=\"max-height:1000px;max-width:1500px;overflow:auto;\">\n",
        "<table border=\"1\" class=\"dataframe\">\n",
        "  <thead>\n",
        "    <tr style=\"text-align: right;\">\n",
        "      <th></th>\n",
        "      <th>name</th>\n",
        "      <th>gender</th>\n",
        "      <th>major</th>\n",
        "      <th>year</th>\n",
        "      <th>lessons</th>\n",
        "      <th>quizzes</th>\n",
        "      <th>tests</th>\n",
        "      <th>ave</th>\n",
        "    </tr>\n",
        "  </thead>\n",
        "  <tbody>\n",
        "    <tr>\n",
        "      <th>1290</th>\n",
        "      <td> Kim</td>\n",
        "      <td> F</td>\n",
        "      <td> computer science</td>\n",
        "      <td> sophomore</td>\n",
        "      <td> 73.75</td>\n",
        "      <td> 74.25</td>\n",
        "      <td> 72.333333</td>\n",
        "      <td> 73.333333</td>\n",
        "    </tr>\n",
        "    <tr>\n",
        "      <th>3331</th>\n",
        "      <td> Tom</td>\n",
        "      <td> M</td>\n",
        "      <td> computer science</td>\n",
        "      <td>  freshman</td>\n",
        "      <td> 83.75</td>\n",
        "      <td> 86.25</td>\n",
        "      <td> 83.333333</td>\n",
        "      <td> 84.333333</td>\n",
        "    </tr>\n",
        "    <tr>\n",
        "      <th>4915</th>\n",
        "      <td> Bob</td>\n",
        "      <td> M</td>\n",
        "      <td> computer science</td>\n",
        "      <td> sophomore</td>\n",
        "      <td> 64.50</td>\n",
        "      <td> 64.50</td>\n",
        "      <td> 65.000000</td>\n",
        "      <td> 64.700000</td>\n",
        "    </tr>\n",
        "    <tr>\n",
        "      <th>5567</th>\n",
        "      <td> Sue</td>\n",
        "      <td> F</td>\n",
        "      <td>      mathematics</td>\n",
        "      <td> sophomore</td>\n",
        "      <td> 93.75</td>\n",
        "      <td> 93.25</td>\n",
        "      <td> 95.666667</td>\n",
        "      <td> 94.366667</td>\n",
        "    </tr>\n",
        "    <tr>\n",
        "      <th>6518</th>\n",
        "      <td> Jim</td>\n",
        "      <td> M</td>\n",
        "      <td>      mathematics</td>\n",
        "      <td>  freshman</td>\n",
        "      <td> 55.75</td>\n",
        "      <td> 53.75</td>\n",
        "      <td> 53.666667</td>\n",
        "      <td> 54.316667</td>\n",
        "    </tr>\n",
        "  </tbody>\n",
        "</table>\n",
        "</div>"
       ],
       "metadata": {},
       "output_type": "pyout",
       "prompt_number": 54,
       "text": [
        "     name gender             major       year  lessons  quizzes      tests  \\\n",
        "1290  Kim      F  computer science  sophomore    73.75    74.25  72.333333   \n",
        "3331  Tom      M  computer science   freshman    83.75    86.25  83.333333   \n",
        "4915  Bob      M  computer science  sophomore    64.50    64.50  65.000000   \n",
        "5567  Sue      F       mathematics  sophomore    93.75    93.25  95.666667   \n",
        "6518  Jim      M       mathematics   freshman    55.75    53.75  53.666667   \n",
        "\n",
        "            ave  \n",
        "1290  73.333333  \n",
        "3331  84.333333  \n",
        "4915  64.700000  \n",
        "5567  94.366667  \n",
        "6518  54.316667  "
       ]
      }
     ],
     "prompt_number": 54
    },
    {
     "cell_type": "code",
     "collapsed": false,
     "input": [
      "gradebook.pivot_table(rows = ['gender', 'major'])"
     ],
     "language": "python",
     "metadata": {},
     "outputs": [
      {
       "html": [
        "<div style=\"max-height:1000px;max-width:1500px;overflow:auto;\">\n",
        "<table border=\"1\" class=\"dataframe\">\n",
        "  <thead>\n",
        "    <tr style=\"text-align: right;\">\n",
        "      <th></th>\n",
        "      <th></th>\n",
        "      <th>ave</th>\n",
        "      <th>lessons</th>\n",
        "      <th>quizzes</th>\n",
        "      <th>tests</th>\n",
        "    </tr>\n",
        "    <tr>\n",
        "      <th>gender</th>\n",
        "      <th>major</th>\n",
        "      <th></th>\n",
        "      <th></th>\n",
        "      <th></th>\n",
        "      <th></th>\n",
        "    </tr>\n",
        "  </thead>\n",
        "  <tbody>\n",
        "    <tr>\n",
        "      <th rowspan=\"2\" valign=\"top\">F</th>\n",
        "      <th>computer science</th>\n",
        "      <td> 73.333333</td>\n",
        "      <td> 73.750</td>\n",
        "      <td> 74.250</td>\n",
        "      <td> 72.333333</td>\n",
        "    </tr>\n",
        "    <tr>\n",
        "      <th>mathematics</th>\n",
        "      <td> 94.366667</td>\n",
        "      <td> 93.750</td>\n",
        "      <td> 93.250</td>\n",
        "      <td> 95.666667</td>\n",
        "    </tr>\n",
        "    <tr>\n",
        "      <th rowspan=\"2\" valign=\"top\">M</th>\n",
        "      <th>computer science</th>\n",
        "      <td> 74.516667</td>\n",
        "      <td> 74.125</td>\n",
        "      <td> 75.375</td>\n",
        "      <td> 74.166667</td>\n",
        "    </tr>\n",
        "    <tr>\n",
        "      <th>mathematics</th>\n",
        "      <td> 54.316667</td>\n",
        "      <td> 55.750</td>\n",
        "      <td> 53.750</td>\n",
        "      <td> 53.666667</td>\n",
        "    </tr>\n",
        "  </tbody>\n",
        "</table>\n",
        "</div>"
       ],
       "metadata": {},
       "output_type": "pyout",
       "prompt_number": 55,
       "text": [
        "                               ave  lessons  quizzes      tests\n",
        "gender major                                                   \n",
        "F      computer science  73.333333   73.750   74.250  72.333333\n",
        "       mathematics       94.366667   93.750   93.250  95.666667\n",
        "M      computer science  74.516667   74.125   75.375  74.166667\n",
        "       mathematics       54.316667   55.750   53.750  53.666667"
       ]
      }
     ],
     "prompt_number": 55
    },
    {
     "cell_type": "code",
     "collapsed": false,
     "input": [
      "gradebook.pivot_table(rows = ['gender', 'major'], cols = 'year')"
     ],
     "language": "python",
     "metadata": {},
     "outputs": [
      {
       "html": [
        "<div style=\"max-height:1000px;max-width:1500px;overflow:auto;\">\n",
        "<table border=\"1\" class=\"dataframe\">\n",
        "  <thead>\n",
        "    <tr>\n",
        "      <th></th>\n",
        "      <th></th>\n",
        "      <th colspan=\"2\" halign=\"left\">lessons</th>\n",
        "      <th colspan=\"2\" halign=\"left\">quizzes</th>\n",
        "      <th colspan=\"2\" halign=\"left\">tests</th>\n",
        "      <th colspan=\"2\" halign=\"left\">ave</th>\n",
        "    </tr>\n",
        "    <tr>\n",
        "      <th></th>\n",
        "      <th>year</th>\n",
        "      <th>freshman</th>\n",
        "      <th>sophomore</th>\n",
        "      <th>freshman</th>\n",
        "      <th>sophomore</th>\n",
        "      <th>freshman</th>\n",
        "      <th>sophomore</th>\n",
        "      <th>freshman</th>\n",
        "      <th>sophomore</th>\n",
        "    </tr>\n",
        "    <tr>\n",
        "      <th>gender</th>\n",
        "      <th>major</th>\n",
        "      <th></th>\n",
        "      <th></th>\n",
        "      <th></th>\n",
        "      <th></th>\n",
        "      <th></th>\n",
        "      <th></th>\n",
        "      <th></th>\n",
        "      <th></th>\n",
        "    </tr>\n",
        "  </thead>\n",
        "  <tbody>\n",
        "    <tr>\n",
        "      <th rowspan=\"2\" valign=\"top\">F</th>\n",
        "      <th>computer science</th>\n",
        "      <td>   NaN</td>\n",
        "      <td> 73.75</td>\n",
        "      <td>   NaN</td>\n",
        "      <td> 74.25</td>\n",
        "      <td>       NaN</td>\n",
        "      <td> 72.333333</td>\n",
        "      <td>       NaN</td>\n",
        "      <td> 73.333333</td>\n",
        "    </tr>\n",
        "    <tr>\n",
        "      <th>mathematics</th>\n",
        "      <td>   NaN</td>\n",
        "      <td> 93.75</td>\n",
        "      <td>   NaN</td>\n",
        "      <td> 93.25</td>\n",
        "      <td>       NaN</td>\n",
        "      <td> 95.666667</td>\n",
        "      <td>       NaN</td>\n",
        "      <td> 94.366667</td>\n",
        "    </tr>\n",
        "    <tr>\n",
        "      <th rowspan=\"2\" valign=\"top\">M</th>\n",
        "      <th>computer science</th>\n",
        "      <td> 83.75</td>\n",
        "      <td> 64.50</td>\n",
        "      <td> 86.25</td>\n",
        "      <td> 64.50</td>\n",
        "      <td> 83.333333</td>\n",
        "      <td> 65.000000</td>\n",
        "      <td> 84.333333</td>\n",
        "      <td> 64.700000</td>\n",
        "    </tr>\n",
        "    <tr>\n",
        "      <th>mathematics</th>\n",
        "      <td> 55.75</td>\n",
        "      <td>   NaN</td>\n",
        "      <td> 53.75</td>\n",
        "      <td>   NaN</td>\n",
        "      <td> 53.666667</td>\n",
        "      <td>       NaN</td>\n",
        "      <td> 54.316667</td>\n",
        "      <td>       NaN</td>\n",
        "    </tr>\n",
        "  </tbody>\n",
        "</table>\n",
        "</div>"
       ],
       "metadata": {},
       "output_type": "pyout",
       "prompt_number": 56,
       "text": [
        "                          lessons              quizzes                 tests  \\\n",
        "year                     freshman  sophomore  freshman  sophomore   freshman   \n",
        "gender major                                                                   \n",
        "F      computer science       NaN      73.75       NaN      74.25        NaN   \n",
        "       mathematics            NaN      93.75       NaN      93.25        NaN   \n",
        "M      computer science     83.75      64.50     86.25      64.50  83.333333   \n",
        "       mathematics          55.75        NaN     53.75        NaN  53.666667   \n",
        "\n",
        "                                          ave             \n",
        "year                     sophomore   freshman  sophomore  \n",
        "gender major                                              \n",
        "F      computer science  72.333333        NaN  73.333333  \n",
        "       mathematics       95.666667        NaN  94.366667  \n",
        "M      computer science  65.000000  84.333333  64.700000  \n",
        "       mathematics             NaN  54.316667        NaN  "
       ]
      }
     ],
     "prompt_number": 56
    },
    {
     "cell_type": "code",
     "collapsed": false,
     "input": [
      "gradebook.pivot_table(rows = ['gender', 'major'], cols = 'year')['ave']"
     ],
     "language": "python",
     "metadata": {},
     "outputs": [
      {
       "html": [
        "<div style=\"max-height:1000px;max-width:1500px;overflow:auto;\">\n",
        "<table border=\"1\" class=\"dataframe\">\n",
        "  <thead>\n",
        "    <tr style=\"text-align: right;\">\n",
        "      <th></th>\n",
        "      <th>year</th>\n",
        "      <th>freshman</th>\n",
        "      <th>sophomore</th>\n",
        "    </tr>\n",
        "    <tr>\n",
        "      <th>gender</th>\n",
        "      <th>major</th>\n",
        "      <th></th>\n",
        "      <th></th>\n",
        "    </tr>\n",
        "  </thead>\n",
        "  <tbody>\n",
        "    <tr>\n",
        "      <th rowspan=\"2\" valign=\"top\">F</th>\n",
        "      <th>computer science</th>\n",
        "      <td>       NaN</td>\n",
        "      <td> 73.333333</td>\n",
        "    </tr>\n",
        "    <tr>\n",
        "      <th>mathematics</th>\n",
        "      <td>       NaN</td>\n",
        "      <td> 94.366667</td>\n",
        "    </tr>\n",
        "    <tr>\n",
        "      <th rowspan=\"2\" valign=\"top\">M</th>\n",
        "      <th>computer science</th>\n",
        "      <td> 84.333333</td>\n",
        "      <td> 64.700000</td>\n",
        "    </tr>\n",
        "    <tr>\n",
        "      <th>mathematics</th>\n",
        "      <td> 54.316667</td>\n",
        "      <td>       NaN</td>\n",
        "    </tr>\n",
        "  </tbody>\n",
        "</table>\n",
        "</div>"
       ],
       "metadata": {},
       "output_type": "pyout",
       "prompt_number": 57,
       "text": [
        "year                      freshman  sophomore\n",
        "gender major                                 \n",
        "F      computer science        NaN  73.333333\n",
        "       mathematics             NaN  94.366667\n",
        "M      computer science  84.333333  64.700000\n",
        "       mathematics       54.316667        NaN"
       ]
      }
     ],
     "prompt_number": 57
    },
    {
     "cell_type": "code",
     "collapsed": false,
     "input": [
      "pd.crosstab(gradebook.major, gradebook.year)"
     ],
     "language": "python",
     "metadata": {},
     "outputs": [
      {
       "html": [
        "<div style=\"max-height:1000px;max-width:1500px;overflow:auto;\">\n",
        "<table border=\"1\" class=\"dataframe\">\n",
        "  <thead>\n",
        "    <tr style=\"text-align: right;\">\n",
        "      <th>year</th>\n",
        "      <th>freshman</th>\n",
        "      <th>sophomore</th>\n",
        "    </tr>\n",
        "    <tr>\n",
        "      <th>major</th>\n",
        "      <th></th>\n",
        "      <th></th>\n",
        "    </tr>\n",
        "  </thead>\n",
        "  <tbody>\n",
        "    <tr>\n",
        "      <th>computer science</th>\n",
        "      <td> 1</td>\n",
        "      <td> 2</td>\n",
        "    </tr>\n",
        "    <tr>\n",
        "      <th>mathematics</th>\n",
        "      <td> 1</td>\n",
        "      <td> 1</td>\n",
        "    </tr>\n",
        "  </tbody>\n",
        "</table>\n",
        "</div>"
       ],
       "metadata": {},
       "output_type": "pyout",
       "prompt_number": 58,
       "text": [
        "year              freshman  sophomore\n",
        "major                                \n",
        "computer science         1          2\n",
        "mathematics              1          1"
       ]
      }
     ],
     "prompt_number": 58
    },
    {
     "cell_type": "code",
     "collapsed": false,
     "input": [
      "pd.crosstab(gradebook.major, gradebook.year, margins = True)"
     ],
     "language": "python",
     "metadata": {},
     "outputs": [
      {
       "html": [
        "<div style=\"max-height:1000px;max-width:1500px;overflow:auto;\">\n",
        "<table border=\"1\" class=\"dataframe\">\n",
        "  <thead>\n",
        "    <tr style=\"text-align: right;\">\n",
        "      <th>year</th>\n",
        "      <th>freshman</th>\n",
        "      <th>sophomore</th>\n",
        "      <th>All</th>\n",
        "    </tr>\n",
        "    <tr>\n",
        "      <th>major</th>\n",
        "      <th></th>\n",
        "      <th></th>\n",
        "      <th></th>\n",
        "    </tr>\n",
        "  </thead>\n",
        "  <tbody>\n",
        "    <tr>\n",
        "      <th>computer science</th>\n",
        "      <td> 1</td>\n",
        "      <td> 2</td>\n",
        "      <td> 3</td>\n",
        "    </tr>\n",
        "    <tr>\n",
        "      <th>mathematics</th>\n",
        "      <td> 1</td>\n",
        "      <td> 1</td>\n",
        "      <td> 2</td>\n",
        "    </tr>\n",
        "    <tr>\n",
        "      <th>All</th>\n",
        "      <td> 2</td>\n",
        "      <td> 3</td>\n",
        "      <td> 5</td>\n",
        "    </tr>\n",
        "  </tbody>\n",
        "</table>\n",
        "</div>"
       ],
       "metadata": {},
       "output_type": "pyout",
       "prompt_number": 59,
       "text": [
        "year              freshman  sophomore  All\n",
        "major                                     \n",
        "computer science         1          2    3\n",
        "mathematics              1          1    2\n",
        "All                      2          3    5"
       ]
      }
     ],
     "prompt_number": 59
    },
    {
     "cell_type": "code",
     "collapsed": false,
     "input": [
      "pd.crosstab([gradebook.major, gradebook.year], gradebook.gender)"
     ],
     "language": "python",
     "metadata": {},
     "outputs": [
      {
       "html": [
        "<div style=\"max-height:1000px;max-width:1500px;overflow:auto;\">\n",
        "<table border=\"1\" class=\"dataframe\">\n",
        "  <thead>\n",
        "    <tr style=\"text-align: right;\">\n",
        "      <th></th>\n",
        "      <th>gender</th>\n",
        "      <th>F</th>\n",
        "      <th>M</th>\n",
        "    </tr>\n",
        "    <tr>\n",
        "      <th>major</th>\n",
        "      <th>year</th>\n",
        "      <th></th>\n",
        "      <th></th>\n",
        "    </tr>\n",
        "  </thead>\n",
        "  <tbody>\n",
        "    <tr>\n",
        "      <th rowspan=\"2\" valign=\"top\">computer science</th>\n",
        "      <th>freshman</th>\n",
        "      <td> 0</td>\n",
        "      <td> 1</td>\n",
        "    </tr>\n",
        "    <tr>\n",
        "      <th>sophomore</th>\n",
        "      <td> 1</td>\n",
        "      <td> 1</td>\n",
        "    </tr>\n",
        "    <tr>\n",
        "      <th rowspan=\"2\" valign=\"top\">mathematics</th>\n",
        "      <th>freshman</th>\n",
        "      <td> 0</td>\n",
        "      <td> 1</td>\n",
        "    </tr>\n",
        "    <tr>\n",
        "      <th>sophomore</th>\n",
        "      <td> 1</td>\n",
        "      <td> 0</td>\n",
        "    </tr>\n",
        "  </tbody>\n",
        "</table>\n",
        "</div>"
       ],
       "metadata": {},
       "output_type": "pyout",
       "prompt_number": 60,
       "text": [
        "gender                      F  M\n",
        "major            year           \n",
        "computer science freshman   0  1\n",
        "                 sophomore  1  1\n",
        "mathematics      freshman   0  1\n",
        "                 sophomore  1  0"
       ]
      }
     ],
     "prompt_number": 60
    },
    {
     "cell_type": "code",
     "collapsed": false,
     "input": [],
     "language": "python",
     "metadata": {},
     "outputs": []
    }
   ],
   "metadata": {}
  }
 ]
}