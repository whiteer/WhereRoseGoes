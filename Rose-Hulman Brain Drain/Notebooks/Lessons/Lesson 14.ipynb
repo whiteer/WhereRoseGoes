{
 "metadata": {
  "name": ""
 },
 "nbformat": 3,
 "nbformat_minor": 0,
 "worksheets": [
  {
   "cells": [
    {
     "cell_type": "code",
     "collapsed": false,
     "input": [
      "cd ../../Google Drive/My Media/General/Education/Rose-Hulman/2013 - 2014 School year/11) Winter 2013-2014/CSSE 490/Lessons/Lesson 14"
     ],
     "language": "python",
     "metadata": {},
     "outputs": [
      {
       "output_type": "stream",
       "stream": "stdout",
       "text": [
        "C:\\Users\\whiteer\\Google Drive\\My Media\\General\\Education\\Rose-Hulman\\2013 - 2014 School year\\11) Winter 2013-2014\\CSSE 490\\Lessons\\Lesson 14\n"
       ]
      }
     ],
     "prompt_number": 1
    },
    {
     "cell_type": "code",
     "collapsed": false,
     "input": [
      "import pandas as pd\n",
      "from apriori import *"
     ],
     "language": "python",
     "metadata": {},
     "outputs": [],
     "prompt_number": 2
    },
    {
     "cell_type": "code",
     "collapsed": false,
     "input": [
      "students = pd.read_csv('SV151_2013_Principles_of_Economics.csv', header = None, names=['major','cls','year','advisor','course'])"
     ],
     "language": "python",
     "metadata": {},
     "outputs": [],
     "prompt_number": 4
    },
    {
     "cell_type": "code",
     "collapsed": false,
     "input": [
      "students.head()"
     ],
     "language": "python",
     "metadata": {},
     "outputs": [
      {
       "html": [
        "<div style=\"max-height:1000px;max-width:1500px;overflow:auto;\">\n",
        "<table border=\"1\" class=\"dataframe\">\n",
        "  <thead>\n",
        "    <tr style=\"text-align: right;\">\n",
        "      <th></th>\n",
        "      <th>major</th>\n",
        "      <th>cls</th>\n",
        "      <th>year</th>\n",
        "      <th>advisor</th>\n",
        "      <th>course</th>\n",
        "    </tr>\n",
        "  </thead>\n",
        "  <tbody>\n",
        "    <tr>\n",
        "      <th>0</th>\n",
        "      <td> CPE</td>\n",
        "      <td> JR</td>\n",
        "      <td> Y3</td>\n",
        "      <td> Winter</td>\n",
        "      <td>NaN</td>\n",
        "    </tr>\n",
        "    <tr>\n",
        "      <th>1</th>\n",
        "      <td>  EE</td>\n",
        "      <td> JR</td>\n",
        "      <td> Y3</td>\n",
        "      <td> Winter</td>\n",
        "      <td>NaN</td>\n",
        "    </tr>\n",
        "    <tr>\n",
        "      <th>2</th>\n",
        "      <td>  ME</td>\n",
        "      <td> SR</td>\n",
        "      <td> Y4</td>\n",
        "      <td> Winter</td>\n",
        "      <td>NaN</td>\n",
        "    </tr>\n",
        "    <tr>\n",
        "      <th>3</th>\n",
        "      <td>  ME</td>\n",
        "      <td> SO</td>\n",
        "      <td> Y2</td>\n",
        "      <td> Winter</td>\n",
        "      <td>NaN</td>\n",
        "    </tr>\n",
        "    <tr>\n",
        "      <th>4</th>\n",
        "      <td> CHE</td>\n",
        "      <td> JR</td>\n",
        "      <td> Y3</td>\n",
        "      <td> Winter</td>\n",
        "      <td>NaN</td>\n",
        "    </tr>\n",
        "  </tbody>\n",
        "</table>\n",
        "</div>"
       ],
       "metadata": {},
       "output_type": "pyout",
       "prompt_number": 5,
       "text": [
        "  major cls year advisor  course\n",
        "0   CPE  JR   Y3  Winter     NaN\n",
        "1    EE  JR   Y3  Winter     NaN\n",
        "2    ME  SR   Y4  Winter     NaN\n",
        "3    ME  SO   Y2  Winter     NaN\n",
        "4   CHE  JR   Y3  Winter     NaN"
       ]
      }
     ],
     "prompt_number": 5
    },
    {
     "cell_type": "code",
     "collapsed": false,
     "input": [
      "itemsets, rules = runApriori(students.values,0.2,0.4)"
     ],
     "language": "python",
     "metadata": {},
     "outputs": [],
     "prompt_number": 14
    },
    {
     "cell_type": "code",
     "collapsed": false,
     "input": [
      "itemsets"
     ],
     "language": "python",
     "metadata": {},
     "outputs": [
      {
       "metadata": {},
       "output_type": "pyout",
       "prompt_number": 15,
       "text": [
        "[(('SO',), 0.46320346320346323),\n",
        " (('Winter',), 0.3939393939393939),\n",
        " (('ME',), 0.2943722943722944),\n",
        " (('Fall',), 0.3116883116883117),\n",
        " (('Y2',), 0.4155844155844156),\n",
        " (('Y1',), 0.24242424242424243),\n",
        " (('Spring',), 0.2943722943722944),\n",
        " (('Y2', 'SO'), 0.3593073593073593)]"
       ]
      }
     ],
     "prompt_number": 15
    },
    {
     "cell_type": "code",
     "collapsed": false,
     "input": [
      "for itemset in itemsets:\n",
      "    print '%5.2f' % itemset[1],\n",
      "    print itemset[0]"
     ],
     "language": "python",
     "metadata": {},
     "outputs": [
      {
       "output_type": "stream",
       "stream": "stdout",
       "text": [
        " 0.46 ('SO',)\n",
        " 0.39 ('Winter',)\n",
        " 0.29 ('ME',)\n",
        " 0.31 ('Fall',)\n",
        " 0.42 ('Y2',)\n",
        " 0.24 ('Y1',)\n",
        " 0.29 ('Spring',)\n",
        " 0.36 ('Y2', 'SO')\n"
       ]
      }
     ],
     "prompt_number": 16
    },
    {
     "cell_type": "code",
     "collapsed": false,
     "input": [
      "for rule in rules:\n",
      "    print '%5.2f' % rule[1],\n",
      "    print rule[0]"
     ],
     "language": "python",
     "metadata": {},
     "outputs": [
      {
       "output_type": "stream",
       "stream": "stdout",
       "text": [
        " 0.86 (('Y2',), ('SO',))\n",
        " 0.78 (('SO',), ('Y2',))\n"
       ]
      }
     ],
     "prompt_number": 17
    },
    {
     "cell_type": "code",
     "collapsed": false,
     "input": [],
     "language": "python",
     "metadata": {},
     "outputs": []
    }
   ],
   "metadata": {}
  }
 ]
}