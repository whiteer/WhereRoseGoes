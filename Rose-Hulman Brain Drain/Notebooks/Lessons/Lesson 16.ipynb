{
 "metadata": {
  "name": ""
 },
 "nbformat": 3,
 "nbformat_minor": 0,
 "worksheets": [
  {
   "cells": [
    {
     "cell_type": "code",
     "collapsed": false,
     "input": [
      "import pylab as pl\n",
      "import numpy as np\n",
      "import pandas as pd\n",
      "from sklearn import datasets\n",
      "from sklearn.cluster import KMeans\n",
      "from sklearn.preprocessing import MinMaxScaler"
     ],
     "language": "python",
     "metadata": {},
     "outputs": [],
     "prompt_number": 27
    },
    {
     "cell_type": "code",
     "collapsed": false,
     "input": [
      "cd ../../Google Drive/My Media/General/Education/Rose-Hulman/2013 - 2014 School year/11) Winter 2013-2014/CSSE 490/Lessons/Lesson 16"
     ],
     "language": "python",
     "metadata": {},
     "outputs": [
      {
       "output_type": "stream",
       "stream": "stdout",
       "text": [
        "C:\\Users\\whiteer\\Google Drive\\My Media\\General\\Education\\Rose-Hulman\\2013 - 2014 School year\\11) Winter 2013-2014\\CSSE 490\\Lessons\\Lesson 16\n"
       ]
      }
     ],
     "prompt_number": 2
    },
    {
     "cell_type": "code",
     "collapsed": false,
     "input": [
      "cols = ['area', 'pemimeter', 'compactness', 'length', 'width', 'asymmetry', 'grove', '?']\n",
      "seeds = pd.read_csv('seeds.csv', header = None, names = cols, index_col = None)\n",
      "seeds.head()"
     ],
     "language": "python",
     "metadata": {},
     "outputs": [
      {
       "html": [
        "<div style=\"max-height:1000px;max-width:1500px;overflow:auto;\">\n",
        "<table border=\"1\" class=\"dataframe\">\n",
        "  <thead>\n",
        "    <tr style=\"text-align: right;\">\n",
        "      <th></th>\n",
        "      <th>area</th>\n",
        "      <th>pemimeter</th>\n",
        "      <th>compactness</th>\n",
        "      <th>length</th>\n",
        "      <th>width</th>\n",
        "      <th>asymmetry</th>\n",
        "      <th>grove</th>\n",
        "      <th>?</th>\n",
        "    </tr>\n",
        "  </thead>\n",
        "  <tbody>\n",
        "    <tr>\n",
        "      <th>0</th>\n",
        "      <td> 15.26</td>\n",
        "      <td> 14.84</td>\n",
        "      <td> 0.8710</td>\n",
        "      <td> 5.763</td>\n",
        "      <td> 3.312</td>\n",
        "      <td> 2.221</td>\n",
        "      <td> 5.220</td>\n",
        "      <td> 1</td>\n",
        "    </tr>\n",
        "    <tr>\n",
        "      <th>1</th>\n",
        "      <td> 14.88</td>\n",
        "      <td> 14.57</td>\n",
        "      <td> 0.8811</td>\n",
        "      <td> 5.554</td>\n",
        "      <td> 3.333</td>\n",
        "      <td> 1.018</td>\n",
        "      <td> 4.956</td>\n",
        "      <td> 1</td>\n",
        "    </tr>\n",
        "    <tr>\n",
        "      <th>2</th>\n",
        "      <td> 14.29</td>\n",
        "      <td> 14.09</td>\n",
        "      <td> 0.9050</td>\n",
        "      <td> 5.291</td>\n",
        "      <td> 3.337</td>\n",
        "      <td> 2.699</td>\n",
        "      <td> 4.825</td>\n",
        "      <td> 1</td>\n",
        "    </tr>\n",
        "    <tr>\n",
        "      <th>3</th>\n",
        "      <td> 13.84</td>\n",
        "      <td> 13.94</td>\n",
        "      <td> 0.8955</td>\n",
        "      <td> 5.324</td>\n",
        "      <td> 3.379</td>\n",
        "      <td> 2.259</td>\n",
        "      <td> 4.805</td>\n",
        "      <td> 1</td>\n",
        "    </tr>\n",
        "    <tr>\n",
        "      <th>4</th>\n",
        "      <td> 16.14</td>\n",
        "      <td> 14.99</td>\n",
        "      <td> 0.9034</td>\n",
        "      <td> 5.658</td>\n",
        "      <td> 3.562</td>\n",
        "      <td> 1.355</td>\n",
        "      <td> 5.175</td>\n",
        "      <td> 1</td>\n",
        "    </tr>\n",
        "  </tbody>\n",
        "</table>\n",
        "</div>"
       ],
       "metadata": {},
       "output_type": "pyout",
       "prompt_number": 8,
       "text": [
        "    area  pemimeter  compactness  length  width  asymmetry  grove  ?\n",
        "0  15.26      14.84       0.8710   5.763  3.312      2.221  5.220  1\n",
        "1  14.88      14.57       0.8811   5.554  3.333      1.018  4.956  1\n",
        "2  14.29      14.09       0.9050   5.291  3.337      2.699  4.825  1\n",
        "3  13.84      13.94       0.8955   5.324  3.379      2.259  4.805  1\n",
        "4  16.14      14.99       0.9034   5.658  3.562      1.355  5.175  1"
       ]
      }
     ],
     "prompt_number": 8
    },
    {
     "cell_type": "code",
     "collapsed": false,
     "input": [
      "x = seeds.asymmetry.values\n",
      "y = seeds.grove.values\n",
      "pl.scatter(x,y,s=100)\n",
      "pl.show()"
     ],
     "language": "python",
     "metadata": {},
     "outputs": [],
     "prompt_number": 9
    },
    {
     "cell_type": "code",
     "collapsed": false,
     "input": [
      "km = KMeans(n_clusters = 25, n_init = 100)\n",
      "X = np.array([x,y]).T\n",
      "km.fit(X)\n",
      "print km.inertia_\n",
      "pl.scatter(X[:,0],X[:,1], c = km.labels_,s = 100)\n",
      "pl.show()"
     ],
     "language": "python",
     "metadata": {},
     "outputs": [
      {
       "output_type": "stream",
       "stream": "stdout",
       "text": [
        "10.0834919597\n"
       ]
      }
     ],
     "prompt_number": 26
    },
    {
     "cell_type": "code",
     "collapsed": false,
     "input": [],
     "language": "python",
     "metadata": {},
     "outputs": [],
     "prompt_number": 20
    }
   ],
   "metadata": {}
  }
 ]
}