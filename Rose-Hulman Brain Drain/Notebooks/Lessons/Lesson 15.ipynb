{
 "metadata": {
  "name": ""
 },
 "nbformat": 3,
 "nbformat_minor": 0,
 "worksheets": [
  {
   "cells": [
    {
     "cell_type": "code",
     "collapsed": false,
     "input": [
      "import numpy as np\n",
      "import pylab as pl"
     ],
     "language": "python",
     "metadata": {},
     "outputs": [],
     "prompt_number": 21
    },
    {
     "cell_type": "code",
     "collapsed": false,
     "input": [
      "def DistSqr(X,C):\n",
      "    m = X.shape[0]\n",
      "    n = C.shape[0]\n",
      "    D2 = np.zeros((m,n))\n",
      "    \n",
      "    for i in np.arange(2):\n",
      "        DX = np.tile(X[:,i], (n,1))\n",
      "        DC = np.tile(C[:,i], (m,1))\n",
      "        D = DX.T - DC\n",
      "        D2 = D2 + D*D\n",
      "    return D2"
     ],
     "language": "python",
     "metadata": {},
     "outputs": [],
     "prompt_number": 41
    },
    {
     "cell_type": "code",
     "collapsed": false,
     "input": [
      "def kmeans(X,k,tol,itermax):\n",
      "    minimum = X.min(axis = 0)\n",
      "    maximum = X.max(axis = 0)\n",
      "    cx = np.random.uniform(low=minimum[0], high=maximum[0],size=k)\n",
      "    cy = np.random.uniform(low=minimum[1], high=maximum[1],size=k)\n",
      "    C = np.array([cx,cy]).T\n",
      "    \n",
      "    iter = 0\n",
      "    err = tol\n",
      "    C0 = C.copy()\n",
      "    while (iter <= itermax) & (err >= tol):\n",
      "        D2 = DistSqr(X,C)\n",
      "        clusters = D2.argmin(axis=1)\n",
      "        for i in np.arange(k):\n",
      "            C[i,:] = X[clusters==i,:].mean(axis=0)\n",
      "        iter = iter + 1\n",
      "        err = np.abs(C - C0).max()\n",
      "        C0 = C.copy()\n",
      "    return clusters, iter"
     ],
     "language": "python",
     "metadata": {},
     "outputs": [],
     "prompt_number": 51
    },
    {
     "cell_type": "code",
     "collapsed": false,
     "input": [
      "X = np.random.rand(1000,2)\n",
      "k = 2\n",
      "tol = 100\n",
      "itermax = 100\n",
      "clusters , iter = kmeans(X,k,tol,itermax)\n",
      "print iter\n",
      "pl.scatter(X[:,0],X[:,1], c = clusters, s=100)\n",
      "pl.show"
     ],
     "language": "python",
     "metadata": {},
     "outputs": [
      {
       "output_type": "stream",
       "stream": "stdout",
       "text": [
        "1\n"
       ]
      },
      {
       "metadata": {},
       "output_type": "pyout",
       "prompt_number": 53,
       "text": [
        "<function matplotlib.pyplot.show>"
       ]
      }
     ],
     "prompt_number": 53
    },
    {
     "cell_type": "code",
     "collapsed": false,
     "input": [],
     "language": "python",
     "metadata": {},
     "outputs": [],
     "prompt_number": 18
    }
   ],
   "metadata": {}
  }
 ]
}