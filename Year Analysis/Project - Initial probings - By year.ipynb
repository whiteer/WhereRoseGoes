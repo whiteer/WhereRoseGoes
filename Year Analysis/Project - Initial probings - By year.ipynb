{
 "metadata": {
  "name": "",
  "signature": "sha256:eb5a50eff4e4fce780762c7c70ed96e95bab4dc8e3ee831f5ce22c7b58b5bd4e"
 },
 "nbformat": 3,
 "nbformat_minor": 0,
 "worksheets": [
  {
   "cells": [
    {
     "cell_type": "code",
     "collapsed": false,
     "input": [
      "cd ../../../../../Google Drive/My Media/General/Education/Rose-Hulman/2013 - 2014 School year/11) Winter 2013-2014/CSSE 490/Project/Rose-Hulman Brain Drain/Brain Drain with years"
     ],
     "language": "python",
     "metadata": {},
     "outputs": [
      {
       "output_type": "stream",
       "stream": "stdout",
       "text": [
        "C:\\Users\\whiteer\\Google Drive\\My Media\\General\\Education\\Rose-Hulman\\2013 - 2014 School year\\11) Winter 2013-2014\\CSSE 490\\Project\\Rose-Hulman Brain Drain\\Brain Drain with years\n"
       ]
      }
     ],
     "prompt_number": 7
    },
    {
     "cell_type": "code",
     "collapsed": false,
     "input": [
      "import pandas as pd\n",
      "import numpy as np\n",
      "import pylab as pl\n",
      "import urllib2\n",
      "import time\n",
      "import matplotlib.pyplot as plt\n",
      "from mpl_toolkits.basemap import Basemap\n",
      "import vincent\n",
      "import seaborn as sns\n",
      "import json\n",
      "from math import radians, cos, sin, asin, sqrt, atan2, degrees\n",
      "from scipy import stats\n",
      "from mpl_toolkits.basemap import Basemap\n",
      "from mpl_toolkits.mplot3d.axes3d import Axes3D"
     ],
     "language": "python",
     "metadata": {},
     "outputs": [],
     "prompt_number": 79
    },
    {
     "cell_type": "code",
     "collapsed": false,
     "input": [
      "%pylab --no-import-all\n",
      "%pylab inline\n",
      "pylab.rcParams['figure.figsize'] = 16, 12"
     ],
     "language": "python",
     "metadata": {},
     "outputs": [
      {
       "output_type": "stream",
       "stream": "stdout",
       "text": [
        "Using matplotlib backend: Qt4Agg\n",
        "Populating the interactive namespace from numpy and matplotlib\n",
        "Populating the interactive namespace from numpy and matplotlib\n"
       ]
      }
     ],
     "prompt_number": 10
    },
    {
     "cell_type": "code",
     "collapsed": false,
     "input": [
      "def strip(inputString):\n",
      "    if inputString == \"\" | inputString.upper() == 'Na':\n",
      "        return np.NAN\n",
      "    return inputString.strip().replace(\"-\", \" \")\n",
      "\n",
      "def stripAndUpperCase(inputString):\n",
      "    if inputString == \"\":\n",
      "        return np.NAN\n",
      "    return inputString.strip().replace(\"-\", \" \").upper()\n",
      "\n",
      "def stripAndUpperCaseRemoveSlash(inputString):\n",
      "    if inputString == \"\":\n",
      "        return np.NAN\n",
      "    return inputString.strip().replace(\"/\", \" \").upper()\n",
      "\n",
      "def stripAndTitle(inputString):\n",
      "    if inputString == \"\":\n",
      "        return np.NAN\n",
      "    return inputString.strip().replace(\"-\", \" \").title()"
     ],
     "language": "python",
     "metadata": {},
     "outputs": [],
     "prompt_number": 11
    },
    {
     "cell_type": "code",
     "collapsed": false,
     "input": [
      "data = pd.read_csv('5 Year Hiring History - Salary With Years.csv', header = 0, names = ['City', 'State','Major','Salary', 'Year'], converters = {'City' : stripAndTitle, 'State' : stripAndUpperCase, 'Major' : stripAndUpperCaseRemoveSlash})"
     ],
     "language": "python",
     "metadata": {},
     "outputs": [],
     "prompt_number": 12
    },
    {
     "cell_type": "code",
     "collapsed": false,
     "input": [
      "data.City = data.City.map(lambda city: 'Annapolis Junction' if (city == 'Annapolis J') | (city == 'Annapolis Junction,') else city)\n",
      "data.City = data.City.map(lambda city: 'Cannonsburg' if (city == 'Cannonsbrug') else city)\n",
      "data.City = data.City.map(lambda city: 'Chattanooga' if (city == 'Chatanooga') else city)\n",
      "data.City = data.City.map(lambda city: 'Cincinnati' if (city == 'Cincinatti') else city)\n",
      "data.City = data.City.map(lambda city: 'Colorado Springs' if (city == 'Colorado Srings') else city)\n",
      "data.City = data.City.map(lambda city: 'Crawfordsville' if (city == 'Crawforsville') else city)\n",
      "data.City = data.City.map(lambda city: 'Deer Park' if (city == 'Deer Park,') else city)\n",
      "data.City = data.City.map(lambda city: 'Ellicott City' if (city == 'Ellicot City') else city)\n",
      "data.City = data.City.map(lambda city: 'Fairfax' if (city == 'Farifax') else city)\n",
      "data.City = data.City.map(lambda city: 'Fort Meade' if (city == 'Fort Mead') | (city == 'Ft. Meade') else city)\n",
      "data.City = data.City.map(lambda city: 'Houston' if (city == 'Hoston') else city)\n",
      "data.City = data.City.map(lambda city: 'Fort Wayne' if (city == 'Ft. Wayne') else city)\n",
      "data.City = data.City.map(lambda city: 'Indianapolis' if (city == 'Inidianapolis') else city)\n",
      "data.City = data.City.map(lambda city: 'Lafayette' if (city == 'Layfayette') else city)\n",
      "data.City = data.City.map(lambda city: 'Mount Vernon' if (city == 'Mt. Vernon') else city)\n",
      "data.City = data.City.map(lambda city: 'Muncie' if (city == 'Muncy') else city)\n",
      "data.City = data.City.map(lambda city: 'Orlando' if (city == 'Orlanda') else city)\n",
      "data.City = data.City.map(lambda city: 'Osh Kosh' if (city == 'Oshkosh') else city)\n",
      "data.City = data.City.map(lambda city: 'Prudhoe Bay' if (city == 'Prudoebay') else city)\n",
      "data.City = data.City.map(lambda city: 'San Antonio' if (city == \"San Antonio'\") else city)\n",
      "data.City = data.City.map(lambda city: 'Seattle' if (city == \"Seatlle\") else city)\n",
      "data.City = data.City.map(lambda city: 'Seymour' if (city == \"Semour\") else city)\n",
      "data.City = data.City.map(lambda city: 'Spartanburg' if (city == \"Spartenburg\") else city)\n",
      "data.City = data.City.map(lambda city: 'Virginia Beach' if (city == \"Virgina Beach\") else city)\n",
      "data.City = data.City.map(lambda city: 'West Lafayette' if (city == \"West Lafayette,\") else city)\n",
      "data.City = data.City.map(lambda city: \"Steven's Point\" if (city == \"Steven\\x92S Point,\") else city)\n",
      "data.City = data.City.map(lambda city: \"Tucson\" if (city == \"Tuczon\") else city)\n",
      "data.City = data.City.map(lambda city: \"Kokomo\" if (city == 'Kokoma') else city)\n"
     ],
     "language": "python",
     "metadata": {},
     "outputs": [],
     "prompt_number": 16
    },
    {
     "cell_type": "code",
     "collapsed": false,
     "input": [
      "data = data.dropna()\n",
      "data.index.names = [None]\n",
      "data.index = np.arange(len(data))"
     ],
     "language": "python",
     "metadata": {},
     "outputs": [],
     "prompt_number": 17
    },
    {
     "cell_type": "code",
     "collapsed": false,
     "input": [
      "data['CityState'] = data[['City','State']].apply(tuple, axis = 1)"
     ],
     "language": "python",
     "metadata": {},
     "outputs": [],
     "prompt_number": 18
    },
    {
     "cell_type": "code",
     "collapsed": false,
     "input": [
      "uniqueCityState = data.CityState.unique()"
     ],
     "language": "python",
     "metadata": {},
     "outputs": [],
     "prompt_number": 19
    },
    {
     "cell_type": "code",
     "collapsed": false,
     "input": [
      "def getGeoCoordinates((City, State)):\n",
      "    replaceString = \"http://maps.googleapis.com/maps/api/geocode/json?address=+REPLACEMECITY,+REPLACEMESTATE&sensor=false\"    \n",
      "    replaceString = replaceString.replace(\"REPLACEMECITY\", City.replace(\" \", \"+\"))\n",
      "    replaceString = replaceString.replace(\"REPLACEMESTATE\", State)\n",
      "    XMLstream = urllib2.urlopen(replaceString).read()\n",
      "    \n",
      "    Location_Index = XMLstream.find(\"location\")\n",
      "    lat = float(XMLstream[XMLstream.find(\"lat\\\" : \",Location_Index) + 7:XMLstream.find(\",\",Location_Index)])\n",
      "    lng = float(XMLstream[XMLstream.find(\"lng\\\" : \",Location_Index) + 7:XMLstream.find(\"\\n\",XMLstream.find(\"lng\\\" : \",Location_Index))])\n",
      "    \n",
      "    County_Index = XMLstream.rfind(\"short_name\",0,XMLstream.find(\"administrative_area_level_2\")) + 15\n",
      "    County = XMLstream[County_Index: XMLstream.find(\"\\n\",County_Index)  - 2]\n",
      "    if \" County\" in County:\n",
      "        County = County[0: County.find(\" County\")]\n",
      "    \n",
      "    time.sleep(.5)\n",
      "    return {(City, State): (lat,lng, County)}"
     ],
     "language": "python",
     "metadata": {},
     "outputs": [],
     "prompt_number": 20
    },
    {
     "cell_type": "code",
     "collapsed": false,
     "input": [
      "dictionary_Lats_Longs = np.vectorize(getGeoCoordinates)(uniqueCityState)"
     ],
     "language": "python",
     "metadata": {},
     "outputs": [],
     "prompt_number": 21
    },
    {
     "cell_type": "code",
     "collapsed": false,
     "input": [
      "Dictionary_Lats_Longs = {}\n",
      "for i in range(dictionary_Lats_Longs.size):\n",
      "    for key in dictionary_Lats_Longs[i]:\n",
      "        Dictionary_Lats_Longs[key] = []\n",
      "        Dictionary_Lats_Longs[key].extend(dictionary_Lats_Longs[i][key])"
     ],
     "language": "python",
     "metadata": {},
     "outputs": [],
     "prompt_number": 22
    },
    {
     "cell_type": "code",
     "collapsed": false,
     "input": [
      "def assign_coordinates((City, State)):\n",
      "    return Dictionary_Lats_Longs[(City, State)][0], Dictionary_Lats_Longs[(City, State)][1], Dictionary_Lats_Longs[(City, State)][2]"
     ],
     "language": "python",
     "metadata": {},
     "outputs": [],
     "prompt_number": 23
    },
    {
     "cell_type": "code",
     "collapsed": false,
     "input": [
      "data['lats'], data['lons'], data['County']  = zip(*data.CityState.map(assign_coordinates))"
     ],
     "language": "python",
     "metadata": {},
     "outputs": [],
     "prompt_number": 24
    },
    {
     "cell_type": "code",
     "collapsed": false,
     "input": [
      "data.to_csv('NewestVersionOfSalaryYearsDataAndLatsLons.csv')"
     ],
     "language": "python",
     "metadata": {},
     "outputs": [],
     "prompt_number": 25
    },
    {
     "cell_type": "code",
     "collapsed": false,
     "input": [
      "RoseHulmanLat = 39.4798449\n",
      "RoseHulmanLon = -87.3307898"
     ],
     "language": "python",
     "metadata": {},
     "outputs": [],
     "prompt_number": 26
    },
    {
     "cell_type": "code",
     "collapsed": false,
     "input": [
      "def haversine(lon2, lat2):\n",
      "    \"\"\"\n",
      "    Calculate the great circle distance between two points \n",
      "    on the earth (specified in decimal degrees)\n",
      "    \"\"\"\n",
      "    lat1 = RoseHulmanLat\n",
      "    lon1 = RoseHulmanLon\n",
      "    # convert decimal degrees to radians \n",
      "    lon1, lat1, lon2, lat2 = map(radians, [lon1, lat1, lon2, lat2])\n",
      "\n",
      "    # haversine formula \n",
      "    dlon = lon2 - lon1 \n",
      "    dlat = lat2 - lat1 \n",
      "    a = sin(dlat/2)**2 + cos(lat1) * cos(lat2) * sin(dlon/2)**2\n",
      "    c = 2 * asin(sqrt(a)) \n",
      "\n",
      "    # 6367 km is the radius of the Earth, .621371 miles in a km\n",
      "    miles = 0.621371 * 6367 * c\n",
      "    \n",
      "    \n",
      "    Bearing = atan2(cos(lat1)*sin(lat2)-sin(lat1)*cos(lat2)*cos(lon2-lon1), sin(lon2-lon1)*cos(lat2))\n",
      "    return miles, degrees(Bearing)"
     ],
     "language": "python",
     "metadata": {},
     "outputs": [],
     "prompt_number": 27
    },
    {
     "cell_type": "code",
     "collapsed": false,
     "input": [
      "data['DistFromRoseHulman'], data['BearingFromRoseHulman'] = np.vectorize(haversine)(data['lons'],lat2 = data['lats'])"
     ],
     "language": "python",
     "metadata": {},
     "outputs": [],
     "prompt_number": 28
    },
    {
     "cell_type": "code",
     "collapsed": false,
     "input": [
      "data.to_csv('Newest_Vers_Of_Salary_Years_Data_And_Dist_Bear.csv')"
     ],
     "language": "python",
     "metadata": {},
     "outputs": [],
     "prompt_number": 29
    },
    {
     "cell_type": "code",
     "collapsed": false,
     "input": [
      "data.head()"
     ],
     "language": "python",
     "metadata": {},
     "outputs": [
      {
       "html": [
        "<div style=\"max-height:1000px;max-width:1500px;overflow:auto;\">\n",
        "<table border=\"1\" class=\"dataframe\">\n",
        "  <thead>\n",
        "    <tr style=\"text-align: right;\">\n",
        "      <th></th>\n",
        "      <th>City</th>\n",
        "      <th>State</th>\n",
        "      <th>Major</th>\n",
        "      <th>Salary</th>\n",
        "      <th>Year</th>\n",
        "      <th>CityState</th>\n",
        "      <th>lats</th>\n",
        "      <th>lons</th>\n",
        "      <th>County</th>\n",
        "      <th>DistFromRoseHulman</th>\n",
        "      <th>BearingFromRoseHulman</th>\n",
        "    </tr>\n",
        "  </thead>\n",
        "  <tbody>\n",
        "    <tr>\n",
        "      <th>0</th>\n",
        "      <td>     Rockford</td>\n",
        "      <td> IL</td>\n",
        "      <td>  ME</td>\n",
        "      <td> 55000</td>\n",
        "      <td> 2013</td>\n",
        "      <td>     (Rockford, IL)</td>\n",
        "      <td> 42.271131</td>\n",
        "      <td>-89.093995</td>\n",
        "      <td> Winnebago</td>\n",
        "      <td> 213.581457</td>\n",
        "      <td> 114.957648</td>\n",
        "    </tr>\n",
        "    <tr>\n",
        "      <th>1</th>\n",
        "      <td> Indianapolis</td>\n",
        "      <td> IN</td>\n",
        "      <td> CHE</td>\n",
        "      <td> 58000</td>\n",
        "      <td> 2013</td>\n",
        "      <td> (Indianapolis, IN)</td>\n",
        "      <td> 39.768403</td>\n",
        "      <td>-86.158068</td>\n",
        "      <td>    Marion</td>\n",
        "      <td>  65.476254</td>\n",
        "      <td>  18.089697</td>\n",
        "    </tr>\n",
        "    <tr>\n",
        "      <th>2</th>\n",
        "      <td> Indianapolis</td>\n",
        "      <td> IN</td>\n",
        "      <td>  EE</td>\n",
        "      <td> 58000</td>\n",
        "      <td> 2013</td>\n",
        "      <td> (Indianapolis, IN)</td>\n",
        "      <td> 39.768403</td>\n",
        "      <td>-86.158068</td>\n",
        "      <td>    Marion</td>\n",
        "      <td>  65.476254</td>\n",
        "      <td>  18.089697</td>\n",
        "    </tr>\n",
        "    <tr>\n",
        "      <th>3</th>\n",
        "      <td>      Clinton</td>\n",
        "      <td> IA</td>\n",
        "      <td> CHE</td>\n",
        "      <td> 63000</td>\n",
        "      <td> 2013</td>\n",
        "      <td>      (Clinton, IA)</td>\n",
        "      <td> 41.844473</td>\n",
        "      <td>-90.188738</td>\n",
        "      <td>   Clinton</td>\n",
        "      <td> 221.486386</td>\n",
        "      <td> 131.591741</td>\n",
        "    </tr>\n",
        "    <tr>\n",
        "      <th>4</th>\n",
        "      <td>      Decatur</td>\n",
        "      <td> IL</td>\n",
        "      <td> CHE</td>\n",
        "      <td> 63100</td>\n",
        "      <td> 2013</td>\n",
        "      <td>      (Decatur, IL)</td>\n",
        "      <td> 39.840315</td>\n",
        "      <td>-88.954800</td>\n",
        "      <td>     Macon</td>\n",
        "      <td>  89.843696</td>\n",
        "      <td> 163.399363</td>\n",
        "    </tr>\n",
        "  </tbody>\n",
        "</table>\n",
        "<p>5 rows \u00d7 11 columns</p>\n",
        "</div>"
       ],
       "metadata": {},
       "output_type": "pyout",
       "prompt_number": 30,
       "text": [
        "           City State Major  Salary  Year           CityState       lats  \\\n",
        "0      Rockford    IL    ME   55000  2013      (Rockford, IL)  42.271131   \n",
        "1  Indianapolis    IN   CHE   58000  2013  (Indianapolis, IN)  39.768403   \n",
        "2  Indianapolis    IN    EE   58000  2013  (Indianapolis, IN)  39.768403   \n",
        "3       Clinton    IA   CHE   63000  2013       (Clinton, IA)  41.844473   \n",
        "4       Decatur    IL   CHE   63100  2013       (Decatur, IL)  39.840315   \n",
        "\n",
        "        lons     County  DistFromRoseHulman  BearingFromRoseHulman  \n",
        "0 -89.093995  Winnebago          213.581457             114.957648  \n",
        "1 -86.158068     Marion           65.476254              18.089697  \n",
        "2 -86.158068     Marion           65.476254              18.089697  \n",
        "3 -90.188738    Clinton          221.486386             131.591741  \n",
        "4 -88.954800      Macon           89.843696             163.399363  \n",
        "\n",
        "[5 rows x 11 columns]"
       ]
      }
     ],
     "prompt_number": 30
    },
    {
     "cell_type": "code",
     "collapsed": false,
     "input": [
      "data_trimmed = data.sort(\"DistFromRoseHulman\").iloc[:-5]\n",
      "data_trimmed.index.names = [None]\n",
      "data_trimmed.index = np.arange(len(data_trimmed))"
     ],
     "language": "python",
     "metadata": {},
     "outputs": [],
     "prompt_number": 31
    },
    {
     "cell_type": "code",
     "collapsed": false,
     "input": [
      "data_trimmed.to_csv('Newest_No_Outliers_Years_Salary.csv')"
     ],
     "language": "python",
     "metadata": {},
     "outputs": [],
     "prompt_number": 32
    },
    {
     "cell_type": "code",
     "collapsed": false,
     "input": [
      "data = pd.read_csv('Newest_No_Outliers_Years_Salary.csv', header = 0).drop(['Unnamed: 0'], axis = 1)"
     ],
     "language": "python",
     "metadata": {},
     "outputs": [],
     "prompt_number": 34
    },
    {
     "cell_type": "code",
     "collapsed": false,
     "input": [
      "data.head()"
     ],
     "language": "python",
     "metadata": {},
     "outputs": [
      {
       "html": [
        "<div style=\"max-height:1000px;max-width:1500px;overflow:auto;\">\n",
        "<table border=\"1\" class=\"dataframe\">\n",
        "  <thead>\n",
        "    <tr style=\"text-align: right;\">\n",
        "      <th></th>\n",
        "      <th>City</th>\n",
        "      <th>State</th>\n",
        "      <th>Major</th>\n",
        "      <th>Salary</th>\n",
        "      <th>Year</th>\n",
        "      <th>CityState</th>\n",
        "      <th>lats</th>\n",
        "      <th>lons</th>\n",
        "      <th>County</th>\n",
        "      <th>DistFromRoseHulman</th>\n",
        "      <th>BearingFromRoseHulman</th>\n",
        "    </tr>\n",
        "  </thead>\n",
        "  <tbody>\n",
        "    <tr>\n",
        "      <th>0</th>\n",
        "      <td> Terre Haute</td>\n",
        "      <td> IN</td>\n",
        "      <td>  ME</td>\n",
        "      <td> 60000</td>\n",
        "      <td> 2012</td>\n",
        "      <td> ('Terre Haute', 'IN')</td>\n",
        "      <td> 39.466703</td>\n",
        "      <td>-87.413909</td>\n",
        "      <td> Vigo</td>\n",
        "      <td> 4.522329</td>\n",
        "      <td>-168.451266</td>\n",
        "    </tr>\n",
        "    <tr>\n",
        "      <th>1</th>\n",
        "      <td> Terre Haute</td>\n",
        "      <td> IN</td>\n",
        "      <td> CPE</td>\n",
        "      <td> 48000</td>\n",
        "      <td> 2009</td>\n",
        "      <td> ('Terre Haute', 'IN')</td>\n",
        "      <td> 39.466703</td>\n",
        "      <td>-87.413909</td>\n",
        "      <td> Vigo</td>\n",
        "      <td> 4.522329</td>\n",
        "      <td>-168.451266</td>\n",
        "    </tr>\n",
        "    <tr>\n",
        "      <th>2</th>\n",
        "      <td> Terre Haute</td>\n",
        "      <td> IN</td>\n",
        "      <td> CHE</td>\n",
        "      <td> 75000</td>\n",
        "      <td> 2013</td>\n",
        "      <td> ('Terre Haute', 'IN')</td>\n",
        "      <td> 39.466703</td>\n",
        "      <td>-87.413909</td>\n",
        "      <td> Vigo</td>\n",
        "      <td> 4.522329</td>\n",
        "      <td>-168.451266</td>\n",
        "    </tr>\n",
        "    <tr>\n",
        "      <th>3</th>\n",
        "      <td> Terre Haute</td>\n",
        "      <td> IN</td>\n",
        "      <td> CHE</td>\n",
        "      <td> 74000</td>\n",
        "      <td> 2013</td>\n",
        "      <td> ('Terre Haute', 'IN')</td>\n",
        "      <td> 39.466703</td>\n",
        "      <td>-87.413909</td>\n",
        "      <td> Vigo</td>\n",
        "      <td> 4.522329</td>\n",
        "      <td>-168.451266</td>\n",
        "    </tr>\n",
        "    <tr>\n",
        "      <th>4</th>\n",
        "      <td> Terre Haute</td>\n",
        "      <td> IN</td>\n",
        "      <td>  CE</td>\n",
        "      <td> 48000</td>\n",
        "      <td> 2009</td>\n",
        "      <td> ('Terre Haute', 'IN')</td>\n",
        "      <td> 39.466703</td>\n",
        "      <td>-87.413909</td>\n",
        "      <td> Vigo</td>\n",
        "      <td> 4.522329</td>\n",
        "      <td>-168.451266</td>\n",
        "    </tr>\n",
        "  </tbody>\n",
        "</table>\n",
        "<p>5 rows \u00d7 11 columns</p>\n",
        "</div>"
       ],
       "metadata": {},
       "output_type": "pyout",
       "prompt_number": 35,
       "text": [
        "          City State Major  Salary  Year              CityState       lats  \\\n",
        "0  Terre Haute    IN    ME   60000  2012  ('Terre Haute', 'IN')  39.466703   \n",
        "1  Terre Haute    IN   CPE   48000  2009  ('Terre Haute', 'IN')  39.466703   \n",
        "2  Terre Haute    IN   CHE   75000  2013  ('Terre Haute', 'IN')  39.466703   \n",
        "3  Terre Haute    IN   CHE   74000  2013  ('Terre Haute', 'IN')  39.466703   \n",
        "4  Terre Haute    IN    CE   48000  2009  ('Terre Haute', 'IN')  39.466703   \n",
        "\n",
        "        lons County  DistFromRoseHulman  BearingFromRoseHulman  \n",
        "0 -87.413909   Vigo            4.522329            -168.451266  \n",
        "1 -87.413909   Vigo            4.522329            -168.451266  \n",
        "2 -87.413909   Vigo            4.522329            -168.451266  \n",
        "3 -87.413909   Vigo            4.522329            -168.451266  \n",
        "4 -87.413909   Vigo            4.522329            -168.451266  \n",
        "\n",
        "[5 rows x 11 columns]"
       ]
      }
     ],
     "prompt_number": 35
    },
    {
     "cell_type": "code",
     "collapsed": false,
     "input": [
      "scatter(data_trimmed.DistFromRoseHulman,data_trimmed.Salary)"
     ],
     "language": "python",
     "metadata": {},
     "outputs": [
      {
       "metadata": {},
       "output_type": "pyout",
       "prompt_number": 36,
       "text": [
        "<matplotlib.collections.PathCollection at 0x14b5d128>"
       ]
      },
      {
       "metadata": {},
       "output_type": "display_data",
       "png": "[encoded data removed]",
       "text": [
        "<matplotlib.figure.Figure at 0x149a1550>"
       ]
      }
     ],
     "prompt_number": 36
    },
    {
     "cell_type": "code",
     "collapsed": false,
     "input": [
      "data_EE = pd.DataFrame(data[data.Major.str.contains('EE')])\n",
      "data_EE.index.names = [None]\n",
      "data_EE.index = np.arange(len(data_EE))\n",
      "data_EE.Major = data_EE.Major.map(lambda s: 'EE')\n",
      "\n",
      "data_CS = pd.DataFrame(data[data.Major.str.contains('CS')])\n",
      "data_CS.index.names = [None]\n",
      "data_CS.index = np.arange(len(data_CS))\n",
      "data_CS.Major = data_CS.Major.map(lambda s: 'CS')\n",
      "\n",
      "data_ME = pd.DataFrame(data[data.Major.str.contains('ME')])\n",
      "data_ME.index.names = [None]\n",
      "data_ME.index = np.arange(len(data_ME))\n",
      "data_ME.Major = data_ME.Major.map(lambda s: 'ME')\n",
      "\n",
      "data_CHE = pd.DataFrame(data[data.Major.str.contains(\"CHE\")])\n",
      "data_CHE = pd.DataFrame(data_CHE[data.Major != 'CHEM'])\n",
      "data_CHE.index.names = [None]\n",
      "data_CHE.index = np.arange(len(data_CHE))\n",
      "data_CHE.Major = data_CHE.Major.map(lambda s: 'CHE')\n",
      "\n",
      "data_SE = pd.DataFrame(data[data.Major.str.contains('SE')])\n",
      "data_SE.index.names = [None]\n",
      "data_SE.index = np.arange(len(data_SE))\n",
      "data_SE.Major = data_SE.Major.map(lambda s: 'SE')\n",
      "\n",
      "data_CPE = pd.DataFrame(data[data.Major.str.contains('CPE')])\n",
      "data_CPE.index.names = [None]\n",
      "data_CPE.index = np.arange(len(data_CPE))\n",
      "data_CPE.Major = data_CPE.Major.map(lambda s: 'CPE')\n",
      "\n",
      "data_CHEM = pd.DataFrame(data[data.Major.str.contains(\"CHEM\")])\n",
      "data_CHEM.index.names = [None]\n",
      "data_CHEM.index = np.arange(len(data_CHEM))\n",
      "data_CHEM.Major = data_CHEM.Major.map(lambda s: 'CHEM')\n",
      "\n",
      "data_CE1 = pd.DataFrame(data[data.Major.str.contains('CE')])\n",
      "data_CE2 = pd.DataFrame(data[data.Major.str.contains('CIVIL')])\n",
      "data_CE = pd.concat([data_CE1,data_CE2],ignore_index=True)\n",
      "data_CE.index.names = [None]\n",
      "data_CE.index = np.arange(len(data_CE))\n",
      "data_CE.Major = data_CE.Major.map(lambda s: 'CE')"
     ],
     "language": "python",
     "metadata": {},
     "outputs": [
      {
       "output_type": "stream",
       "stream": "stderr",
       "text": [
        "C:\\Users\\whiteer\\Anaconda\\lib\\site-packages\\pandas\\core\\frame.py:1686: UserWarning: Boolean Series key will be reindexed to match DataFrame index.\n",
        "  \"DataFrame index.\", UserWarning)\n"
       ]
      }
     ],
     "prompt_number": 57
    },
    {
     "cell_type": "code",
     "collapsed": false,
     "input": [
      "data_new = pd.concat([data_CE,data_CHE,data_CHEM,data_CPE,data_CS,data_EE,data_ME,data_SE], ignore_index=True)\n"
     ],
     "language": "python",
     "metadata": {},
     "outputs": [],
     "prompt_number": 58
    },
    {
     "cell_type": "code",
     "collapsed": false,
     "input": [
      "pd.crosstab(data_new.Major, data_new.Year)"
     ],
     "language": "python",
     "metadata": {},
     "outputs": [
      {
       "html": [
        "<div style=\"max-height:1000px;max-width:1500px;overflow:auto;\">\n",
        "<table border=\"1\" class=\"dataframe\">\n",
        "  <thead>\n",
        "    <tr style=\"text-align: right;\">\n",
        "      <th>Year</th>\n",
        "      <th>2009</th>\n",
        "      <th>2010</th>\n",
        "      <th>2011</th>\n",
        "      <th>2012</th>\n",
        "      <th>2013</th>\n",
        "    </tr>\n",
        "    <tr>\n",
        "      <th>Major</th>\n",
        "      <th></th>\n",
        "      <th></th>\n",
        "      <th></th>\n",
        "      <th></th>\n",
        "      <th></th>\n",
        "    </tr>\n",
        "  </thead>\n",
        "  <tbody>\n",
        "    <tr>\n",
        "      <th>CE</th>\n",
        "      <td> 18</td>\n",
        "      <td> 17</td>\n",
        "      <td>  5</td>\n",
        "      <td> 24</td>\n",
        "      <td> 23</td>\n",
        "    </tr>\n",
        "    <tr>\n",
        "      <th>CHE</th>\n",
        "      <td> 28</td>\n",
        "      <td> 27</td>\n",
        "      <td> 21</td>\n",
        "      <td> 42</td>\n",
        "      <td> 46</td>\n",
        "    </tr>\n",
        "    <tr>\n",
        "      <th>CHEM</th>\n",
        "      <td>  0</td>\n",
        "      <td>  0</td>\n",
        "      <td>  1</td>\n",
        "      <td>  2</td>\n",
        "      <td>  3</td>\n",
        "    </tr>\n",
        "    <tr>\n",
        "      <th>CPE</th>\n",
        "      <td> 31</td>\n",
        "      <td> 10</td>\n",
        "      <td> 14</td>\n",
        "      <td>  8</td>\n",
        "      <td> 18</td>\n",
        "    </tr>\n",
        "    <tr>\n",
        "      <th>CS</th>\n",
        "      <td>  8</td>\n",
        "      <td> 13</td>\n",
        "      <td> 12</td>\n",
        "      <td> 36</td>\n",
        "      <td> 38</td>\n",
        "    </tr>\n",
        "    <tr>\n",
        "      <th>EE</th>\n",
        "      <td> 25</td>\n",
        "      <td> 16</td>\n",
        "      <td> 18</td>\n",
        "      <td> 21</td>\n",
        "      <td> 51</td>\n",
        "    </tr>\n",
        "    <tr>\n",
        "      <th>ME</th>\n",
        "      <td> 62</td>\n",
        "      <td> 55</td>\n",
        "      <td> 67</td>\n",
        "      <td> 82</td>\n",
        "      <td> 82</td>\n",
        "    </tr>\n",
        "    <tr>\n",
        "      <th>SE</th>\n",
        "      <td> 14</td>\n",
        "      <td>  6</td>\n",
        "      <td> 20</td>\n",
        "      <td> 13</td>\n",
        "      <td> 18</td>\n",
        "    </tr>\n",
        "  </tbody>\n",
        "</table>\n",
        "<p>8 rows \u00d7 5 columns</p>\n",
        "</div>"
       ],
       "metadata": {},
       "output_type": "pyout",
       "prompt_number": 59,
       "text": [
        "Year   2009  2010  2011  2012  2013\n",
        "Major                              \n",
        "CE       18    17     5    24    23\n",
        "CHE      28    27    21    42    46\n",
        "CHEM      0     0     1     2     3\n",
        "CPE      31    10    14     8    18\n",
        "CS        8    13    12    36    38\n",
        "EE       25    16    18    21    51\n",
        "ME       62    55    67    82    82\n",
        "SE       14     6    20    13    18\n",
        "\n",
        "[8 rows x 5 columns]"
       ]
      }
     ],
     "prompt_number": 59
    },
    {
     "cell_type": "code",
     "collapsed": false,
     "input": [
      "pd.options.display.float_format = '{0:.0f}'.format\n",
      "pd.crosstab(data_new.Major, data_new.Year, values=data_new.DistFromRoseHulman, aggfunc=np.mean, dropna=True)"
     ],
     "language": "python",
     "metadata": {},
     "outputs": [
      {
       "html": [
        "<div style=\"max-height:1000px;max-width:1500px;overflow:auto;\">\n",
        "<table border=\"1\" class=\"dataframe\">\n",
        "  <thead>\n",
        "    <tr style=\"text-align: right;\">\n",
        "      <th>Year</th>\n",
        "      <th>2009</th>\n",
        "      <th>2010</th>\n",
        "      <th>2011</th>\n",
        "      <th>2012</th>\n",
        "      <th>2013</th>\n",
        "    </tr>\n",
        "    <tr>\n",
        "      <th>Major</th>\n",
        "      <th></th>\n",
        "      <th></th>\n",
        "      <th></th>\n",
        "      <th></th>\n",
        "      <th></th>\n",
        "    </tr>\n",
        "  </thead>\n",
        "  <tbody>\n",
        "    <tr>\n",
        "      <th>CE</th>\n",
        "      <td>499</td>\n",
        "      <td>249</td>\n",
        "      <td>584</td>\n",
        "      <td>342</td>\n",
        "      <td>467</td>\n",
        "    </tr>\n",
        "    <tr>\n",
        "      <th>CHE</th>\n",
        "      <td>331</td>\n",
        "      <td>378</td>\n",
        "      <td>257</td>\n",
        "      <td>478</td>\n",
        "      <td>338</td>\n",
        "    </tr>\n",
        "    <tr>\n",
        "      <th>CHEM</th>\n",
        "      <td>nan</td>\n",
        "      <td>nan</td>\n",
        "      <td>153</td>\n",
        "      <td>127</td>\n",
        "      <td>121</td>\n",
        "    </tr>\n",
        "    <tr>\n",
        "      <th>CPE</th>\n",
        "      <td>452</td>\n",
        "      <td>674</td>\n",
        "      <td>377</td>\n",
        "      <td>572</td>\n",
        "      <td>441</td>\n",
        "    </tr>\n",
        "    <tr>\n",
        "      <th>CS</th>\n",
        "      <td>157</td>\n",
        "      <td>365</td>\n",
        "      <td>546</td>\n",
        "      <td>774</td>\n",
        "      <td>711</td>\n",
        "    </tr>\n",
        "    <tr>\n",
        "      <th>EE</th>\n",
        "      <td>422</td>\n",
        "      <td>653</td>\n",
        "      <td>548</td>\n",
        "      <td>253</td>\n",
        "      <td>596</td>\n",
        "    </tr>\n",
        "    <tr>\n",
        "      <th>ME</th>\n",
        "      <td>457</td>\n",
        "      <td>358</td>\n",
        "      <td>266</td>\n",
        "      <td>265</td>\n",
        "      <td>314</td>\n",
        "    </tr>\n",
        "    <tr>\n",
        "      <th>SE</th>\n",
        "      <td>302</td>\n",
        "      <td>248</td>\n",
        "      <td>486</td>\n",
        "      <td>471</td>\n",
        "      <td>476</td>\n",
        "    </tr>\n",
        "  </tbody>\n",
        "</table>\n",
        "<p>8 rows \u00d7 5 columns</p>\n",
        "</div>"
       ],
       "metadata": {},
       "output_type": "pyout",
       "prompt_number": 76,
       "text": [
        "Year   2009  2010  2011  2012  2013\n",
        "Major                              \n",
        "CE      499   249   584   342   467\n",
        "CHE     331   378   257   478   338\n",
        "CHEM    nan   nan   153   127   121\n",
        "CPE     452   674   377   572   441\n",
        "CS      157   365   546   774   711\n",
        "EE      422   653   548   253   596\n",
        "ME      457   358   266   265   314\n",
        "SE      302   248   486   471   476\n",
        "\n",
        "[8 rows x 5 columns]"
       ]
      }
     ],
     "prompt_number": 76
    },
    {
     "cell_type": "code",
     "collapsed": false,
     "input": [
      "Means = pd.crosstab(data_new.Major, data_new.Year, values=data_new.DistFromRoseHulman, aggfunc=np.mean, dropna=True)\n",
      "Medians = pd.crosstab(data_new.Major, data_new.Year, values=data_new.DistFromRoseHulman, aggfunc=np.median, dropna=True)\n",
      "Counts = pd.crosstab(data_new.Major, data_new.Year)"
     ],
     "language": "python",
     "metadata": {},
     "outputs": [],
     "prompt_number": 132
    },
    {
     "cell_type": "code",
     "collapsed": false,
     "input": [
      "import plotly"
     ],
     "language": "python",
     "metadata": {},
     "outputs": [],
     "prompt_number": 101
    },
    {
     "cell_type": "code",
     "collapsed": false,
     "input": [
      "py = plotly.plotly('IPython.Demo', '1fw3zw2o13')"
     ],
     "language": "python",
     "metadata": {},
     "outputs": [],
     "prompt_number": 102
    },
    {
     "cell_type": "code",
     "collapsed": false,
     "input": [
      "scl=[[0,\"rgb(255,247,251)\"],[0.15,\"rgb(236,226,240)\"],[0.3,\"rgb(208,209,230)\"],\n",
      "    [0.4,\"rgb(166,189,219)\"],[0.5,\"rgb(103,169,207)\"],[0.6,\"rgb(54,144,192)\"],\n",
      "    [0.7,\"rgb(2,129,138)\"],[0.85,\"rgb(1,108,89)\"],[1,\"rgb(1,70,54)\"]]"
     ],
     "language": "python",
     "metadata": {},
     "outputs": [],
     "prompt_number": 103
    },
    {
     "cell_type": "code",
     "collapsed": false,
     "input": [
      "Heatmap1 = {'x': ['2009', '2010', '2011', '2012', '2013'],'y': ['CE', 'CHE', 'CHEM', 'CPE', 'CS', 'EE', 'ME', 'SE'],'z': Means.values , 'scl':scl,'type': 'heatmap', 'text':Text}"
     ],
     "language": "python",
     "metadata": {},
     "outputs": [],
     "prompt_number": 135
    },
    {
     "cell_type": "code",
     "collapsed": false,
     "input": [
      "layout = { 'showlegend':False, 'width':1000, 'height': 700, 'hovermode':'closest',\\\n",
      "          'title':'drag to zoom-in; double-click to zoom-out<br>shift-drag to pan' }\n",
      "py.iplot(Heatmap1,layout=layout,width=1050,height=750)"
     ],
     "language": "python",
     "metadata": {},
     "outputs": [
      {
       "html": [
        "<iframe height=\"775\" id=\"igraph\" scrolling=\"no\" seamless=\"seamless\" src=\"https://plot.ly/~IPython.Demo/2597/1050/750\" width=\"1075\"></iframe>"
       ],
       "metadata": {},
       "output_type": "pyout",
       "prompt_number": 136,
       "text": [
        "<IPython.core.display.HTML at 0x1818fa90>"
       ]
      }
     ],
     "prompt_number": 136
    },
    {
     "cell_type": "code",
     "collapsed": false,
     "input": [
      "Heatmap2 = {'x': ['2009', '2010', '2011', '2012', '2013'],'y': ['CE', 'CHE', 'CHEM', 'CPE', 'CS', 'EE', 'ME', 'SE'],'z': Medians.values , 'scl':scl,'type': 'heatmap', 'text':Text}\n",
      "py.iplot(Heatmap2, layout=layout, width=1050, height=750)"
     ],
     "language": "python",
     "metadata": {},
     "outputs": [
      {
       "html": [
        "<iframe height=\"775\" id=\"igraph\" scrolling=\"no\" seamless=\"seamless\" src=\"https://plot.ly/~IPython.Demo/2598/1050/750\" width=\"1075\"></iframe>"
       ],
       "metadata": {},
       "output_type": "pyout",
       "prompt_number": 137,
       "text": [
        "<IPython.core.display.HTML at 0x14b76898>"
       ]
      }
     ],
     "prompt_number": 137
    },
    {
     "cell_type": "code",
     "collapsed": false,
     "input": [],
     "language": "python",
     "metadata": {},
     "outputs": []
    }
   ],
   "metadata": {}
  }
 ]
}