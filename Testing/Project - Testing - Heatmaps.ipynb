{
 "metadata": {
  "name": ""
 },
 "nbformat": 3,
 "nbformat_minor": 0,
 "worksheets": [
  {
   "cells": [
    {
     "cell_type": "code",
     "collapsed": false,
     "input": [],
     "language": "python",
     "metadata": {},
     "outputs": [
      {
       "ename": "SyntaxError",
       "evalue": "invalid syntax (<ipython-input-1-2c6098060c99>, line 1)",
       "output_type": "pyerr",
       "traceback": [
        "\u001b[1;36m  File \u001b[1;32m\"<ipython-input-1-2c6098060c99>\"\u001b[1;36m, line \u001b[1;32m1\u001b[0m\n\u001b[1;33m    \"metadata\": {\u001b[0m\n\u001b[1;37m              ^\u001b[0m\n\u001b[1;31mSyntaxError\u001b[0m\u001b[1;31m:\u001b[0m invalid syntax\n"
       ]
      }
     ],
     "prompt_number": 1
    },
    {
     "cell_type": "code",
     "collapsed": false,
     "input": [
      "import pylab as pl\n",
      "import numpy as np\n",
      "import scipy.ndimage\n",
      "import scipy.spatial"
     ],
     "language": "python",
     "metadata": {},
     "outputs": [],
     "prompt_number": 1
    },
    {
     "cell_type": "markdown",
     "metadata": {},
     "source": [
      "Make 50 random points with X and Y coordinates from 0 to 256."
     ]
    },
    {
     "cell_type": "code",
     "collapsed": false,
     "input": [
      "pointCount = 50\n",
      "points = np.random.rand(pointCount, 2) * 256\n",
      "points[:3]"
     ],
     "language": "python",
     "metadata": {},
     "outputs": [
      {
       "metadata": {},
       "output_type": "pyout",
       "prompt_number": 2,
       "text": [
        "array([[ 133.10569463,  135.58470997],\n",
        "       [ 234.58227585,  103.74047083],\n",
        "       [ 196.79719791,  130.31529511]])"
       ]
      }
     ],
     "prompt_number": 2
    },
    {
     "cell_type": "markdown",
     "metadata": {},
     "source": [
      "Make a scatter plot of the 50 random points."
     ]
    },
    {
     "cell_type": "code",
     "collapsed": false,
     "input": [
      "values = np.random.rand(pointCount) * 300\n",
      "pl.scatter(points[:, 0], points[:, 1], c=values, s=values, cmap=pl.cm.Greens)\n",
      "pl.axis('tight');"
     ],
     "language": "python",
     "metadata": {},
     "outputs": [],
     "prompt_number": 3
    },
    {
     "cell_type": "code",
     "collapsed": false,
     "input": [
      "def get_heatmap(points):\n",
      "      image = np.zeros((256, 256))\n",
      "      for x, y in points:\n",
      "          image[y, x] += 1\n",
      "      return scipy.ndimage.gaussian_filter(image, (10, 10))\n",
      "pl.scatter(points[:, 0], points[:, 1], c=values, s=values, cmap=pl.cm.Greens)\n",
      "pl.axis('tight');        \n",
      "pl.imshow(get_heatmap(points), origin='lower');\n",
      "pl.show()"
     ],
     "language": "python",
     "metadata": {},
     "outputs": [],
     "prompt_number": "*"
    },
    {
     "cell_type": "code",
     "collapsed": false,
     "input": [],
     "language": "python",
     "metadata": {},
     "outputs": []
    }
   ],
   "metadata": {}
  }
 ]
}